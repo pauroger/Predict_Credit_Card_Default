{
 "cells": [
  {
   "cell_type": "markdown",
   "metadata": {},
   "source": [
    "[![https://gyazo.com/4c20b38b3c25155465c9a9a1440c47b2](https://i.gyazo.com/4c20b38b3c25155465c9a9a1440c47b2.png)](https://gyazo.com/4c20b38b3c25155465c9a9a1440c47b2)\n",
    "\n",
    "## Predict Credit Card Default - Modelling\n",
    "\n",
    "\n",
    "                                                          Pau Roger Puig-Sureda\n",
    "                                                          08/06/2018"
   ]
  },
  {
   "cell_type": "markdown",
   "metadata": {},
   "source": [
    "### Import Libraries"
   ]
  },
  {
   "cell_type": "code",
   "execution_count": 2,
   "metadata": {},
   "outputs": [
    {
     "name": "stderr",
     "output_type": "stream",
     "text": [
      "Using TensorFlow backend.\n"
     ]
    }
   ],
   "source": [
    "import numpy as np\n",
    "import pandas as pd\n",
    "import matplotlib as mp\n",
    "import matplotlib.pyplot as plt\n",
    "import seaborn as sns\n",
    "from collections import Counter\n",
    "from scipy import stats\n",
    "%matplotlib inline\n",
    "import warnings\n",
    "warnings.filterwarnings('ignore')\n",
    "import itertools\n",
    "from sklearn.metrics import roc_curve, auc, roc_auc_score, log_loss, accuracy_score, confusion_matrix\n",
    "from sklearn.model_selection import GridSearchCV, RandomizedSearchCV, train_test_split, cross_val_score\n",
    "from sklearn import linear_model\n",
    "import tensorflow as tf\n",
    "from  keras.models  import Sequential\n",
    "from keras.layers.core import Dense, Activation, Dropout\n",
    "import xgboost as xgb\n",
    "from xgboost import XGBClassifier\n",
    "import gc\n",
    "from sklearn import tree\n",
    "from sklearn.ensemble import RandomForestClassifier\n",
    "from sklearn.metrics import accuracy_score"
   ]
  },
  {
   "cell_type": "markdown",
   "metadata": {},
   "source": [
    "### Import Data"
   ]
  },
  {
   "cell_type": "code",
   "execution_count": 3,
   "metadata": {},
   "outputs": [
    {
     "data": {
      "text/html": [
       "<div>\n",
       "<style scoped>\n",
       "    .dataframe tbody tr th:only-of-type {\n",
       "        vertical-align: middle;\n",
       "    }\n",
       "\n",
       "    .dataframe tbody tr th {\n",
       "        vertical-align: top;\n",
       "    }\n",
       "\n",
       "    .dataframe thead th {\n",
       "        text-align: right;\n",
       "    }\n",
       "</style>\n",
       "<table border=\"1\" class=\"dataframe\">\n",
       "  <thead>\n",
       "    <tr style=\"text-align: right;\">\n",
       "      <th></th>\n",
       "      <th>age</th>\n",
       "      <th>channel</th>\n",
       "      <th>indBadDebt</th>\n",
       "      <th>indBadLocation</th>\n",
       "      <th>indCreditBureau</th>\n",
       "      <th>indInternet</th>\n",
       "      <th>indSimin</th>\n",
       "      <th>indXlist</th>\n",
       "      <th>numLoans</th>\n",
       "      <th>numMortgages</th>\n",
       "      <th>previous</th>\n",
       "      <th>salary</th>\n",
       "      <th>sex</th>\n",
       "      <th>status</th>\n",
       "      <th>target</th>\n",
       "      <th>binned_externalScore</th>\n",
       "      <th>binned_ExternalDefault</th>\n",
       "      <th>2_or_more_acc</th>\n",
       "    </tr>\n",
       "  </thead>\n",
       "  <tbody>\n",
       "    <tr>\n",
       "      <th>0</th>\n",
       "      <td>23.0</td>\n",
       "      <td>External Agent</td>\n",
       "      <td>1</td>\n",
       "      <td>0</td>\n",
       "      <td>0</td>\n",
       "      <td>1</td>\n",
       "      <td>0</td>\n",
       "      <td>0</td>\n",
       "      <td>Unknown</td>\n",
       "      <td>Unknown</td>\n",
       "      <td>Normal</td>\n",
       "      <td>1200</td>\n",
       "      <td>0</td>\n",
       "      <td>Single</td>\n",
       "      <td>1.0</td>\n",
       "      <td>1.0</td>\n",
       "      <td>1.0</td>\n",
       "      <td>0</td>\n",
       "    </tr>\n",
       "    <tr>\n",
       "      <th>1</th>\n",
       "      <td>27.0</td>\n",
       "      <td>External Agent</td>\n",
       "      <td>0</td>\n",
       "      <td>0</td>\n",
       "      <td>0</td>\n",
       "      <td>1</td>\n",
       "      <td>1</td>\n",
       "      <td>0</td>\n",
       "      <td>1.0</td>\n",
       "      <td>0.0</td>\n",
       "      <td>Restructuring</td>\n",
       "      <td>1750</td>\n",
       "      <td>1</td>\n",
       "      <td>Single</td>\n",
       "      <td>0.0</td>\n",
       "      <td>3.0</td>\n",
       "      <td>3.0</td>\n",
       "      <td>0</td>\n",
       "    </tr>\n",
       "    <tr>\n",
       "      <th>2</th>\n",
       "      <td>28.0</td>\n",
       "      <td>External Agent</td>\n",
       "      <td>0</td>\n",
       "      <td>0</td>\n",
       "      <td>0</td>\n",
       "      <td>1</td>\n",
       "      <td>0</td>\n",
       "      <td>0</td>\n",
       "      <td>2.0</td>\n",
       "      <td>0.0</td>\n",
       "      <td>Restructuring</td>\n",
       "      <td>1750</td>\n",
       "      <td>1</td>\n",
       "      <td>Single</td>\n",
       "      <td>1.0</td>\n",
       "      <td>3.0</td>\n",
       "      <td>3.0</td>\n",
       "      <td>0</td>\n",
       "    </tr>\n",
       "  </tbody>\n",
       "</table>\n",
       "</div>"
      ],
      "text/plain": [
       "    age         channel  indBadDebt  indBadLocation  indCreditBureau  \\\n",
       "0  23.0  External Agent           1               0                0   \n",
       "1  27.0  External Agent           0               0                0   \n",
       "2  28.0  External Agent           0               0                0   \n",
       "\n",
       "   indInternet  indSimin  indXlist numLoans numMortgages       previous  \\\n",
       "0            1         0         0  Unknown      Unknown         Normal   \n",
       "1            1         1         0      1.0          0.0  Restructuring   \n",
       "2            1         0         0      2.0          0.0  Restructuring   \n",
       "\n",
       "   salary  sex  status  target binned_externalScore  binned_ExternalDefault  \\\n",
       "0    1200    0  Single     1.0                  1.0                     1.0   \n",
       "1    1750    1  Single     0.0                  3.0                     3.0   \n",
       "2    1750    1  Single     1.0                  3.0                     3.0   \n",
       "\n",
       "   2_or_more_acc  \n",
       "0              0  \n",
       "1              0  \n",
       "2              0  "
      ]
     },
     "execution_count": 3,
     "metadata": {},
     "output_type": "execute_result"
    }
   ],
   "source": [
    "train = pd.read_csv('challengeTrain.csv')\n",
    "data = pd.read_csv('cleaned_data.csv')\n",
    "data.head(3)"
   ]
  },
  {
   "cell_type": "code",
   "execution_count": 4,
   "metadata": {},
   "outputs": [
    {
     "data": {
      "text/html": [
       "<div>\n",
       "<style scoped>\n",
       "    .dataframe tbody tr th:only-of-type {\n",
       "        vertical-align: middle;\n",
       "    }\n",
       "\n",
       "    .dataframe tbody tr th {\n",
       "        vertical-align: top;\n",
       "    }\n",
       "\n",
       "    .dataframe thead th {\n",
       "        text-align: right;\n",
       "    }\n",
       "</style>\n",
       "<table border=\"1\" class=\"dataframe\">\n",
       "  <thead>\n",
       "    <tr style=\"text-align: right;\">\n",
       "      <th></th>\n",
       "      <th>age</th>\n",
       "      <th>indBadDebt</th>\n",
       "      <th>indBadLocation</th>\n",
       "      <th>indCreditBureau</th>\n",
       "      <th>indInternet</th>\n",
       "      <th>indSimin</th>\n",
       "      <th>indXlist</th>\n",
       "      <th>salary</th>\n",
       "      <th>sex</th>\n",
       "      <th>target</th>\n",
       "      <th>binned_ExternalDefault</th>\n",
       "      <th>2_or_more_acc</th>\n",
       "    </tr>\n",
       "  </thead>\n",
       "  <tbody>\n",
       "    <tr>\n",
       "      <th>count</th>\n",
       "      <td>697252.000000</td>\n",
       "      <td>697252.000000</td>\n",
       "      <td>697252.000000</td>\n",
       "      <td>697252.000000</td>\n",
       "      <td>697252.000000</td>\n",
       "      <td>697252.000000</td>\n",
       "      <td>697252.000000</td>\n",
       "      <td>697252.000000</td>\n",
       "      <td>697252.000000</td>\n",
       "      <td>522939.000000</td>\n",
       "      <td>697252.000000</td>\n",
       "      <td>697252.000000</td>\n",
       "    </tr>\n",
       "    <tr>\n",
       "      <th>mean</th>\n",
       "      <td>38.769474</td>\n",
       "      <td>0.290760</td>\n",
       "      <td>0.169547</td>\n",
       "      <td>0.042372</td>\n",
       "      <td>0.775035</td>\n",
       "      <td>0.098779</td>\n",
       "      <td>0.053629</td>\n",
       "      <td>1507.275849</td>\n",
       "      <td>0.372502</td>\n",
       "      <td>0.340265</td>\n",
       "      <td>2.384058</td>\n",
       "      <td>0.027918</td>\n",
       "    </tr>\n",
       "    <tr>\n",
       "      <th>std</th>\n",
       "      <td>13.753097</td>\n",
       "      <td>0.454113</td>\n",
       "      <td>0.375235</td>\n",
       "      <td>0.201437</td>\n",
       "      <td>0.417559</td>\n",
       "      <td>0.298366</td>\n",
       "      <td>0.225284</td>\n",
       "      <td>1059.008536</td>\n",
       "      <td>0.483471</td>\n",
       "      <td>0.473799</td>\n",
       "      <td>0.961865</td>\n",
       "      <td>0.164739</td>\n",
       "    </tr>\n",
       "    <tr>\n",
       "      <th>min</th>\n",
       "      <td>18.000000</td>\n",
       "      <td>0.000000</td>\n",
       "      <td>0.000000</td>\n",
       "      <td>0.000000</td>\n",
       "      <td>0.000000</td>\n",
       "      <td>0.000000</td>\n",
       "      <td>0.000000</td>\n",
       "      <td>0.000000</td>\n",
       "      <td>0.000000</td>\n",
       "      <td>0.000000</td>\n",
       "      <td>0.000000</td>\n",
       "      <td>0.000000</td>\n",
       "    </tr>\n",
       "    <tr>\n",
       "      <th>25%</th>\n",
       "      <td>28.000000</td>\n",
       "      <td>0.000000</td>\n",
       "      <td>0.000000</td>\n",
       "      <td>0.000000</td>\n",
       "      <td>1.000000</td>\n",
       "      <td>0.000000</td>\n",
       "      <td>0.000000</td>\n",
       "      <td>1200.000000</td>\n",
       "      <td>0.000000</td>\n",
       "      <td>0.000000</td>\n",
       "      <td>1.000000</td>\n",
       "      <td>0.000000</td>\n",
       "    </tr>\n",
       "    <tr>\n",
       "      <th>50%</th>\n",
       "      <td>36.000000</td>\n",
       "      <td>0.000000</td>\n",
       "      <td>0.000000</td>\n",
       "      <td>0.000000</td>\n",
       "      <td>1.000000</td>\n",
       "      <td>0.000000</td>\n",
       "      <td>0.000000</td>\n",
       "      <td>1200.000000</td>\n",
       "      <td>0.000000</td>\n",
       "      <td>0.000000</td>\n",
       "      <td>3.000000</td>\n",
       "      <td>0.000000</td>\n",
       "    </tr>\n",
       "    <tr>\n",
       "      <th>75%</th>\n",
       "      <td>47.000000</td>\n",
       "      <td>1.000000</td>\n",
       "      <td>0.000000</td>\n",
       "      <td>0.000000</td>\n",
       "      <td>1.000000</td>\n",
       "      <td>0.000000</td>\n",
       "      <td>0.000000</td>\n",
       "      <td>1400.000000</td>\n",
       "      <td>1.000000</td>\n",
       "      <td>1.000000</td>\n",
       "      <td>3.000000</td>\n",
       "      <td>0.000000</td>\n",
       "    </tr>\n",
       "    <tr>\n",
       "      <th>max</th>\n",
       "      <td>111.000000</td>\n",
       "      <td>1.000000</td>\n",
       "      <td>1.000000</td>\n",
       "      <td>1.000000</td>\n",
       "      <td>1.000000</td>\n",
       "      <td>1.000000</td>\n",
       "      <td>1.000000</td>\n",
       "      <td>9000.000000</td>\n",
       "      <td>1.000000</td>\n",
       "      <td>1.000000</td>\n",
       "      <td>3.000000</td>\n",
       "      <td>1.000000</td>\n",
       "    </tr>\n",
       "  </tbody>\n",
       "</table>\n",
       "</div>"
      ],
      "text/plain": [
       "                 age     indBadDebt  indBadLocation  indCreditBureau  \\\n",
       "count  697252.000000  697252.000000   697252.000000    697252.000000   \n",
       "mean       38.769474       0.290760        0.169547         0.042372   \n",
       "std        13.753097       0.454113        0.375235         0.201437   \n",
       "min        18.000000       0.000000        0.000000         0.000000   \n",
       "25%        28.000000       0.000000        0.000000         0.000000   \n",
       "50%        36.000000       0.000000        0.000000         0.000000   \n",
       "75%        47.000000       1.000000        0.000000         0.000000   \n",
       "max       111.000000       1.000000        1.000000         1.000000   \n",
       "\n",
       "         indInternet       indSimin       indXlist         salary  \\\n",
       "count  697252.000000  697252.000000  697252.000000  697252.000000   \n",
       "mean        0.775035       0.098779       0.053629    1507.275849   \n",
       "std         0.417559       0.298366       0.225284    1059.008536   \n",
       "min         0.000000       0.000000       0.000000       0.000000   \n",
       "25%         1.000000       0.000000       0.000000    1200.000000   \n",
       "50%         1.000000       0.000000       0.000000    1200.000000   \n",
       "75%         1.000000       0.000000       0.000000    1400.000000   \n",
       "max         1.000000       1.000000       1.000000    9000.000000   \n",
       "\n",
       "                 sex         target  binned_ExternalDefault  2_or_more_acc  \n",
       "count  697252.000000  522939.000000           697252.000000  697252.000000  \n",
       "mean        0.372502       0.340265                2.384058       0.027918  \n",
       "std         0.483471       0.473799                0.961865       0.164739  \n",
       "min         0.000000       0.000000                0.000000       0.000000  \n",
       "25%         0.000000       0.000000                1.000000       0.000000  \n",
       "50%         0.000000       0.000000                3.000000       0.000000  \n",
       "75%         1.000000       1.000000                3.000000       0.000000  \n",
       "max         1.000000       1.000000                3.000000       1.000000  "
      ]
     },
     "execution_count": 4,
     "metadata": {},
     "output_type": "execute_result"
    }
   ],
   "source": [
    "data.describe()"
   ]
  },
  {
   "cell_type": "code",
   "execution_count": 5,
   "metadata": {},
   "outputs": [],
   "source": [
    "target = data['target']"
   ]
  },
  {
   "cell_type": "code",
   "execution_count": 6,
   "metadata": {},
   "outputs": [
    {
     "data": {
      "text/plain": [
       "174313"
      ]
     },
     "execution_count": 6,
     "metadata": {},
     "output_type": "execute_result"
    }
   ],
   "source": [
    "target.isnull().sum()"
   ]
  },
  {
   "cell_type": "code",
   "execution_count": 7,
   "metadata": {},
   "outputs": [
    {
     "data": {
      "text/plain": [
       "(697252, 18)"
      ]
     },
     "execution_count": 7,
     "metadata": {},
     "output_type": "execute_result"
    }
   ],
   "source": [
    "data.shape"
   ]
  },
  {
   "cell_type": "code",
   "execution_count": 8,
   "metadata": {},
   "outputs": [
    {
     "data": {
      "text/html": [
       "<div>\n",
       "<style scoped>\n",
       "    .dataframe tbody tr th:only-of-type {\n",
       "        vertical-align: middle;\n",
       "    }\n",
       "\n",
       "    .dataframe tbody tr th {\n",
       "        vertical-align: top;\n",
       "    }\n",
       "\n",
       "    .dataframe thead th {\n",
       "        text-align: right;\n",
       "    }\n",
       "</style>\n",
       "<table border=\"1\" class=\"dataframe\">\n",
       "  <thead>\n",
       "    <tr style=\"text-align: right;\">\n",
       "      <th></th>\n",
       "      <th>age</th>\n",
       "      <th>channel</th>\n",
       "      <th>indBadDebt</th>\n",
       "      <th>indBadLocation</th>\n",
       "      <th>indCreditBureau</th>\n",
       "      <th>indInternet</th>\n",
       "      <th>indSimin</th>\n",
       "      <th>indXlist</th>\n",
       "      <th>numLoans</th>\n",
       "      <th>numMortgages</th>\n",
       "      <th>previous</th>\n",
       "      <th>salary</th>\n",
       "      <th>sex</th>\n",
       "      <th>status</th>\n",
       "      <th>target</th>\n",
       "      <th>binned_externalScore</th>\n",
       "      <th>binned_ExternalDefault</th>\n",
       "      <th>2_or_more_acc</th>\n",
       "    </tr>\n",
       "  </thead>\n",
       "  <tbody>\n",
       "    <tr>\n",
       "      <th>0</th>\n",
       "      <td>23.0</td>\n",
       "      <td>External Agent</td>\n",
       "      <td>1</td>\n",
       "      <td>0</td>\n",
       "      <td>0</td>\n",
       "      <td>1</td>\n",
       "      <td>0</td>\n",
       "      <td>0</td>\n",
       "      <td>Unknown</td>\n",
       "      <td>Unknown</td>\n",
       "      <td>Normal</td>\n",
       "      <td>1200</td>\n",
       "      <td>0</td>\n",
       "      <td>Single</td>\n",
       "      <td>1.0</td>\n",
       "      <td>1.0</td>\n",
       "      <td>1.0</td>\n",
       "      <td>0</td>\n",
       "    </tr>\n",
       "    <tr>\n",
       "      <th>1</th>\n",
       "      <td>27.0</td>\n",
       "      <td>External Agent</td>\n",
       "      <td>0</td>\n",
       "      <td>0</td>\n",
       "      <td>0</td>\n",
       "      <td>1</td>\n",
       "      <td>1</td>\n",
       "      <td>0</td>\n",
       "      <td>1.0</td>\n",
       "      <td>0.0</td>\n",
       "      <td>Restructuring</td>\n",
       "      <td>1750</td>\n",
       "      <td>1</td>\n",
       "      <td>Single</td>\n",
       "      <td>0.0</td>\n",
       "      <td>3.0</td>\n",
       "      <td>3.0</td>\n",
       "      <td>0</td>\n",
       "    </tr>\n",
       "    <tr>\n",
       "      <th>2</th>\n",
       "      <td>28.0</td>\n",
       "      <td>External Agent</td>\n",
       "      <td>0</td>\n",
       "      <td>0</td>\n",
       "      <td>0</td>\n",
       "      <td>1</td>\n",
       "      <td>0</td>\n",
       "      <td>0</td>\n",
       "      <td>2.0</td>\n",
       "      <td>0.0</td>\n",
       "      <td>Restructuring</td>\n",
       "      <td>1750</td>\n",
       "      <td>1</td>\n",
       "      <td>Single</td>\n",
       "      <td>1.0</td>\n",
       "      <td>3.0</td>\n",
       "      <td>3.0</td>\n",
       "      <td>0</td>\n",
       "    </tr>\n",
       "    <tr>\n",
       "      <th>3</th>\n",
       "      <td>45.0</td>\n",
       "      <td>Call Center</td>\n",
       "      <td>0</td>\n",
       "      <td>0</td>\n",
       "      <td>0</td>\n",
       "      <td>0</td>\n",
       "      <td>0</td>\n",
       "      <td>0</td>\n",
       "      <td>1.0</td>\n",
       "      <td>0.0</td>\n",
       "      <td>Unpaid</td>\n",
       "      <td>1200</td>\n",
       "      <td>1</td>\n",
       "      <td>Single</td>\n",
       "      <td>1.0</td>\n",
       "      <td>3.0</td>\n",
       "      <td>3.0</td>\n",
       "      <td>0</td>\n",
       "    </tr>\n",
       "    <tr>\n",
       "      <th>4</th>\n",
       "      <td>28.0</td>\n",
       "      <td>External Agent</td>\n",
       "      <td>0</td>\n",
       "      <td>0</td>\n",
       "      <td>0</td>\n",
       "      <td>1</td>\n",
       "      <td>0</td>\n",
       "      <td>0</td>\n",
       "      <td>Unknown</td>\n",
       "      <td>Unknown</td>\n",
       "      <td>Normal</td>\n",
       "      <td>850</td>\n",
       "      <td>0</td>\n",
       "      <td>Unknown</td>\n",
       "      <td>0.0</td>\n",
       "      <td>3.0</td>\n",
       "      <td>3.0</td>\n",
       "      <td>0</td>\n",
       "    </tr>\n",
       "  </tbody>\n",
       "</table>\n",
       "</div>"
      ],
      "text/plain": [
       "    age         channel  indBadDebt  indBadLocation  indCreditBureau  \\\n",
       "0  23.0  External Agent           1               0                0   \n",
       "1  27.0  External Agent           0               0                0   \n",
       "2  28.0  External Agent           0               0                0   \n",
       "3  45.0     Call Center           0               0                0   \n",
       "4  28.0  External Agent           0               0                0   \n",
       "\n",
       "   indInternet  indSimin  indXlist numLoans numMortgages       previous  \\\n",
       "0            1         0         0  Unknown      Unknown         Normal   \n",
       "1            1         1         0      1.0          0.0  Restructuring   \n",
       "2            1         0         0      2.0          0.0  Restructuring   \n",
       "3            0         0         0      1.0          0.0         Unpaid   \n",
       "4            1         0         0  Unknown      Unknown         Normal   \n",
       "\n",
       "   salary  sex   status  target binned_externalScore  binned_ExternalDefault  \\\n",
       "0    1200    0   Single     1.0                  1.0                     1.0   \n",
       "1    1750    1   Single     0.0                  3.0                     3.0   \n",
       "2    1750    1   Single     1.0                  3.0                     3.0   \n",
       "3    1200    1   Single     1.0                  3.0                     3.0   \n",
       "4     850    0  Unknown     0.0                  3.0                     3.0   \n",
       "\n",
       "   2_or_more_acc  \n",
       "0              0  \n",
       "1              0  \n",
       "2              0  \n",
       "3              0  \n",
       "4              0  "
      ]
     },
     "execution_count": 8,
     "metadata": {},
     "output_type": "execute_result"
    }
   ],
   "source": [
    "data.head()"
   ]
  },
  {
   "cell_type": "markdown",
   "metadata": {},
   "source": [
    "**dataNT** is a new dataframe without the target variable, since it is the only variable that I do not want to neither dummify it nor normalize it."
   ]
  },
  {
   "cell_type": "code",
   "execution_count": 9,
   "metadata": {},
   "outputs": [
    {
     "data": {
      "text/plain": [
       "(697252, 17)"
      ]
     },
     "execution_count": 9,
     "metadata": {},
     "output_type": "execute_result"
    }
   ],
   "source": [
    "dataNT = data.drop(columns='target')\n",
    "dataNT.shape"
   ]
  },
  {
   "cell_type": "markdown",
   "metadata": {},
   "source": [
    "Making sure that there are no remainning NA's and the target variable is not present."
   ]
  },
  {
   "cell_type": "code",
   "execution_count": 10,
   "metadata": {},
   "outputs": [
    {
     "data": {
      "text/plain": [
       "age                       0\n",
       "channel                   0\n",
       "indBadDebt                0\n",
       "indBadLocation            0\n",
       "indCreditBureau           0\n",
       "indInternet               0\n",
       "indSimin                  0\n",
       "indXlist                  0\n",
       "numLoans                  0\n",
       "numMortgages              0\n",
       "previous                  0\n",
       "salary                    0\n",
       "sex                       0\n",
       "status                    0\n",
       "binned_externalScore      0\n",
       "binned_ExternalDefault    0\n",
       "2_or_more_acc             0\n",
       "dtype: int64"
      ]
     },
     "execution_count": 10,
     "metadata": {},
     "output_type": "execute_result"
    }
   ],
   "source": [
    "dataNT.isnull().sum()"
   ]
  },
  {
   "cell_type": "markdown",
   "metadata": {},
   "source": [
    "With the next bit of code I will dummify all the factor variables."
   ]
  },
  {
   "cell_type": "code",
   "execution_count": 11,
   "metadata": {
    "scrolled": false
   },
   "outputs": [],
   "source": [
    "dummy_data = pd.get_dummies(dataNT)"
   ]
  },
  {
   "cell_type": "code",
   "execution_count": 12,
   "metadata": {},
   "outputs": [
    {
     "data": {
      "text/plain": [
       "(697252, 52)"
      ]
     },
     "execution_count": 12,
     "metadata": {},
     "output_type": "execute_result"
    }
   ],
   "source": [
    "dummy_data.shape"
   ]
  },
  {
   "cell_type": "markdown",
   "metadata": {},
   "source": [
    "After doing so, I go from 17 features to 52."
   ]
  },
  {
   "cell_type": "markdown",
   "metadata": {},
   "source": [
    "#### Normalize Data"
   ]
  },
  {
   "cell_type": "code",
   "execution_count": 13,
   "metadata": {},
   "outputs": [],
   "source": [
    "def feature_normalize(dataset):\n",
    "    mu = np.mean(dataset, axis=0)\n",
    "    sigma = np.std(dataset, axis=0)\n",
    "    return (dataset - mu)/sigma"
   ]
  },
  {
   "cell_type": "code",
   "execution_count": 14,
   "metadata": {
    "scrolled": true
   },
   "outputs": [
    {
     "data": {
      "text/plain": [
       "(697252, 52)"
      ]
     },
     "execution_count": 14,
     "metadata": {},
     "output_type": "execute_result"
    }
   ],
   "source": [
    "data = feature_normalize(dummy_data)\n",
    "data.shape"
   ]
  },
  {
   "cell_type": "markdown",
   "metadata": {},
   "source": [
    "Once the factor dummies are inputted and all the variables normalized, I reattach the target variable to the dataset."
   ]
  },
  {
   "cell_type": "code",
   "execution_count": 15,
   "metadata": {},
   "outputs": [
    {
     "data": {
      "text/plain": [
       "(697252, 53)"
      ]
     },
     "execution_count": 15,
     "metadata": {},
     "output_type": "execute_result"
    }
   ],
   "source": [
    "data = dummy_data.join(target)\n",
    "data.shape"
   ]
  },
  {
   "cell_type": "markdown",
   "metadata": {},
   "source": [
    "### Split dataset again into train and test"
   ]
  },
  {
   "cell_type": "code",
   "execution_count": 16,
   "metadata": {},
   "outputs": [],
   "source": [
    "ctrain = data[data['target'].notnull()]\n",
    "ctest = data[data['target'].isnull()]"
   ]
  },
  {
   "cell_type": "markdown",
   "metadata": {},
   "source": [
    "A model that would output all zeros would have an accuracy of a little over **66%**, which makes it a pretty difficult task for the next classifiers. However let's see how they perform.\n",
    "\n",
    "I will point out that, in these problems where most of the instances are in one category the **accuracy** is not the best evaluation metric, instead I will focus on the area under the curve (**auc**)."
   ]
  },
  {
   "cell_type": "markdown",
   "metadata": {},
   "source": [
    "#### Functions for Evaluation of the model."
   ]
  },
  {
   "cell_type": "code",
   "execution_count": 17,
   "metadata": {},
   "outputs": [],
   "source": [
    "def plot_cm(ax, y_true, y_pred, classes, title, th=0.5, cmap=plt.cm.Blues):\n",
    "    y_pred_labels = (y_pred>th).astype(int)\n",
    "    \n",
    "    cm = confusion_matrix(y_true, y_pred_labels)\n",
    "    \n",
    "    im = ax.imshow(cm, interpolation='nearest', cmap=cmap)\n",
    "    ax.set_title(title)\n",
    "\n",
    "    tick_marks = np.arange(len(classes))\n",
    "    ax.set_xticks(tick_marks)\n",
    "    ax.set_yticks(tick_marks)\n",
    "    ax.set_xticklabels(classes)\n",
    "    ax.set_yticklabels(classes)\n",
    "\n",
    "    thresh = cm.max() / 2.\n",
    "    for i, j in itertools.product(range(cm.shape[0]), range(cm.shape[1])):\n",
    "        ax.text(j, i, cm[i, j],\n",
    "                 horizontalalignment=\"center\",\n",
    "                 color=\"white\" if cm[i, j] > thresh else \"black\")\n",
    "    ax.set_ylabel('True label')\n",
    "    ax.set_xlabel('Predicted label')\n",
    "\n",
    "def plot_auc(ax, y_train, y_train_pred, y_test, y_test_pred, th=0.5):\n",
    "\n",
    "    y_train_pred_labels = (y_train_pred>th).astype(int)\n",
    "    y_test_pred_labels  = (y_test_pred>th).astype(int)\n",
    "\n",
    "    fpr_train, tpr_train, _ = roc_curve(y_train,y_train_pred)\n",
    "    roc_auc_train = auc(fpr_train, tpr_train)\n",
    "    acc_train = accuracy_score(y_train, y_train_pred_labels)\n",
    "\n",
    "    fpr_test, tpr_test, _ = roc_curve(y_test,y_test_pred)\n",
    "    roc_auc_test = auc(fpr_test, tpr_test)\n",
    "    acc_test = accuracy_score(y_test, y_test_pred_labels)\n",
    "\n",
    "    ax.plot(fpr_train, tpr_train)\n",
    "    ax.plot(fpr_test, tpr_test)\n",
    "\n",
    "    ax.plot([0, 1], [0, 1], 'k--')\n",
    "\n",
    "    ax.set_xlim([0.0, 1.0])\n",
    "    ax.set_ylim([0.0, 1.05])\n",
    "    ax.set_xlabel('False Positive Rate')\n",
    "    ax.set_ylabel('True Positive Rate')\n",
    "    ax.set_title('ROC curve')\n",
    "    \n",
    "    train_text = 'train acc = {:.3f}, auc = {:.2f}'.format(acc_train, roc_auc_train)\n",
    "    test_text = 'test acc = {:.3f}, auc = {:.2f}'.format(acc_test, roc_auc_test)\n",
    "    ax.legend([train_text, test_text])"
   ]
  },
  {
   "cell_type": "markdown",
   "metadata": {},
   "source": [
    "## Modeling"
   ]
  },
  {
   "cell_type": "markdown",
   "metadata": {},
   "source": [
    "First, I will split the trainning set into **train** ('X' and 'y' train) and **validation** ('X' and 'y' test)."
   ]
  },
  {
   "cell_type": "code",
   "execution_count": 18,
   "metadata": {},
   "outputs": [
    {
     "name": "stdout",
     "output_type": "stream",
     "text": [
      "(418351, 52) (418351,)\n",
      "(104588, 52) (104588,)\n"
     ]
    }
   ],
   "source": [
    "X_train, X_test, y_train, y_test = train_test_split(ctrain.drop('target',axis=1), ctrain['target'], random_state=111, test_size=0.2)\n",
    "print (X_train.shape, y_train.shape)\n",
    "print (X_test.shape, y_test.shape)"
   ]
  },
  {
   "cell_type": "markdown",
   "metadata": {},
   "source": [
    "I tried to apply the SMOTEENN function to balance the trainning dataset, which returned a staggering 95% AUC. However, the unavailability of doing transformations on the test dataset set makes the model very overfitted and not useful for predictions."
   ]
  },
  {
   "cell_type": "code",
   "execution_count": 19,
   "metadata": {},
   "outputs": [],
   "source": [
    "#Apply SMOTEENN technique to balance dataset\n",
    "#se = SMOTEENN(random_state=12, ratio = 'auto')\n",
    "#x_train_res, y_train_res = se.fit_sample(Train, np.ravel(Target))"
   ]
  },
  {
   "cell_type": "markdown",
   "metadata": {},
   "source": [
    "### Logistic Regression / Model Baseline"
   ]
  },
  {
   "cell_type": "code",
   "execution_count": 20,
   "metadata": {},
   "outputs": [
    {
     "data": {
      "text/plain": [
       "LogisticRegression(C=100000.0, class_weight=None, dual=False,\n",
       "          fit_intercept=True, intercept_scaling=1, max_iter=100,\n",
       "          multi_class='ovr', n_jobs=1, penalty='l2', random_state=None,\n",
       "          solver='liblinear', tol=0.0001, verbose=0, warm_start=False)"
      ]
     },
     "execution_count": 20,
     "metadata": {},
     "output_type": "execute_result"
    }
   ],
   "source": [
    "logreg = linear_model.LogisticRegression(C=1e5)\n",
    "logreg.fit(X_train, y_train)"
   ]
  },
  {
   "cell_type": "code",
   "execution_count": 21,
   "metadata": {},
   "outputs": [
    {
     "data": {
      "text/plain": [
       "array([0.69651288, 0.69983355, 0.69338514])"
      ]
     },
     "execution_count": 21,
     "metadata": {},
     "output_type": "execute_result"
    }
   ],
   "source": [
    "cross_val_score(logreg, X_test, y_test, scoring='roc_auc')"
   ]
  },
  {
   "cell_type": "code",
   "execution_count": 22,
   "metadata": {},
   "outputs": [
    {
     "data": {
      "image/png": "[encoded data removed]",
      "text/plain": [
       "<Figure size 1440x504 with 3 Axes>"
      ]
     },
     "metadata": {},
     "output_type": "display_data"
    }
   ],
   "source": [
    "from sklearn.metrics import roc_curve, auc, roc_auc_score, log_loss, accuracy_score\n",
    "\n",
    "threshold = 0.5\n",
    "y_train_pred = logreg.predict_proba(X_train)[:,1]\n",
    "y_test_pred = logreg.predict_proba(X_test)[:,1]\n",
    "\n",
    "fig,ax = plt.subplots(1,3)\n",
    "fig.set_size_inches(20,7)\n",
    "\n",
    "plot_cm(ax[0],  y_train, y_train_pred, [0,1], 'Confusion matrix (Train)', threshold)\n",
    "plot_cm(ax[1],  y_test, y_test_pred,   [0,1], 'Confusion matrix (Validation)', threshold)\n",
    "plot_auc(ax[2], y_train, y_train_pred, y_test, y_test_pred, threshold)\n",
    "    \n",
    "plt.tight_layout()\n",
    "plt.show()"
   ]
  },
  {
   "cell_type": "markdown",
   "metadata": {},
   "source": [
    "The logistic regression outputs almost 70% of the instances under the curve. Let's see if more complex models are able to beat this."
   ]
  },
  {
   "cell_type": "markdown",
   "metadata": {},
   "source": [
    "### Random Forest"
   ]
  },
  {
   "cell_type": "code",
   "execution_count": 23,
   "metadata": {},
   "outputs": [],
   "source": [
    "rf = RandomForestClassifier()"
   ]
  },
  {
   "cell_type": "code",
   "execution_count": 24,
   "metadata": {},
   "outputs": [],
   "source": [
    "parameter_dist = dict(n_estimators=[176,177,178,179,180,185],\n",
    "                     max_features=['log2', 'sqrt'],\n",
    "                     min_samples_split=[173,174,175,176,180,185],\n",
    "                     n_jobs=[-1])"
   ]
  },
  {
   "cell_type": "code",
   "execution_count": 25,
   "metadata": {},
   "outputs": [
    {
     "data": {
      "text/plain": [
       "{'n_jobs': -1,\n",
       " 'n_estimators': 180,\n",
       " 'min_samples_split': 176,\n",
       " 'max_features': 'sqrt'}"
      ]
     },
     "execution_count": 25,
     "metadata": {},
     "output_type": "execute_result"
    }
   ],
   "source": [
    "ccc = RandomizedSearchCV(rf, param_distributions = parameter_dist, n_iter=32)\n",
    "\n",
    "ccc.fit(X_train, y_train)\n",
    "\n",
    "ccc.best_params_"
   ]
  },
  {
   "cell_type": "code",
   "execution_count": 26,
   "metadata": {},
   "outputs": [
    {
     "data": {
      "text/plain": [
       "0.698602"
      ]
     },
     "execution_count": 26,
     "metadata": {},
     "output_type": "execute_result"
    }
   ],
   "source": [
    "ccc.best_score_.round(6)"
   ]
  },
  {
   "cell_type": "markdown",
   "metadata": {},
   "source": [
    "Optimized with previous calculated parameters."
   ]
  },
  {
   "cell_type": "code",
   "execution_count": 27,
   "metadata": {},
   "outputs": [],
   "source": [
    "clf = RandomForestClassifier(n_estimators = 179, n_jobs = -1, max_features = 'sqrt', min_samples_split = 176)"
   ]
  },
  {
   "cell_type": "markdown",
   "metadata": {},
   "source": [
    "Fitting the model."
   ]
  },
  {
   "cell_type": "code",
   "execution_count": 28,
   "metadata": {},
   "outputs": [
    {
     "data": {
      "text/plain": [
       "RandomForestClassifier(bootstrap=True, class_weight=None, criterion='gini',\n",
       "            max_depth=None, max_features='sqrt', max_leaf_nodes=None,\n",
       "            min_impurity_decrease=0.0, min_impurity_split=None,\n",
       "            min_samples_leaf=1, min_samples_split=176,\n",
       "            min_weight_fraction_leaf=0.0, n_estimators=179, n_jobs=-1,\n",
       "            oob_score=False, random_state=None, verbose=0,\n",
       "            warm_start=False)"
      ]
     },
     "execution_count": 28,
     "metadata": {},
     "output_type": "execute_result"
    }
   ],
   "source": [
    "clf.fit(X_train, y_train)"
   ]
  },
  {
   "cell_type": "code",
   "execution_count": 29,
   "metadata": {},
   "outputs": [
    {
     "data": {
      "text/plain": [
       "array([0.70812597, 0.71087511, 0.70497345])"
      ]
     },
     "execution_count": 29,
     "metadata": {},
     "output_type": "execute_result"
    }
   ],
   "source": [
    "cross_val_score(clf, X_test, y_test, scoring='roc_auc')"
   ]
  },
  {
   "cell_type": "code",
   "execution_count": 30,
   "metadata": {},
   "outputs": [
    {
     "data": {
      "image/png": "[encoded data removed]",
      "text/plain": [
       "<Figure size 1440x504 with 3 Axes>"
      ]
     },
     "metadata": {},
     "output_type": "display_data"
    }
   ],
   "source": [
    "threshold = 0.5\n",
    "y_train_pred = clf.predict_proba(X_train)[:,1]\n",
    "y_test_pred = clf.predict_proba(X_test)[:,1]\n",
    "\n",
    "fig,ax = plt.subplots(1,3)\n",
    "fig.set_size_inches(20,7)\n",
    "\n",
    "plot_cm(ax[0],  y_train, y_train_pred, [0,1], 'Confusion matrix (Train)', threshold)\n",
    "plot_cm(ax[1],  y_test, y_test_pred,   [0,1], 'Confusion matrix (Validation)', threshold)\n",
    "plot_auc(ax[2], y_train, y_train_pred, y_test, y_test_pred, threshold)\n",
    "    \n",
    "plt.tight_layout()\n",
    "plt.show()"
   ]
  },
  {
   "cell_type": "markdown",
   "metadata": {},
   "source": [
    "A little improvement is seen when applyig RF, also note that the fact that the lines on the ROC curve are a bit separated indicates a little overfitting. \n",
    "\n",
    "Let's try again with another classifier."
   ]
  },
  {
   "cell_type": "markdown",
   "metadata": {},
   "source": [
    "### XGBoost"
   ]
  },
  {
   "cell_type": "markdown",
   "metadata": {},
   "source": [
    "When only the subset of 10% of the data was uploaded I tried several options for each parameter, the ones below are the ones that returned the better score."
   ]
  },
  {
   "cell_type": "code",
   "execution_count": 31,
   "metadata": {
    "scrolled": true
   },
   "outputs": [],
   "source": [
    "param_test2 = {\n",
    " 'learning_rate':[0.1],\n",
    " 'subsample':[0.8],\n",
    " 'colsample_bytree':[0.79],\n",
    " 'max_depth':[3],\n",
    " 'min_child_weight':[4],\n",
    " 'gamma':[0.01],\n",
    " 'objective':[ 'binary:logistic'],\n",
    " 'n_estimators':[250],\n",
    " 'nthread':[1],\n",
    " 'scale_pos_weight':[1]\n",
    "}\n",
    "gsearch2 = GridSearchCV(estimator = XGBClassifier(seed=27), \n",
    "                                                  param_grid = param_test2, \n",
    "                                                  scoring='roc_auc',\n",
    "                                                  n_jobs=2,iid=False, \n",
    "                                                  cv=5)"
   ]
  },
  {
   "cell_type": "code",
   "execution_count": 32,
   "metadata": {},
   "outputs": [
    {
     "data": {
      "text/plain": [
       "({'mean_fit_time': array([105.6217257]),\n",
       "  'std_fit_time': array([7.45783976]),\n",
       "  'mean_score_time': array([0.63609982]),\n",
       "  'std_score_time': array([0.06307549]),\n",
       "  'param_colsample_bytree': masked_array(data=[0.79],\n",
       "               mask=[False],\n",
       "         fill_value='?',\n",
       "              dtype=object),\n",
       "  'param_gamma': masked_array(data=[0.01],\n",
       "               mask=[False],\n",
       "         fill_value='?',\n",
       "              dtype=object),\n",
       "  'param_learning_rate': masked_array(data=[0.1],\n",
       "               mask=[False],\n",
       "         fill_value='?',\n",
       "              dtype=object),\n",
       "  'param_max_depth': masked_array(data=[3],\n",
       "               mask=[False],\n",
       "         fill_value='?',\n",
       "              dtype=object),\n",
       "  'param_min_child_weight': masked_array(data=[4],\n",
       "               mask=[False],\n",
       "         fill_value='?',\n",
       "              dtype=object),\n",
       "  'param_n_estimators': masked_array(data=[250],\n",
       "               mask=[False],\n",
       "         fill_value='?',\n",
       "              dtype=object),\n",
       "  'param_nthread': masked_array(data=[1],\n",
       "               mask=[False],\n",
       "         fill_value='?',\n",
       "              dtype=object),\n",
       "  'param_objective': masked_array(data=['binary:logistic'],\n",
       "               mask=[False],\n",
       "         fill_value='?',\n",
       "              dtype=object),\n",
       "  'param_scale_pos_weight': masked_array(data=[1],\n",
       "               mask=[False],\n",
       "         fill_value='?',\n",
       "              dtype=object),\n",
       "  'param_subsample': masked_array(data=[0.8],\n",
       "               mask=[False],\n",
       "         fill_value='?',\n",
       "              dtype=object),\n",
       "  'params': [{'colsample_bytree': 0.79,\n",
       "    'gamma': 0.01,\n",
       "    'learning_rate': 0.1,\n",
       "    'max_depth': 3,\n",
       "    'min_child_weight': 4,\n",
       "    'n_estimators': 250,\n",
       "    'nthread': 1,\n",
       "    'objective': 'binary:logistic',\n",
       "    'scale_pos_weight': 1,\n",
       "    'subsample': 0.8}],\n",
       "  'split0_test_score': array([0.71074531]),\n",
       "  'split1_test_score': array([0.71278044]),\n",
       "  'split2_test_score': array([0.71497375]),\n",
       "  'split3_test_score': array([0.71321965]),\n",
       "  'split4_test_score': array([0.71434904]),\n",
       "  'mean_test_score': array([0.71321364]),\n",
       "  'std_test_score': array([0.00146065]),\n",
       "  'rank_test_score': array([1]),\n",
       "  'split0_train_score': array([0.71559455]),\n",
       "  'split1_train_score': array([0.7154023]),\n",
       "  'split2_train_score': array([0.7147144]),\n",
       "  'split3_train_score': array([0.71514716]),\n",
       "  'split4_train_score': array([0.71482029]),\n",
       "  'mean_train_score': array([0.71513574]),\n",
       "  'std_train_score': array([0.00033428])},\n",
       " {'colsample_bytree': 0.79,\n",
       "  'gamma': 0.01,\n",
       "  'learning_rate': 0.1,\n",
       "  'max_depth': 3,\n",
       "  'min_child_weight': 4,\n",
       "  'n_estimators': 250,\n",
       "  'nthread': 1,\n",
       "  'objective': 'binary:logistic',\n",
       "  'scale_pos_weight': 1,\n",
       "  'subsample': 0.8},\n",
       " 0.7132136365309624)"
      ]
     },
     "execution_count": 32,
     "metadata": {},
     "output_type": "execute_result"
    }
   ],
   "source": [
    "gsearch2.fit(X_train,y_train, verbose=True)\n",
    "gsearch2.cv_results_, gsearch2.best_params_, gsearch2.best_score_ "
   ]
  },
  {
   "cell_type": "code",
   "execution_count": 33,
   "metadata": {},
   "outputs": [
    {
     "data": {
      "image/png": "[encoded data removed]",
      "text/plain": [
       "<Figure size 1440x504 with 3 Axes>"
      ]
     },
     "metadata": {},
     "output_type": "display_data"
    }
   ],
   "source": [
    "threshold = 0.5\n",
    "y_train_pred = gsearch2.predict_proba(X_train)[:,1]\n",
    "y_test_pred = gsearch2.predict_proba(X_test)[:,1]\n",
    "\n",
    "fig,ax = plt.subplots(1,3)\n",
    "fig.set_size_inches(20,7)\n",
    "\n",
    "plot_cm(ax[0],  y_train, y_train_pred, [0,1], 'Confusion matrix (Train)', threshold)\n",
    "plot_cm(ax[1],  y_test, y_test_pred,   [0,1], 'Confusion matrix (Validation)', threshold)\n",
    "plot_auc(ax[2], y_train, y_train_pred, y_test, y_test_pred, threshold)\n",
    "    \n",
    "plt.tight_layout()\n",
    "plt.show()"
   ]
  },
  {
   "cell_type": "code",
   "execution_count": 34,
   "metadata": {},
   "outputs": [
    {
     "data": {
      "text/plain": [
       "array([0.7099452 , 0.71369844, 0.70761155])"
      ]
     },
     "execution_count": 34,
     "metadata": {},
     "output_type": "execute_result"
    }
   ],
   "source": [
    "cross_val_score(gsearch2, X_test, y_test, scoring='roc_auc')"
   ]
  },
  {
   "cell_type": "markdown",
   "metadata": {},
   "source": [
    "Again a little improvement on the previous models and this one is less prone to overfitting."
   ]
  },
  {
   "cell_type": "markdown",
   "metadata": {},
   "source": [
    "### SVM"
   ]
  },
  {
   "cell_type": "code",
   "execution_count": 35,
   "metadata": {},
   "outputs": [],
   "source": [
    "#from sklearn import svm\n",
    "#svm_clf = svm.SVC(C=1.0, kernel='rbf', degree=3, gamma='auto', coef0=0.0, shrinking=True, probability=True, tol=0.001, \n",
    "#                  cache_size=200, class_weight=None, verbose=True, max_iter=-1, decision_function_shape='ovr', random_state=None)\n",
    "  "
   ]
  },
  {
   "cell_type": "code",
   "execution_count": 36,
   "metadata": {},
   "outputs": [],
   "source": [
    "#svm_clf.fit(X_train, y_train)"
   ]
  },
  {
   "cell_type": "code",
   "execution_count": 37,
   "metadata": {},
   "outputs": [],
   "source": [
    "#cross_val_score(svm_clf, X_test, y_test, scoring='roc_auc')"
   ]
  },
  {
   "cell_type": "code",
   "execution_count": 38,
   "metadata": {},
   "outputs": [],
   "source": [
    "#threshold = 0.5\n",
    "#y_train_pred = svm_clf.predict_proba(X_train)[:,1]\n",
    "#y_test_pred = svm_clf.predict_proba(X_test)[:,1]\n",
    "\n",
    "#fig,ax = plt.subplots(1,3)\n",
    "#fig.set_size_inches(20,7)\n",
    "\n",
    "#plot_cm(ax[0],  y_train, y_train_pred, [0,1], 'Confusion matrix (Train)', threshold)\n",
    "#plot_cm(ax[1],  y_test, y_test_pred,   [0,1], 'Confusion matrix (Validation)', threshold)\n",
    "#plot_auc(ax[2], y_train, y_train_pred, y_test, y_test_pred, threshold)\n",
    "    \n",
    "#plt.tight_layout()\n",
    "#plt.show()"
   ]
  },
  {
   "cell_type": "markdown",
   "metadata": {},
   "source": [
    "I also tried to run SVM, however it takes a very LONG time to run, this is why I could only see the output with the subset of 10% of the data.\n",
    "\n",
    "Seeing the non-exciting results, I also tried to run a simple **Feed Forward Deep Neural Net** to see if there could be improvement."
   ]
  },
  {
   "cell_type": "markdown",
   "metadata": {},
   "source": [
    "### Tensorflow / Keras"
   ]
  },
  {
   "cell_type": "code",
   "execution_count": 39,
   "metadata": {},
   "outputs": [
    {
     "data": {
      "text/plain": [
       "(697252, 53)"
      ]
     },
     "execution_count": 39,
     "metadata": {},
     "output_type": "execute_result"
    }
   ],
   "source": [
    "from keras.models import Sequential\n",
    "from keras.layers import Dense\n",
    "\n",
    "data.shape"
   ]
  },
  {
   "cell_type": "markdown",
   "metadata": {},
   "source": [
    "Splitting the data into X and Y - input and output "
   ]
  },
  {
   "cell_type": "code",
   "execution_count": 40,
   "metadata": {},
   "outputs": [
    {
     "name": "stdout",
     "output_type": "stream",
     "text": [
      "(522939, 51)\n",
      "(522939,)\n"
     ]
    }
   ],
   "source": [
    "array = ctrain.values\n",
    "X = array[:, 0:51]\n",
    "Y = array[:, 52]\n",
    "\n",
    "print(X.shape)\n",
    "print(Y.shape)"
   ]
  },
  {
   "cell_type": "markdown",
   "metadata": {},
   "source": [
    "Defining the model using **Sequential()** with 2 hidden layers, 51 Inputs and 1 Output.\n",
    "\n",
    "**Relu** and **Signmoid** are used as activation functions here initialised with uniform weights. "
   ]
  },
  {
   "cell_type": "code",
   "execution_count": 41,
   "metadata": {},
   "outputs": [],
   "source": [
    "model = Sequential()\n",
    "model.add(Dense(51, input_dim = 51, kernel_initializer = 'uniform', activation = 'relu'))\n",
    "model.add(Dense(16, kernel_initializer = 'uniform', activation = 'relu'))\n",
    "model.add(Dense(8, kernel_initializer = 'uniform', activation = 'sigmoid'))\n",
    "model.add(Dense(1, kernel_initializer = 'uniform', activation = 'sigmoid'))"
   ]
  },
  {
   "cell_type": "markdown",
   "metadata": {},
   "source": [
    "Compliling the model defining the loss function, optimizer used and metric to be calculated. "
   ]
  },
  {
   "cell_type": "code",
   "execution_count": 42,
   "metadata": {},
   "outputs": [],
   "source": [
    "model.compile(loss = 'binary_crossentropy', optimizer = 'adam', metrics = ['accuracy'])"
   ]
  },
  {
   "cell_type": "markdown",
   "metadata": {},
   "source": [
    "Fit the model."
   ]
  },
  {
   "cell_type": "code",
   "execution_count": 43,
   "metadata": {
    "scrolled": true
   },
   "outputs": [
    {
     "name": "stdout",
     "output_type": "stream",
     "text": [
      "Epoch 1/300\n",
      "522939/522939 [==============================] - 19s 36us/step - loss: 0.5944 - acc: 0.6846\n",
      "Epoch 2/300\n",
      "522939/522939 [==============================] - 19s 36us/step - loss: 0.5877 - acc: 0.6901\n",
      "Epoch 3/300\n",
      "522939/522939 [==============================] - 19s 36us/step - loss: 0.5859 - acc: 0.6911\n",
      "Epoch 4/300\n",
      "522939/522939 [==============================] - 19s 36us/step - loss: 0.5847 - acc: 0.6916\n",
      "Epoch 5/300\n",
      "522939/522939 [==============================] - 19s 36us/step - loss: 0.5839 - acc: 0.6927\n",
      "Epoch 6/300\n",
      "522939/522939 [==============================] - 19s 36us/step - loss: 0.5837 - acc: 0.6925\n",
      "Epoch 7/300\n",
      "522939/522939 [==============================] - 19s 36us/step - loss: 0.5833 - acc: 0.6934\n",
      "Epoch 8/300\n",
      "522939/522939 [==============================] - 19s 36us/step - loss: 0.5829 - acc: 0.6934\n",
      "Epoch 9/300\n",
      "522939/522939 [==============================] - 19s 36us/step - loss: 0.5827 - acc: 0.6935\n",
      "Epoch 10/300\n",
      "522939/522939 [==============================] - 19s 36us/step - loss: 0.5825 - acc: 0.6936\n",
      "Epoch 11/300\n",
      "522939/522939 [==============================] - 19s 36us/step - loss: 0.5824 - acc: 0.6941\n",
      "Epoch 12/300\n",
      "522939/522939 [==============================] - 19s 37us/step - loss: 0.5824 - acc: 0.6941\n",
      "Epoch 13/300\n",
      "522939/522939 [==============================] - 19s 36us/step - loss: 0.5822 - acc: 0.6946\n",
      "Epoch 14/300\n",
      "522939/522939 [==============================] - 19s 37us/step - loss: 0.5819 - acc: 0.6942\n",
      "Epoch 15/300\n",
      "522939/522939 [==============================] - 49551s 95ms/step - loss: 0.5820 - acc: 0.6940\n",
      "Epoch 16/300\n",
      "522939/522939 [==============================] - 24s 45us/step - loss: 0.5819 - acc: 0.6946\n",
      "Epoch 17/300\n",
      "522939/522939 [==============================] - 27s 51us/step - loss: 0.5817 - acc: 0.6944\n",
      "Epoch 18/300\n",
      "522939/522939 [==============================] - 21s 40us/step - loss: 0.5817 - acc: 0.6944\n",
      "Epoch 19/300\n",
      "522939/522939 [==============================] - 24s 45us/step - loss: 0.5816 - acc: 0.6946\n",
      "Epoch 20/300\n",
      "522939/522939 [==============================] - 23s 43us/step - loss: 0.5816 - acc: 0.6948\n",
      "Epoch 21/300\n",
      "522939/522939 [==============================] - 24s 45us/step - loss: 0.5815 - acc: 0.6947\n",
      "Epoch 22/300\n",
      "522939/522939 [==============================] - 26s 50us/step - loss: 0.5815 - acc: 0.6944\n",
      "Epoch 23/300\n",
      "522939/522939 [==============================] - 25s 48us/step - loss: 0.5816 - acc: 0.6952\n",
      "Epoch 24/300\n",
      "522939/522939 [==============================] - 25s 47us/step - loss: 0.5814 - acc: 0.6949\n",
      "Epoch 25/300\n",
      "522939/522939 [==============================] - 23s 43us/step - loss: 0.5813 - acc: 0.6952\n",
      "Epoch 26/300\n",
      "522939/522939 [==============================] - 23s 44us/step - loss: 0.5813 - acc: 0.6948\n",
      "Epoch 27/300\n",
      "522939/522939 [==============================] - 23s 43us/step - loss: 0.5811 - acc: 0.6952\n",
      "Epoch 28/300\n",
      "522939/522939 [==============================] - 21s 39us/step - loss: 0.5811 - acc: 0.6954\n",
      "Epoch 29/300\n",
      "522939/522939 [==============================] - 22s 42us/step - loss: 0.5812 - acc: 0.6950\n",
      "Epoch 30/300\n",
      "522939/522939 [==============================] - 21s 41us/step - loss: 0.5812 - acc: 0.6950\n",
      "Epoch 31/300\n",
      "522939/522939 [==============================] - 22s 43us/step - loss: 0.5811 - acc: 0.6948\n",
      "Epoch 32/300\n",
      "522939/522939 [==============================] - 25s 48us/step - loss: 0.5810 - acc: 0.6953\n",
      "Epoch 33/300\n",
      "522939/522939 [==============================] - 28s 53us/step - loss: 0.5810 - acc: 0.6951\n",
      "Epoch 34/300\n",
      "522939/522939 [==============================] - 25s 48us/step - loss: 0.5810 - acc: 0.6951\n",
      "Epoch 35/300\n",
      "522939/522939 [==============================] - 26s 50us/step - loss: 0.5809 - acc: 0.6954\n",
      "Epoch 36/300\n",
      "522939/522939 [==============================] - 19s 37us/step - loss: 0.5808 - acc: 0.6951\n",
      "Epoch 37/300\n",
      "522939/522939 [==============================] - 20s 38us/step - loss: 0.5809 - acc: 0.6949\n",
      "Epoch 38/300\n",
      "522939/522939 [==============================] - 20s 38us/step - loss: 0.5809 - acc: 0.6955\n",
      "Epoch 39/300\n",
      "522939/522939 [==============================] - 19s 37us/step - loss: 0.5808 - acc: 0.6955\n",
      "Epoch 40/300\n",
      "522939/522939 [==============================] - 19s 37us/step - loss: 0.5807 - acc: 0.6955\n",
      "Epoch 41/300\n",
      "522939/522939 [==============================] - 19s 37us/step - loss: 0.5808 - acc: 0.6956\n",
      "Epoch 42/300\n",
      "522939/522939 [==============================] - 20s 39us/step - loss: 0.5807 - acc: 0.6953\n",
      "Epoch 43/300\n",
      "522939/522939 [==============================] - 19s 37us/step - loss: 0.5805 - acc: 0.6956\n",
      "Epoch 44/300\n",
      "522939/522939 [==============================] - 20s 39us/step - loss: 0.5807 - acc: 0.6953\n",
      "Epoch 45/300\n",
      "522939/522939 [==============================] - 19s 36us/step - loss: 0.5805 - acc: 0.6953\n",
      "Epoch 46/300\n",
      "522939/522939 [==============================] - 19s 37us/step - loss: 0.5806 - acc: 0.6957\n",
      "Epoch 47/300\n",
      "522939/522939 [==============================] - 19s 37us/step - loss: 0.5816 - acc: 0.6953\n",
      "Epoch 48/300\n",
      "522939/522939 [==============================] - 19s 37us/step - loss: 0.5804 - acc: 0.6959\n",
      "Epoch 49/300\n",
      "522939/522939 [==============================] - 20s 38us/step - loss: 0.5805 - acc: 0.6954\n",
      "Epoch 50/300\n",
      "522939/522939 [==============================] - 18s 34us/step - loss: 0.5806 - acc: 0.6955\n",
      "Epoch 51/300\n",
      "522939/522939 [==============================] - 19s 36us/step - loss: 0.5803 - acc: 0.6957\n",
      "Epoch 52/300\n",
      "522939/522939 [==============================] - 20s 38us/step - loss: 0.5804 - acc: 0.6956\n",
      "Epoch 53/300\n",
      "522939/522939 [==============================] - 19s 37us/step - loss: 0.5805 - acc: 0.6958\n",
      "Epoch 54/300\n",
      "522939/522939 [==============================] - 20s 38us/step - loss: 0.5803 - acc: 0.6958\n",
      "Epoch 55/300\n",
      "522939/522939 [==============================] - 20s 38us/step - loss: 0.5804 - acc: 0.6957\n",
      "Epoch 56/300\n",
      "522939/522939 [==============================] - 19s 36us/step - loss: 0.5803 - acc: 0.6960\n",
      "Epoch 57/300\n",
      "522939/522939 [==============================] - 18s 35us/step - loss: 0.5804 - acc: 0.6959\n",
      "Epoch 58/300\n",
      "522939/522939 [==============================] - 20s 39us/step - loss: 0.5803 - acc: 0.6957\n",
      "Epoch 59/300\n",
      "522939/522939 [==============================] - 20s 38us/step - loss: 0.5804 - acc: 0.6960\n",
      "Epoch 60/300\n",
      "522939/522939 [==============================] - 20s 39us/step - loss: 0.5803 - acc: 0.6957\n",
      "Epoch 61/300\n",
      "522939/522939 [==============================] - 20s 38us/step - loss: 0.5803 - acc: 0.6960\n",
      "Epoch 62/300\n",
      "522939/522939 [==============================] - 22s 41us/step - loss: 0.5804 - acc: 0.6957\n",
      "Epoch 63/300\n",
      "522939/522939 [==============================] - 19s 36us/step - loss: 0.5804 - acc: 0.6958\n",
      "Epoch 64/300\n",
      "522939/522939 [==============================] - 19s 37us/step - loss: 0.5804 - acc: 0.6958\n",
      "Epoch 65/300\n",
      "522939/522939 [==============================] - 19s 36us/step - loss: 0.5803 - acc: 0.6961\n",
      "Epoch 66/300\n",
      "522939/522939 [==============================] - 19s 36us/step - loss: 0.5803 - acc: 0.6959\n",
      "Epoch 67/300\n",
      "522939/522939 [==============================] - 19s 37us/step - loss: 0.5801 - acc: 0.6958\n",
      "Epoch 68/300\n",
      "522939/522939 [==============================] - 19s 36us/step - loss: 0.5803 - acc: 0.6957\n",
      "Epoch 69/300\n",
      "522939/522939 [==============================] - 20s 39us/step - loss: 0.5803 - acc: 0.6959\n",
      "Epoch 70/300\n",
      "522939/522939 [==============================] - 19s 37us/step - loss: 0.5803 - acc: 0.6958\n",
      "Epoch 71/300\n",
      "522939/522939 [==============================] - 19s 36us/step - loss: 0.5812 - acc: 0.6957\n",
      "Epoch 72/300\n",
      "522939/522939 [==============================] - 19s 37us/step - loss: 0.5803 - acc: 0.6957\n",
      "Epoch 73/300\n",
      "522939/522939 [==============================] - 20s 38us/step - loss: 0.5808 - acc: 0.6954\n",
      "Epoch 74/300\n",
      "522939/522939 [==============================] - 20s 38us/step - loss: 0.5803 - acc: 0.6958\n",
      "Epoch 75/300\n",
      "522939/522939 [==============================] - 20s 38us/step - loss: 0.5803 - acc: 0.6960\n",
      "Epoch 76/300\n",
      "522939/522939 [==============================] - 20s 38us/step - loss: 0.5802 - acc: 0.6958\n",
      "Epoch 77/300\n",
      "522939/522939 [==============================] - 21s 41us/step - loss: 0.5803 - acc: 0.6957\n",
      "Epoch 78/300\n",
      "522939/522939 [==============================] - 20s 37us/step - loss: 0.5809 - acc: 0.6959\n",
      "Epoch 79/300\n"
     ]
    },
    {
     "name": "stdout",
     "output_type": "stream",
     "text": [
      "522939/522939 [==============================] - 20s 37us/step - loss: 0.5802 - acc: 0.6955\n",
      "Epoch 80/300\n",
      "522939/522939 [==============================] - 20s 39us/step - loss: 0.5805 - acc: 0.6957\n",
      "Epoch 81/300\n",
      "522939/522939 [==============================] - 19s 37us/step - loss: 0.5813 - acc: 0.6952\n",
      "Epoch 82/300\n",
      "522939/522939 [==============================] - 19s 37us/step - loss: 0.5808 - acc: 0.6957\n",
      "Epoch 83/300\n",
      "522939/522939 [==============================] - 19s 36us/step - loss: 0.5801 - acc: 0.6956\n",
      "Epoch 84/300\n",
      "522939/522939 [==============================] - 19s 37us/step - loss: 0.5801 - acc: 0.6961\n",
      "Epoch 85/300\n",
      "522939/522939 [==============================] - 19s 37us/step - loss: 0.5801 - acc: 0.6960\n",
      "Epoch 86/300\n",
      "522939/522939 [==============================] - 20s 39us/step - loss: 0.5801 - acc: 0.6958\n",
      "Epoch 87/300\n",
      "522939/522939 [==============================] - 19s 37us/step - loss: 0.5801 - acc: 0.6960\n",
      "Epoch 88/300\n",
      "522939/522939 [==============================] - 20s 38us/step - loss: 0.5801 - acc: 0.6958\n",
      "Epoch 89/300\n",
      "522939/522939 [==============================] - 20s 38us/step - loss: 0.5802 - acc: 0.6958\n",
      "Epoch 90/300\n",
      "522939/522939 [==============================] - 19s 37us/step - loss: 0.5802 - acc: 0.6957\n",
      "Epoch 91/300\n",
      "522939/522939 [==============================] - 21s 40us/step - loss: 0.5800 - acc: 0.6958\n",
      "Epoch 92/300\n",
      "522939/522939 [==============================] - 20s 38us/step - loss: 0.5803 - acc: 0.6961\n",
      "Epoch 93/300\n",
      "522939/522939 [==============================] - 20s 38us/step - loss: 0.5801 - acc: 0.6956\n",
      "Epoch 94/300\n",
      "522939/522939 [==============================] - 20s 39us/step - loss: 0.5801 - acc: 0.6956\n",
      "Epoch 95/300\n",
      "522939/522939 [==============================] - 20s 38us/step - loss: 0.5801 - acc: 0.6959\n",
      "Epoch 96/300\n",
      "522939/522939 [==============================] - 20s 38us/step - loss: 0.5803 - acc: 0.6958\n",
      "Epoch 97/300\n",
      "522939/522939 [==============================] - 20s 39us/step - loss: 0.5800 - acc: 0.6959\n",
      "Epoch 98/300\n",
      "522939/522939 [==============================] - 21s 40us/step - loss: 0.5805 - acc: 0.6955\n",
      "Epoch 99/300\n",
      "522939/522939 [==============================] - 21s 41us/step - loss: 0.5802 - acc: 0.6957\n",
      "Epoch 100/300\n",
      "522939/522939 [==============================] - 20s 38us/step - loss: 0.5802 - acc: 0.6955\n",
      "Epoch 101/300\n",
      "522939/522939 [==============================] - 19s 36us/step - loss: 0.5805 - acc: 0.6957\n",
      "Epoch 102/300\n",
      "522939/522939 [==============================] - 19s 37us/step - loss: 0.5800 - acc: 0.6956\n",
      "Epoch 103/300\n",
      "522939/522939 [==============================] - 19s 37us/step - loss: 0.5801 - acc: 0.6961\n",
      "Epoch 104/300\n",
      "522939/522939 [==============================] - 19s 37us/step - loss: 0.5802 - acc: 0.6960\n",
      "Epoch 105/300\n",
      "522939/522939 [==============================] - 20s 38us/step - loss: 0.5800 - acc: 0.6963\n",
      "Epoch 106/300\n",
      "522939/522939 [==============================] - 20s 38us/step - loss: 0.5800 - acc: 0.6961\n",
      "Epoch 107/300\n",
      "522939/522939 [==============================] - 19s 37us/step - loss: 0.5805 - acc: 0.6954\n",
      "Epoch 108/300\n",
      "522939/522939 [==============================] - 19s 37us/step - loss: 0.5809 - acc: 0.6949\n",
      "Epoch 109/300\n",
      "522939/522939 [==============================] - 19s 37us/step - loss: 0.5816 - acc: 0.6942\n",
      "Epoch 110/300\n",
      "522939/522939 [==============================] - 19s 36us/step - loss: 0.5803 - acc: 0.6958\n",
      "Epoch 111/300\n",
      "522939/522939 [==============================] - 19s 36us/step - loss: 0.5801 - acc: 0.6957\n",
      "Epoch 112/300\n",
      "522939/522939 [==============================] - 21s 40us/step - loss: 0.5799 - acc: 0.6960\n",
      "Epoch 113/300\n",
      "522939/522939 [==============================] - 20s 38us/step - loss: 0.5800 - acc: 0.6961\n",
      "Epoch 114/300\n",
      "522939/522939 [==============================] - 21s 40us/step - loss: 0.5800 - acc: 0.6961\n",
      "Epoch 115/300\n",
      "522939/522939 [==============================] - 20s 38us/step - loss: 0.5800 - acc: 0.6960\n",
      "Epoch 116/300\n",
      "522939/522939 [==============================] - 19s 36us/step - loss: 0.5801 - acc: 0.6957\n",
      "Epoch 117/300\n",
      "522939/522939 [==============================] - 20s 37us/step - loss: 0.5801 - acc: 0.6957\n",
      "Epoch 118/300\n",
      "522939/522939 [==============================] - 20s 39us/step - loss: 0.5803 - acc: 0.6959\n",
      "Epoch 119/300\n",
      "522939/522939 [==============================] - 18s 35us/step - loss: 0.5800 - acc: 0.6960\n",
      "Epoch 120/300\n",
      "522939/522939 [==============================] - 18s 35us/step - loss: 0.5801 - acc: 0.6957\n",
      "Epoch 121/300\n",
      "522939/522939 [==============================] - 18s 35us/step - loss: 0.5800 - acc: 0.6957\n",
      "Epoch 122/300\n",
      "522939/522939 [==============================] - 18s 35us/step - loss: 0.5799 - acc: 0.6956\n",
      "Epoch 123/300\n",
      "522939/522939 [==============================] - 18s 34us/step - loss: 0.5800 - acc: 0.6959\n",
      "Epoch 124/300\n",
      "522939/522939 [==============================] - 18s 35us/step - loss: 0.5798 - acc: 0.6961\n",
      "Epoch 125/300\n",
      "522939/522939 [==============================] - 18s 34us/step - loss: 0.5799 - acc: 0.6959\n",
      "Epoch 126/300\n",
      "522939/522939 [==============================] - 18s 34us/step - loss: 0.5801 - acc: 0.6956\n",
      "Epoch 127/300\n",
      "522939/522939 [==============================] - 18s 34us/step - loss: 0.5799 - acc: 0.6963\n",
      "Epoch 128/300\n",
      "522939/522939 [==============================] - 18s 35us/step - loss: 0.5800 - acc: 0.6958\n",
      "Epoch 129/300\n",
      "522939/522939 [==============================] - 18s 35us/step - loss: 0.5801 - acc: 0.6958\n",
      "Epoch 130/300\n",
      "522939/522939 [==============================] - 18s 35us/step - loss: 0.5801 - acc: 0.6959\n",
      "Epoch 131/300\n",
      "522939/522939 [==============================] - 19s 36us/step - loss: 0.5800 - acc: 0.6959\n",
      "Epoch 132/300\n",
      "522939/522939 [==============================] - 18s 35us/step - loss: 0.5804 - acc: 0.6960\n",
      "Epoch 133/300\n",
      "522939/522939 [==============================] - 18s 35us/step - loss: 0.5802 - acc: 0.6959\n",
      "Epoch 134/300\n",
      "522939/522939 [==============================] - 18s 35us/step - loss: 0.5801 - acc: 0.6957\n",
      "Epoch 135/300\n",
      "522939/522939 [==============================] - 18s 35us/step - loss: 0.5799 - acc: 0.6960\n",
      "Epoch 136/300\n",
      "522939/522939 [==============================] - 18s 35us/step - loss: 0.5810 - acc: 0.6950\n",
      "Epoch 137/300\n",
      "522939/522939 [==============================] - 18s 35us/step - loss: 0.5805 - acc: 0.6957\n",
      "Epoch 138/300\n",
      "522939/522939 [==============================] - 18s 35us/step - loss: 0.5800 - acc: 0.6959\n",
      "Epoch 139/300\n",
      "522939/522939 [==============================] - 18s 35us/step - loss: 0.5800 - acc: 0.6962\n",
      "Epoch 140/300\n",
      "522939/522939 [==============================] - 18s 35us/step - loss: 0.5833 - acc: 0.6928\n",
      "Epoch 141/300\n",
      "522939/522939 [==============================] - 18s 34us/step - loss: 0.5821 - acc: 0.6937\n",
      "Epoch 142/300\n",
      "522939/522939 [==============================] - 18s 34us/step - loss: 0.5804 - acc: 0.6960\n",
      "Epoch 143/300\n",
      "522939/522939 [==============================] - 18s 35us/step - loss: 0.5821 - acc: 0.6937\n",
      "Epoch 144/300\n",
      "522939/522939 [==============================] - 18s 35us/step - loss: 0.5826 - acc: 0.6936\n",
      "Epoch 145/300\n",
      "522939/522939 [==============================] - 18s 35us/step - loss: 0.5807 - acc: 0.6957\n",
      "Epoch 146/300\n",
      "522939/522939 [==============================] - 18s 35us/step - loss: 0.5802 - acc: 0.6958\n",
      "Epoch 147/300\n",
      "522939/522939 [==============================] - 18s 35us/step - loss: 0.5800 - acc: 0.6961\n",
      "Epoch 148/300\n",
      "522939/522939 [==============================] - 18s 35us/step - loss: 0.5799 - acc: 0.6961\n",
      "Epoch 149/300\n",
      "522939/522939 [==============================] - 18s 35us/step - loss: 0.5803 - acc: 0.6955\n",
      "Epoch 150/300\n",
      "522939/522939 [==============================] - 18s 35us/step - loss: 0.5800 - acc: 0.6959\n",
      "Epoch 151/300\n",
      "522939/522939 [==============================] - 18s 35us/step - loss: 0.5801 - acc: 0.6961\n",
      "Epoch 152/300\n",
      "522939/522939 [==============================] - 18s 35us/step - loss: 0.5801 - acc: 0.6959\n",
      "Epoch 153/300\n",
      "522939/522939 [==============================] - 18s 35us/step - loss: 0.5804 - acc: 0.6955\n",
      "Epoch 154/300\n",
      "522939/522939 [==============================] - 18s 34us/step - loss: 0.5802 - acc: 0.6958\n",
      "Epoch 155/300\n",
      "522939/522939 [==============================] - 18s 34us/step - loss: 0.5800 - acc: 0.6961\n",
      "Epoch 156/300\n"
     ]
    },
    {
     "name": "stdout",
     "output_type": "stream",
     "text": [
      "522939/522939 [==============================] - 18s 34us/step - loss: 0.5800 - acc: 0.6955\n",
      "Epoch 157/300\n",
      "522939/522939 [==============================] - 18s 35us/step - loss: 0.5800 - acc: 0.6958\n",
      "Epoch 158/300\n",
      "522939/522939 [==============================] - 18s 35us/step - loss: 0.5801 - acc: 0.6960\n",
      "Epoch 159/300\n",
      "522939/522939 [==============================] - 18s 35us/step - loss: 0.5798 - acc: 0.6961\n",
      "Epoch 160/300\n",
      "522939/522939 [==============================] - 18s 35us/step - loss: 0.5800 - acc: 0.6957\n",
      "Epoch 161/300\n",
      "522939/522939 [==============================] - 18s 35us/step - loss: 0.5800 - acc: 0.6959\n",
      "Epoch 162/300\n",
      "522939/522939 [==============================] - 18s 34us/step - loss: 0.5798 - acc: 0.6960\n",
      "Epoch 163/300\n",
      "522939/522939 [==============================] - 18s 35us/step - loss: 0.5799 - acc: 0.6960\n",
      "Epoch 164/300\n",
      "522939/522939 [==============================] - 18s 35us/step - loss: 0.5799 - acc: 0.6959\n",
      "Epoch 165/300\n",
      "522939/522939 [==============================] - 18s 35us/step - loss: 0.5799 - acc: 0.6962\n",
      "Epoch 166/300\n",
      "522939/522939 [==============================] - 18s 35us/step - loss: 0.5799 - acc: 0.6959\n",
      "Epoch 167/300\n",
      "522939/522939 [==============================] - 18s 34us/step - loss: 0.5800 - acc: 0.6959\n",
      "Epoch 168/300\n",
      "522939/522939 [==============================] - 18s 35us/step - loss: 0.5801 - acc: 0.6956\n",
      "Epoch 169/300\n",
      "522939/522939 [==============================] - 18s 34us/step - loss: 0.5802 - acc: 0.6959\n",
      "Epoch 170/300\n",
      "522939/522939 [==============================] - 18s 35us/step - loss: 0.5802 - acc: 0.6958\n",
      "Epoch 171/300\n",
      "522939/522939 [==============================] - 18s 34us/step - loss: 0.5808 - acc: 0.6952\n",
      "Epoch 172/300\n",
      "522939/522939 [==============================] - 18s 34us/step - loss: 0.5800 - acc: 0.6962\n",
      "Epoch 173/300\n",
      "522939/522939 [==============================] - 18s 35us/step - loss: 0.5833 - acc: 0.6921\n",
      "Epoch 174/300\n",
      "522939/522939 [==============================] - 18s 35us/step - loss: 0.5809 - acc: 0.6949\n",
      "Epoch 175/300\n",
      "522939/522939 [==============================] - 18s 34us/step - loss: 0.5803 - acc: 0.6958\n",
      "Epoch 176/300\n",
      "522939/522939 [==============================] - 18s 35us/step - loss: 0.5801 - acc: 0.6959\n",
      "Epoch 177/300\n",
      "522939/522939 [==============================] - 18s 34us/step - loss: 0.5800 - acc: 0.6956\n",
      "Epoch 178/300\n",
      "522939/522939 [==============================] - 18s 35us/step - loss: 0.5801 - acc: 0.6959\n",
      "Epoch 179/300\n",
      "522939/522939 [==============================] - 18s 34us/step - loss: 0.5803 - acc: 0.6962\n",
      "Epoch 180/300\n",
      "522939/522939 [==============================] - 18s 34us/step - loss: 0.5801 - acc: 0.6959\n",
      "Epoch 181/300\n",
      "522939/522939 [==============================] - 18s 34us/step - loss: 0.5803 - acc: 0.6957\n",
      "Epoch 182/300\n",
      "522939/522939 [==============================] - 18s 35us/step - loss: 0.5804 - acc: 0.6956\n",
      "Epoch 183/300\n",
      "522939/522939 [==============================] - 18s 35us/step - loss: 0.5800 - acc: 0.6959\n",
      "Epoch 184/300\n",
      "522939/522939 [==============================] - 18s 34us/step - loss: 0.5801 - acc: 0.6954\n",
      "Epoch 185/300\n",
      "522939/522939 [==============================] - 18s 35us/step - loss: 0.5799 - acc: 0.6959\n",
      "Epoch 186/300\n",
      "522939/522939 [==============================] - 343s 655us/step - loss: 0.5802 - acc: 0.6957\n",
      "Epoch 187/300\n",
      "522939/522939 [==============================] - 21s 40us/step - loss: 0.5805 - acc: 0.6953\n",
      "Epoch 188/300\n",
      "522939/522939 [==============================] - 20s 37us/step - loss: 0.5802 - acc: 0.6957\n",
      "Epoch 189/300\n",
      "522939/522939 [==============================] - 20s 38us/step - loss: 0.5800 - acc: 0.6959\n",
      "Epoch 190/300\n",
      "522939/522939 [==============================] - 20s 37us/step - loss: 0.5803 - acc: 0.6954\n",
      "Epoch 191/300\n",
      "522939/522939 [==============================] - 19s 37us/step - loss: 0.5801 - acc: 0.6957\n",
      "Epoch 192/300\n",
      "522939/522939 [==============================] - 20s 38us/step - loss: 0.5800 - acc: 0.6963\n",
      "Epoch 193/300\n",
      "522939/522939 [==============================] - 20s 38us/step - loss: 0.5800 - acc: 0.6956\n",
      "Epoch 194/300\n",
      "522939/522939 [==============================] - 20s 37us/step - loss: 0.5800 - acc: 0.6960\n",
      "Epoch 195/300\n",
      "522939/522939 [==============================] - 20s 38us/step - loss: 0.5813 - acc: 0.6948\n",
      "Epoch 196/300\n",
      "522939/522939 [==============================] - 20s 38us/step - loss: 0.5808 - acc: 0.6947\n",
      "Epoch 197/300\n",
      "522939/522939 [==============================] - 20s 39us/step - loss: 0.5812 - acc: 0.6945\n",
      "Epoch 198/300\n",
      "522939/522939 [==============================] - 20s 38us/step - loss: 0.5805 - acc: 0.6951\n",
      "Epoch 199/300\n",
      "522939/522939 [==============================] - 20s 38us/step - loss: 0.5803 - acc: 0.6956\n",
      "Epoch 200/300\n",
      "522939/522939 [==============================] - 20s 38us/step - loss: 0.5813 - acc: 0.6951\n",
      "Epoch 201/300\n",
      "522939/522939 [==============================] - 20s 38us/step - loss: 0.5807 - acc: 0.6955\n",
      "Epoch 202/300\n",
      "522939/522939 [==============================] - 20s 39us/step - loss: 0.5817 - acc: 0.6943\n",
      "Epoch 203/300\n",
      "522939/522939 [==============================] - 20s 38us/step - loss: 0.5812 - acc: 0.6947\n",
      "Epoch 204/300\n",
      "522939/522939 [==============================] - 20s 38us/step - loss: 0.5802 - acc: 0.6958\n",
      "Epoch 205/300\n",
      "522939/522939 [==============================] - 20s 39us/step - loss: 0.5800 - acc: 0.6959\n",
      "Epoch 206/300\n",
      "522939/522939 [==============================] - 20s 39us/step - loss: 0.5802 - acc: 0.6957\n",
      "Epoch 207/300\n",
      "522939/522939 [==============================] - 20s 39us/step - loss: 0.5799 - acc: 0.6958\n",
      "Epoch 208/300\n",
      "522939/522939 [==============================] - 20s 38us/step - loss: 0.5801 - acc: 0.6960\n",
      "Epoch 209/300\n",
      "522939/522939 [==============================] - 20s 39us/step - loss: 0.5802 - acc: 0.6958\n",
      "Epoch 210/300\n",
      "522939/522939 [==============================] - 20s 38us/step - loss: 0.5802 - acc: 0.6961\n",
      "Epoch 211/300\n",
      "522939/522939 [==============================] - 20s 39us/step - loss: 0.5801 - acc: 0.6960\n",
      "Epoch 212/300\n",
      "522939/522939 [==============================] - 20s 38us/step - loss: 0.5801 - acc: 0.6959\n",
      "Epoch 213/300\n",
      "522939/522939 [==============================] - 20s 39us/step - loss: 0.5801 - acc: 0.6963\n",
      "Epoch 214/300\n",
      "522939/522939 [==============================] - 20s 39us/step - loss: 0.5799 - acc: 0.6957\n",
      "Epoch 215/300\n",
      "522939/522939 [==============================] - 20s 39us/step - loss: 0.5801 - acc: 0.6957\n",
      "Epoch 216/300\n",
      "522939/522939 [==============================] - 20s 39us/step - loss: 0.5801 - acc: 0.6958\n",
      "Epoch 217/300\n",
      "522939/522939 [==============================] - 20s 38us/step - loss: 0.5801 - acc: 0.6957\n",
      "Epoch 218/300\n",
      "522939/522939 [==============================] - 20s 38us/step - loss: 0.5801 - acc: 0.6954\n",
      "Epoch 219/300\n",
      "522939/522939 [==============================] - 20s 38us/step - loss: 0.5801 - acc: 0.6958\n",
      "Epoch 220/300\n",
      "522939/522939 [==============================] - 20s 38us/step - loss: 0.5800 - acc: 0.6958\n",
      "Epoch 221/300\n",
      "522939/522939 [==============================] - 20s 38us/step - loss: 0.5801 - acc: 0.6957\n",
      "Epoch 222/300\n",
      "522939/522939 [==============================] - 20s 38us/step - loss: 0.5801 - acc: 0.6958\n",
      "Epoch 223/300\n",
      "522939/522939 [==============================] - 20s 38us/step - loss: 0.5805 - acc: 0.6957\n",
      "Epoch 224/300\n",
      "522939/522939 [==============================] - 20s 38us/step - loss: 0.5799 - acc: 0.6960\n",
      "Epoch 225/300\n",
      "522939/522939 [==============================] - 20s 38us/step - loss: 0.5824 - acc: 0.6936\n",
      "Epoch 226/300\n",
      "522939/522939 [==============================] - 20s 38us/step - loss: 0.5807 - acc: 0.6957\n",
      "Epoch 227/300\n",
      "522939/522939 [==============================] - 20s 38us/step - loss: 0.5804 - acc: 0.6956\n",
      "Epoch 228/300\n",
      "522939/522939 [==============================] - 20s 38us/step - loss: 0.5803 - acc: 0.6955\n",
      "Epoch 229/300\n",
      "522939/522939 [==============================] - 20s 38us/step - loss: 0.5801 - acc: 0.6961\n",
      "Epoch 230/300\n",
      "522939/522939 [==============================] - 20s 38us/step - loss: 0.5802 - acc: 0.6958\n",
      "Epoch 231/300\n",
      "522939/522939 [==============================] - 20s 38us/step - loss: 0.5800 - acc: 0.6959\n",
      "Epoch 232/300\n",
      "522939/522939 [==============================] - 20s 38us/step - loss: 0.5800 - acc: 0.6962\n",
      "Epoch 233/300\n"
     ]
    },
    {
     "name": "stdout",
     "output_type": "stream",
     "text": [
      "522939/522939 [==============================] - 19s 36us/step - loss: 0.5801 - acc: 0.6957\n",
      "Epoch 234/300\n",
      "522939/522939 [==============================] - 19s 36us/step - loss: 0.5804 - acc: 0.6957\n",
      "Epoch 235/300\n",
      "522939/522939 [==============================] - 19s 36us/step - loss: 0.5800 - acc: 0.6957\n",
      "Epoch 236/300\n",
      "522939/522939 [==============================] - 18s 35us/step - loss: 0.5800 - acc: 0.6956\n",
      "Epoch 237/300\n",
      "522939/522939 [==============================] - 19s 36us/step - loss: 0.5800 - acc: 0.6960\n",
      "Epoch 238/300\n",
      "522939/522939 [==============================] - 19s 36us/step - loss: 0.5803 - acc: 0.6956\n",
      "Epoch 239/300\n",
      "522939/522939 [==============================] - 18s 35us/step - loss: 0.5799 - acc: 0.6956\n",
      "Epoch 240/300\n",
      "522939/522939 [==============================] - 19s 36us/step - loss: 0.5800 - acc: 0.6960\n",
      "Epoch 241/300\n",
      "522939/522939 [==============================] - 19s 36us/step - loss: 0.5799 - acc: 0.6961\n",
      "Epoch 242/300\n",
      "522939/522939 [==============================] - 19s 36us/step - loss: 0.5801 - acc: 0.6960\n",
      "Epoch 243/300\n",
      "522939/522939 [==============================] - 18s 35us/step - loss: 0.5800 - acc: 0.6960\n",
      "Epoch 244/300\n",
      "522939/522939 [==============================] - 19s 36us/step - loss: 0.5803 - acc: 0.6957\n",
      "Epoch 245/300\n",
      "522939/522939 [==============================] - 19s 36us/step - loss: 0.5803 - acc: 0.6961\n",
      "Epoch 246/300\n",
      "522939/522939 [==============================] - 19s 36us/step - loss: 0.5801 - acc: 0.6959\n",
      "Epoch 247/300\n",
      "522939/522939 [==============================] - 19s 36us/step - loss: 0.5801 - acc: 0.6957\n",
      "Epoch 248/300\n",
      "522939/522939 [==============================] - 19s 36us/step - loss: 0.5801 - acc: 0.6957\n",
      "Epoch 249/300\n",
      "522939/522939 [==============================] - 19s 36us/step - loss: 0.5801 - acc: 0.6961\n",
      "Epoch 250/300\n",
      "522939/522939 [==============================] - 1260s 2ms/step - loss: 0.5800 - acc: 0.6960\n",
      "Epoch 251/300\n",
      "522939/522939 [==============================] - 21s 40us/step - loss: 0.5800 - acc: 0.6960\n",
      "Epoch 252/300\n",
      "522939/522939 [==============================] - 20s 38us/step - loss: 0.5799 - acc: 0.6961\n",
      "Epoch 253/300\n",
      "522939/522939 [==============================] - 20s 38us/step - loss: 0.5800 - acc: 0.6960\n",
      "Epoch 254/300\n",
      "522939/522939 [==============================] - 21s 39us/step - loss: 0.5800 - acc: 0.6960\n",
      "Epoch 255/300\n",
      "522939/522939 [==============================] - 21s 40us/step - loss: 0.5800 - acc: 0.6964\n",
      "Epoch 256/300\n",
      "522939/522939 [==============================] - 22s 42us/step - loss: 0.5801 - acc: 0.6960\n",
      "Epoch 257/300\n",
      "522939/522939 [==============================] - 25s 47us/step - loss: 0.5800 - acc: 0.6962\n",
      "Epoch 258/300\n",
      "522939/522939 [==============================] - 23s 44us/step - loss: 0.5800 - acc: 0.6963\n",
      "Epoch 259/300\n",
      "522939/522939 [==============================] - 23s 44us/step - loss: 0.5800 - acc: 0.6962\n",
      "Epoch 260/300\n",
      "522939/522939 [==============================] - 24s 45us/step - loss: 0.5800 - acc: 0.6960\n",
      "Epoch 261/300\n",
      "522939/522939 [==============================] - 23s 45us/step - loss: 0.5798 - acc: 0.6960\n",
      "Epoch 262/300\n",
      "522939/522939 [==============================] - 24s 46us/step - loss: 0.5800 - acc: 0.6959\n",
      "Epoch 263/300\n",
      "522939/522939 [==============================] - 23s 45us/step - loss: 0.5799 - acc: 0.6962\n",
      "Epoch 264/300\n",
      "522939/522939 [==============================] - 23s 43us/step - loss: 0.5801 - acc: 0.6959\n",
      "Epoch 265/300\n",
      "522939/522939 [==============================] - 21s 41us/step - loss: 0.5800 - acc: 0.6960\n",
      "Epoch 266/300\n",
      "522939/522939 [==============================] - 24s 47us/step - loss: 0.5799 - acc: 0.6960\n",
      "Epoch 267/300\n",
      "522939/522939 [==============================] - 27s 52us/step - loss: 0.5800 - acc: 0.6964\n",
      "Epoch 268/300\n",
      "522939/522939 [==============================] - 23s 44us/step - loss: 0.5800 - acc: 0.6962\n",
      "Epoch 269/300\n",
      "522939/522939 [==============================] - 22s 42us/step - loss: 0.5801 - acc: 0.6958\n",
      "Epoch 270/300\n",
      "522939/522939 [==============================] - 24s 47us/step - loss: 0.5799 - acc: 0.6961\n",
      "Epoch 271/300\n",
      "522939/522939 [==============================] - 22s 42us/step - loss: 0.5798 - acc: 0.6962\n",
      "Epoch 272/300\n",
      "522939/522939 [==============================] - 21s 40us/step - loss: 0.5798 - acc: 0.6964\n",
      "Epoch 273/300\n",
      "522939/522939 [==============================] - 21s 40us/step - loss: 0.5798 - acc: 0.6961\n",
      "Epoch 274/300\n",
      "522939/522939 [==============================] - 21s 40us/step - loss: 0.5800 - acc: 0.6959\n",
      "Epoch 275/300\n",
      "522939/522939 [==============================] - 22s 42us/step - loss: 0.5804 - acc: 0.6956\n",
      "Epoch 276/300\n",
      "522939/522939 [==============================] - 21s 40us/step - loss: 0.5799 - acc: 0.6957\n",
      "Epoch 277/300\n",
      "522939/522939 [==============================] - 21s 41us/step - loss: 0.5799 - acc: 0.6961\n",
      "Epoch 278/300\n",
      "522939/522939 [==============================] - 22s 42us/step - loss: 0.5803 - acc: 0.6958\n",
      "Epoch 279/300\n",
      "522939/522939 [==============================] - 24s 45us/step - loss: 0.5804 - acc: 0.6959\n",
      "Epoch 280/300\n",
      "522939/522939 [==============================] - 23s 44us/step - loss: 0.5822 - acc: 0.6945\n",
      "Epoch 281/300\n",
      "522939/522939 [==============================] - 21s 41us/step - loss: 0.5801 - acc: 0.6964\n",
      "Epoch 282/300\n",
      "522939/522939 [==============================] - 21s 40us/step - loss: 0.5835 - acc: 0.6938\n",
      "Epoch 283/300\n",
      "522939/522939 [==============================] - 21s 40us/step - loss: 0.5851 - acc: 0.6922\n",
      "Epoch 284/300\n",
      "522939/522939 [==============================] - 22s 41us/step - loss: 0.5803 - acc: 0.6960\n",
      "Epoch 285/300\n",
      "522939/522939 [==============================] - 21s 41us/step - loss: 0.5801 - acc: 0.6957\n",
      "Epoch 286/300\n",
      "522939/522939 [==============================] - 22s 42us/step - loss: 0.5800 - acc: 0.6960\n",
      "Epoch 287/300\n",
      "522939/522939 [==============================] - 22s 41us/step - loss: 0.5799 - acc: 0.6961\n",
      "Epoch 288/300\n",
      "522939/522939 [==============================] - 22s 41us/step - loss: 0.5803 - acc: 0.6960\n",
      "Epoch 289/300\n",
      "522939/522939 [==============================] - 21s 41us/step - loss: 0.5800 - acc: 0.6960\n",
      "Epoch 290/300\n",
      "522939/522939 [==============================] - 22s 42us/step - loss: 0.5800 - acc: 0.6958\n",
      "Epoch 291/300\n",
      "522939/522939 [==============================] - 22s 41us/step - loss: 0.5801 - acc: 0.6957 1s \n",
      "Epoch 292/300\n",
      "522939/522939 [==============================] - 22s 41us/step - loss: 0.5799 - acc: 0.6962\n",
      "Epoch 293/300\n",
      "522939/522939 [==============================] - 23s 45us/step - loss: 0.5804 - acc: 0.6959\n",
      "Epoch 294/300\n",
      "522939/522939 [==============================] - 21s 40us/step - loss: 0.5802 - acc: 0.6960\n",
      "Epoch 295/300\n",
      "522939/522939 [==============================] - 21s 41us/step - loss: 0.5803 - acc: 0.6962\n",
      "Epoch 296/300\n",
      "522939/522939 [==============================] - 21s 41us/step - loss: 0.5801 - acc: 0.6959\n",
      "Epoch 297/300\n",
      "522939/522939 [==============================] - 22s 41us/step - loss: 0.5799 - acc: 0.6959\n",
      "Epoch 298/300\n",
      "522939/522939 [==============================] - 22s 41us/step - loss: 0.5800 - acc: 0.6959\n",
      "Epoch 299/300\n",
      "522939/522939 [==============================] - 24s 47us/step - loss: 0.5799 - acc: 0.6958\n",
      "Epoch 300/300\n",
      "522939/522939 [==============================] - 24s 45us/step - loss: 0.5799 - acc: 0.6962\n"
     ]
    },
    {
     "data": {
      "text/plain": [
       "<keras.callbacks.History at 0x15b59888e48>"
      ]
     },
     "execution_count": 43,
     "metadata": {},
     "output_type": "execute_result"
    }
   ],
   "source": [
    "model.fit(X, Y, epochs = 300, batch_size = 25, verbose = 1)"
   ]
  },
  {
   "cell_type": "markdown",
   "metadata": {},
   "source": [
    "# Submission\n",
    "\n",
    "Finally I will create the submission files in csv format.\n",
    "\n",
    "**submission** -> XGBoost_Binnary\n",
    "\n",
    "**submission2** -> XGBoost_Probability\n",
    "\n",
    "**submission3** -> Keras_Probability"
   ]
  },
  {
   "cell_type": "code",
   "execution_count": 44,
   "metadata": {},
   "outputs": [],
   "source": [
    "xgboost_clf = gsearch2.fit(ctrain.drop('target',axis=1), ctrain['target'])"
   ]
  },
  {
   "cell_type": "code",
   "execution_count": 45,
   "metadata": {},
   "outputs": [],
   "source": [
    "train_features = ctest"
   ]
  },
  {
   "cell_type": "code",
   "execution_count": 46,
   "metadata": {},
   "outputs": [],
   "source": [
    "del train_features['target']"
   ]
  },
  {
   "cell_type": "code",
   "execution_count": 47,
   "metadata": {},
   "outputs": [
    {
     "data": {
      "text/html": [
       "<div>\n",
       "<style scoped>\n",
       "    .dataframe tbody tr th:only-of-type {\n",
       "        vertical-align: middle;\n",
       "    }\n",
       "\n",
       "    .dataframe tbody tr th {\n",
       "        vertical-align: top;\n",
       "    }\n",
       "\n",
       "    .dataframe thead th {\n",
       "        text-align: right;\n",
       "    }\n",
       "</style>\n",
       "<table border=\"1\" class=\"dataframe\">\n",
       "  <thead>\n",
       "    <tr style=\"text-align: right;\">\n",
       "      <th></th>\n",
       "      <th>age</th>\n",
       "      <th>indBadDebt</th>\n",
       "      <th>indBadLocation</th>\n",
       "      <th>indCreditBureau</th>\n",
       "      <th>indInternet</th>\n",
       "      <th>indSimin</th>\n",
       "      <th>indXlist</th>\n",
       "      <th>salary</th>\n",
       "      <th>sex</th>\n",
       "      <th>binned_ExternalDefault</th>\n",
       "      <th>...</th>\n",
       "      <th>status_Married</th>\n",
       "      <th>status_Single</th>\n",
       "      <th>status_Unknown</th>\n",
       "      <th>status_Widower</th>\n",
       "      <th>binned_externalScore_0.0</th>\n",
       "      <th>binned_externalScore_1.0</th>\n",
       "      <th>binned_externalScore_2.0</th>\n",
       "      <th>binned_externalScore_3.0</th>\n",
       "      <th>binned_externalScore_4.0</th>\n",
       "      <th>binned_externalScore_Unknown</th>\n",
       "    </tr>\n",
       "  </thead>\n",
       "  <tbody>\n",
       "    <tr>\n",
       "      <th>522939</th>\n",
       "      <td>26.0</td>\n",
       "      <td>0</td>\n",
       "      <td>0</td>\n",
       "      <td>0</td>\n",
       "      <td>1</td>\n",
       "      <td>0</td>\n",
       "      <td>0</td>\n",
       "      <td>1400</td>\n",
       "      <td>0</td>\n",
       "      <td>3.0</td>\n",
       "      <td>...</td>\n",
       "      <td>0</td>\n",
       "      <td>1</td>\n",
       "      <td>0</td>\n",
       "      <td>0</td>\n",
       "      <td>0</td>\n",
       "      <td>0</td>\n",
       "      <td>1</td>\n",
       "      <td>0</td>\n",
       "      <td>0</td>\n",
       "      <td>0</td>\n",
       "    </tr>\n",
       "    <tr>\n",
       "      <th>522940</th>\n",
       "      <td>20.0</td>\n",
       "      <td>0</td>\n",
       "      <td>0</td>\n",
       "      <td>0</td>\n",
       "      <td>1</td>\n",
       "      <td>0</td>\n",
       "      <td>0</td>\n",
       "      <td>350</td>\n",
       "      <td>0</td>\n",
       "      <td>3.0</td>\n",
       "      <td>...</td>\n",
       "      <td>0</td>\n",
       "      <td>1</td>\n",
       "      <td>0</td>\n",
       "      <td>0</td>\n",
       "      <td>0</td>\n",
       "      <td>0</td>\n",
       "      <td>0</td>\n",
       "      <td>1</td>\n",
       "      <td>0</td>\n",
       "      <td>0</td>\n",
       "    </tr>\n",
       "    <tr>\n",
       "      <th>522941</th>\n",
       "      <td>63.0</td>\n",
       "      <td>0</td>\n",
       "      <td>0</td>\n",
       "      <td>0</td>\n",
       "      <td>0</td>\n",
       "      <td>0</td>\n",
       "      <td>0</td>\n",
       "      <td>1400</td>\n",
       "      <td>1</td>\n",
       "      <td>3.0</td>\n",
       "      <td>...</td>\n",
       "      <td>0</td>\n",
       "      <td>1</td>\n",
       "      <td>0</td>\n",
       "      <td>0</td>\n",
       "      <td>0</td>\n",
       "      <td>0</td>\n",
       "      <td>0</td>\n",
       "      <td>0</td>\n",
       "      <td>1</td>\n",
       "      <td>0</td>\n",
       "    </tr>\n",
       "    <tr>\n",
       "      <th>522942</th>\n",
       "      <td>32.0</td>\n",
       "      <td>0</td>\n",
       "      <td>1</td>\n",
       "      <td>0</td>\n",
       "      <td>0</td>\n",
       "      <td>0</td>\n",
       "      <td>0</td>\n",
       "      <td>1200</td>\n",
       "      <td>1</td>\n",
       "      <td>3.0</td>\n",
       "      <td>...</td>\n",
       "      <td>0</td>\n",
       "      <td>1</td>\n",
       "      <td>0</td>\n",
       "      <td>0</td>\n",
       "      <td>0</td>\n",
       "      <td>0</td>\n",
       "      <td>0</td>\n",
       "      <td>1</td>\n",
       "      <td>0</td>\n",
       "      <td>0</td>\n",
       "    </tr>\n",
       "    <tr>\n",
       "      <th>522943</th>\n",
       "      <td>23.0</td>\n",
       "      <td>1</td>\n",
       "      <td>0</td>\n",
       "      <td>0</td>\n",
       "      <td>1</td>\n",
       "      <td>0</td>\n",
       "      <td>0</td>\n",
       "      <td>1400</td>\n",
       "      <td>1</td>\n",
       "      <td>1.0</td>\n",
       "      <td>...</td>\n",
       "      <td>0</td>\n",
       "      <td>1</td>\n",
       "      <td>0</td>\n",
       "      <td>0</td>\n",
       "      <td>0</td>\n",
       "      <td>0</td>\n",
       "      <td>1</td>\n",
       "      <td>0</td>\n",
       "      <td>0</td>\n",
       "      <td>0</td>\n",
       "    </tr>\n",
       "  </tbody>\n",
       "</table>\n",
       "<p>5 rows × 52 columns</p>\n",
       "</div>"
      ],
      "text/plain": [
       "         age  indBadDebt  indBadLocation  indCreditBureau  indInternet  \\\n",
       "522939  26.0           0               0                0            1   \n",
       "522940  20.0           0               0                0            1   \n",
       "522941  63.0           0               0                0            0   \n",
       "522942  32.0           0               1                0            0   \n",
       "522943  23.0           1               0                0            1   \n",
       "\n",
       "        indSimin  indXlist  salary  sex  binned_ExternalDefault  \\\n",
       "522939         0         0    1400    0                     3.0   \n",
       "522940         0         0     350    0                     3.0   \n",
       "522941         0         0    1400    1                     3.0   \n",
       "522942         0         0    1200    1                     3.0   \n",
       "522943         0         0    1400    1                     1.0   \n",
       "\n",
       "                    ...               status_Married  status_Single  \\\n",
       "522939              ...                            0              1   \n",
       "522940              ...                            0              1   \n",
       "522941              ...                            0              1   \n",
       "522942              ...                            0              1   \n",
       "522943              ...                            0              1   \n",
       "\n",
       "        status_Unknown  status_Widower  binned_externalScore_0.0  \\\n",
       "522939               0               0                         0   \n",
       "522940               0               0                         0   \n",
       "522941               0               0                         0   \n",
       "522942               0               0                         0   \n",
       "522943               0               0                         0   \n",
       "\n",
       "        binned_externalScore_1.0  binned_externalScore_2.0  \\\n",
       "522939                         0                         1   \n",
       "522940                         0                         0   \n",
       "522941                         0                         0   \n",
       "522942                         0                         0   \n",
       "522943                         0                         1   \n",
       "\n",
       "        binned_externalScore_3.0  binned_externalScore_4.0  \\\n",
       "522939                         0                         0   \n",
       "522940                         1                         0   \n",
       "522941                         0                         1   \n",
       "522942                         1                         0   \n",
       "522943                         0                         0   \n",
       "\n",
       "        binned_externalScore_Unknown  \n",
       "522939                             0  \n",
       "522940                             0  \n",
       "522941                             0  \n",
       "522942                             0  \n",
       "522943                             0  \n",
       "\n",
       "[5 rows x 52 columns]"
      ]
     },
     "execution_count": 47,
     "metadata": {},
     "output_type": "execute_result"
    }
   ],
   "source": [
    "train_features.head()"
   ]
  },
  {
   "cell_type": "code",
   "execution_count": 48,
   "metadata": {},
   "outputs": [],
   "source": [
    "prediction = gsearch2.predict(train_features)"
   ]
  },
  {
   "cell_type": "code",
   "execution_count": 49,
   "metadata": {},
   "outputs": [
    {
     "data": {
      "text/plain": [
       "array([0., 1., 0., ..., 0., 1., 0.])"
      ]
     },
     "execution_count": 49,
     "metadata": {},
     "output_type": "execute_result"
    }
   ],
   "source": [
    "prediction"
   ]
  },
  {
   "cell_type": "code",
   "execution_count": 51,
   "metadata": {},
   "outputs": [],
   "source": [
    "ctest[\"ID\"] = range(1, len(ctest) + 1)"
   ]
  },
  {
   "cell_type": "code",
   "execution_count": 52,
   "metadata": {},
   "outputs": [],
   "source": [
    "# Dataframe as per submission format\n",
    "submission = pd.DataFrame({\n",
    "            \"Id\": ctest[\"ID\"],\n",
    "            \"Prediction\": prediction\n",
    "        })"
   ]
  },
  {
   "cell_type": "code",
   "execution_count": 53,
   "metadata": {},
   "outputs": [],
   "source": [
    "# Store submission dataframe into file\n",
    "submission.to_csv(\"XGBoost_Binary.csv\", index = False)"
   ]
  },
  {
   "cell_type": "code",
   "execution_count": 54,
   "metadata": {},
   "outputs": [
    {
     "data": {
      "text/html": [
       "<div>\n",
       "<style scoped>\n",
       "    .dataframe tbody tr th:only-of-type {\n",
       "        vertical-align: middle;\n",
       "    }\n",
       "\n",
       "    .dataframe tbody tr th {\n",
       "        vertical-align: top;\n",
       "    }\n",
       "\n",
       "    .dataframe thead th {\n",
       "        text-align: right;\n",
       "    }\n",
       "</style>\n",
       "<table border=\"1\" class=\"dataframe\">\n",
       "  <thead>\n",
       "    <tr style=\"text-align: right;\">\n",
       "      <th></th>\n",
       "      <th>Id</th>\n",
       "      <th>Prediction</th>\n",
       "    </tr>\n",
       "  </thead>\n",
       "  <tbody>\n",
       "    <tr>\n",
       "      <th>522939</th>\n",
       "      <td>1</td>\n",
       "      <td>0.0</td>\n",
       "    </tr>\n",
       "    <tr>\n",
       "      <th>522940</th>\n",
       "      <td>2</td>\n",
       "      <td>1.0</td>\n",
       "    </tr>\n",
       "    <tr>\n",
       "      <th>522941</th>\n",
       "      <td>3</td>\n",
       "      <td>0.0</td>\n",
       "    </tr>\n",
       "    <tr>\n",
       "      <th>522942</th>\n",
       "      <td>4</td>\n",
       "      <td>0.0</td>\n",
       "    </tr>\n",
       "    <tr>\n",
       "      <th>522943</th>\n",
       "      <td>5</td>\n",
       "      <td>0.0</td>\n",
       "    </tr>\n",
       "  </tbody>\n",
       "</table>\n",
       "</div>"
      ],
      "text/plain": [
       "        Id  Prediction\n",
       "522939   1         0.0\n",
       "522940   2         1.0\n",
       "522941   3         0.0\n",
       "522942   4         0.0\n",
       "522943   5         0.0"
      ]
     },
     "execution_count": 54,
     "metadata": {},
     "output_type": "execute_result"
    }
   ],
   "source": [
    "submission.head()"
   ]
  },
  {
   "cell_type": "code",
   "execution_count": 55,
   "metadata": {},
   "outputs": [],
   "source": [
    "del train_features['ID']"
   ]
  },
  {
   "cell_type": "code",
   "execution_count": 56,
   "metadata": {},
   "outputs": [],
   "source": [
    "prediction2 = gsearch2.predict_proba(train_features)"
   ]
  },
  {
   "cell_type": "code",
   "execution_count": 57,
   "metadata": {},
   "outputs": [
    {
     "data": {
      "text/plain": [
       "(174313, 2)"
      ]
     },
     "execution_count": 57,
     "metadata": {},
     "output_type": "execute_result"
    }
   ],
   "source": [
    "prediction2.shape"
   ]
  },
  {
   "cell_type": "code",
   "execution_count": 58,
   "metadata": {},
   "outputs": [],
   "source": [
    "prediction2 = np.delete(prediction2,np.s_[0],axis=1)"
   ]
  },
  {
   "cell_type": "code",
   "execution_count": 59,
   "metadata": {},
   "outputs": [],
   "source": [
    "train_features['id'] = range(1, len(prediction2) + 1)"
   ]
  },
  {
   "cell_type": "code",
   "execution_count": 60,
   "metadata": {},
   "outputs": [],
   "source": [
    "submission2 = pd.DataFrame(train_features['id'])"
   ]
  },
  {
   "cell_type": "code",
   "execution_count": 61,
   "metadata": {},
   "outputs": [],
   "source": [
    "submission2['Prediction'] = prediction2"
   ]
  },
  {
   "cell_type": "code",
   "execution_count": 62,
   "metadata": {},
   "outputs": [
    {
     "data": {
      "text/plain": [
       "(174313, 2)"
      ]
     },
     "execution_count": 62,
     "metadata": {},
     "output_type": "execute_result"
    }
   ],
   "source": [
    "submission2.shape"
   ]
  },
  {
   "cell_type": "code",
   "execution_count": 63,
   "metadata": {},
   "outputs": [
    {
     "data": {
      "text/html": [
       "<div>\n",
       "<style scoped>\n",
       "    .dataframe tbody tr th:only-of-type {\n",
       "        vertical-align: middle;\n",
       "    }\n",
       "\n",
       "    .dataframe tbody tr th {\n",
       "        vertical-align: top;\n",
       "    }\n",
       "\n",
       "    .dataframe thead th {\n",
       "        text-align: right;\n",
       "    }\n",
       "</style>\n",
       "<table border=\"1\" class=\"dataframe\">\n",
       "  <thead>\n",
       "    <tr style=\"text-align: right;\">\n",
       "      <th></th>\n",
       "      <th>id</th>\n",
       "      <th>Prediction</th>\n",
       "    </tr>\n",
       "  </thead>\n",
       "  <tbody>\n",
       "    <tr>\n",
       "      <th>522939</th>\n",
       "      <td>1</td>\n",
       "      <td>0.210781</td>\n",
       "    </tr>\n",
       "    <tr>\n",
       "      <th>522940</th>\n",
       "      <td>2</td>\n",
       "      <td>0.570712</td>\n",
       "    </tr>\n",
       "    <tr>\n",
       "      <th>522941</th>\n",
       "      <td>3</td>\n",
       "      <td>0.130256</td>\n",
       "    </tr>\n",
       "    <tr>\n",
       "      <th>522942</th>\n",
       "      <td>4</td>\n",
       "      <td>0.360629</td>\n",
       "    </tr>\n",
       "    <tr>\n",
       "      <th>522943</th>\n",
       "      <td>5</td>\n",
       "      <td>0.430286</td>\n",
       "    </tr>\n",
       "  </tbody>\n",
       "</table>\n",
       "</div>"
      ],
      "text/plain": [
       "        id  Prediction\n",
       "522939   1    0.210781\n",
       "522940   2    0.570712\n",
       "522941   3    0.130256\n",
       "522942   4    0.360629\n",
       "522943   5    0.430286"
      ]
     },
     "execution_count": 63,
     "metadata": {},
     "output_type": "execute_result"
    }
   ],
   "source": [
    "submission2.head()"
   ]
  },
  {
   "cell_type": "code",
   "execution_count": 64,
   "metadata": {},
   "outputs": [],
   "source": [
    "# Store submission dataframe into file\n",
    "submission2.to_csv(\"XGBoost_Probability.csv\", index = False)"
   ]
  },
  {
   "cell_type": "code",
   "execution_count": 65,
   "metadata": {},
   "outputs": [
    {
     "name": "stdout",
     "output_type": "stream",
     "text": [
      "(174313, 51)\n"
     ]
    }
   ],
   "source": [
    "array = ctest.values\n",
    "X = array[:, 0:51]\n",
    "\n",
    "print(X.shape)"
   ]
  },
  {
   "cell_type": "code",
   "execution_count": 66,
   "metadata": {},
   "outputs": [],
   "source": [
    "prediction3 = model.predict(X)"
   ]
  },
  {
   "cell_type": "code",
   "execution_count": 67,
   "metadata": {},
   "outputs": [],
   "source": [
    "submission3 = pd.DataFrame(train_features['id'])"
   ]
  },
  {
   "cell_type": "code",
   "execution_count": 68,
   "metadata": {},
   "outputs": [],
   "source": [
    "submission3['Prediction'] = prediction3"
   ]
  },
  {
   "cell_type": "code",
   "execution_count": 69,
   "metadata": {},
   "outputs": [
    {
     "data": {
      "text/plain": [
       "(174313, 2)"
      ]
     },
     "execution_count": 69,
     "metadata": {},
     "output_type": "execute_result"
    }
   ],
   "source": [
    "submission3.shape"
   ]
  },
  {
   "cell_type": "code",
   "execution_count": 70,
   "metadata": {},
   "outputs": [
    {
     "data": {
      "text/html": [
       "<div>\n",
       "<style scoped>\n",
       "    .dataframe tbody tr th:only-of-type {\n",
       "        vertical-align: middle;\n",
       "    }\n",
       "\n",
       "    .dataframe tbody tr th {\n",
       "        vertical-align: top;\n",
       "    }\n",
       "\n",
       "    .dataframe thead th {\n",
       "        text-align: right;\n",
       "    }\n",
       "</style>\n",
       "<table border=\"1\" class=\"dataframe\">\n",
       "  <thead>\n",
       "    <tr style=\"text-align: right;\">\n",
       "      <th></th>\n",
       "      <th>id</th>\n",
       "      <th>Prediction</th>\n",
       "    </tr>\n",
       "  </thead>\n",
       "  <tbody>\n",
       "    <tr>\n",
       "      <th>522939</th>\n",
       "      <td>1</td>\n",
       "      <td>0.282154</td>\n",
       "    </tr>\n",
       "    <tr>\n",
       "      <th>522940</th>\n",
       "      <td>2</td>\n",
       "      <td>0.639322</td>\n",
       "    </tr>\n",
       "    <tr>\n",
       "      <th>522941</th>\n",
       "      <td>3</td>\n",
       "      <td>0.189951</td>\n",
       "    </tr>\n",
       "    <tr>\n",
       "      <th>522942</th>\n",
       "      <td>4</td>\n",
       "      <td>0.351017</td>\n",
       "    </tr>\n",
       "    <tr>\n",
       "      <th>522943</th>\n",
       "      <td>5</td>\n",
       "      <td>0.501262</td>\n",
       "    </tr>\n",
       "  </tbody>\n",
       "</table>\n",
       "</div>"
      ],
      "text/plain": [
       "        id  Prediction\n",
       "522939   1    0.282154\n",
       "522940   2    0.639322\n",
       "522941   3    0.189951\n",
       "522942   4    0.351017\n",
       "522943   5    0.501262"
      ]
     },
     "execution_count": 70,
     "metadata": {},
     "output_type": "execute_result"
    }
   ],
   "source": [
    "submission3.head()"
   ]
  },
  {
   "cell_type": "code",
   "execution_count": 71,
   "metadata": {},
   "outputs": [],
   "source": [
    "submission3.to_csv(\"Keras_Probability.csv\", index = False)"
   ]
  },
  {
   "cell_type": "markdown",
   "metadata": {},
   "source": [
    "# Conclusion"
   ]
  },
  {
   "cell_type": "markdown",
   "metadata": {},
   "source": [
    "XGBoost returned the better output (the one I ultimately submitted), around **71,4%** of the predicted instances fall under the curve, a little more parameter tunning could probably show a little increase on this number. However, I feel a much better result could be achieved if we were to input more information in the model, such as type of activity, savings, regular expenses, etc."
   ]
  },
  {
   "cell_type": "markdown",
   "metadata": {},
   "source": [
    "[![https://gyazo.com/6cb3d0108fd0b04d257c2e7630578bc3](https://i.gyazo.com/6cb3d0108fd0b04d257c2e7630578bc3.png)](https://gyazo.com/6cb3d0108fd0b04d257c2e7630578bc3)"
   ]
  },
  {
   "cell_type": "code",
   "execution_count": null,
   "metadata": {},
   "outputs": [],
   "source": []
  }
 ],
 "metadata": {
  "kernelspec": {
   "display_name": "Python 3",
   "language": "python",
   "name": "python3"
  },
  "language_info": {
   "codemirror_mode": {
    "name": "ipython",
    "version": 3
   },
   "file_extension": ".py",
   "mimetype": "text/x-python",
   "name": "python",
   "nbconvert_exporter": "python",
   "pygments_lexer": "ipython3",
   "version": "3.6.5"
  }
 },
 "nbformat": 4,
 "nbformat_minor": 2
}
