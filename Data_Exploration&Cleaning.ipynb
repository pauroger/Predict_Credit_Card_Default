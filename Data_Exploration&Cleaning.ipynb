{
 "cells": [
  {
   "cell_type": "markdown",
   "metadata": {},
   "source": [
    "[![https://gyazo.com/4c20b38b3c25155465c9a9a1440c47b2](https://i.gyazo.com/4c20b38b3c25155465c9a9a1440c47b2.png)](https://gyazo.com/4c20b38b3c25155465c9a9a1440c47b2)\n",
    "\n",
    "\n",
    "\n",
    "##  INDIVIDUAL PROJECT - Predict Credit Card Default\n",
    "\n",
    "\n",
    "## Data Exploration & Cleaning\n",
    "\n",
    "                                                           Pau Roger Puig-Sureda\n",
    "                                                           08/06/2018"
   ]
  },
  {
   "cell_type": "markdown",
   "metadata": {},
   "source": [
    "### Import Libraries"
   ]
  },
  {
   "cell_type": "code",
   "execution_count": 2,
   "metadata": {},
   "outputs": [],
   "source": [
    "import numpy as np\n",
    "import pandas as pd\n",
    "import matplotlib as mp\n",
    "import matplotlib.pyplot as plt\n",
    "import seaborn as sns\n",
    "from collections import Counter\n",
    "from scipy import stats\n",
    "import warnings\n",
    "warnings.filterwarnings('ignore')\n",
    "%matplotlib inline"
   ]
  },
  {
   "cell_type": "markdown",
   "metadata": {},
   "source": [
    "### Import Train data"
   ]
  },
  {
   "cell_type": "code",
   "execution_count": 3,
   "metadata": {
    "scrolled": true
   },
   "outputs": [
    {
     "data": {
      "text/html": [
       "<div>\n",
       "<style scoped>\n",
       "    .dataframe tbody tr th:only-of-type {\n",
       "        vertical-align: middle;\n",
       "    }\n",
       "\n",
       "    .dataframe tbody tr th {\n",
       "        vertical-align: top;\n",
       "    }\n",
       "\n",
       "    .dataframe thead th {\n",
       "        text-align: right;\n",
       "    }\n",
       "</style>\n",
       "<table border=\"1\" class=\"dataframe\">\n",
       "  <thead>\n",
       "    <tr style=\"text-align: right;\">\n",
       "      <th></th>\n",
       "      <th>customerID</th>\n",
       "      <th>sex</th>\n",
       "      <th>status</th>\n",
       "      <th>age</th>\n",
       "      <th>externalScore</th>\n",
       "      <th>indSimin</th>\n",
       "      <th>indXlist</th>\n",
       "      <th>indCreditBureau</th>\n",
       "      <th>indInternet</th>\n",
       "      <th>indBadDebt</th>\n",
       "      <th>salary</th>\n",
       "      <th>numLoans</th>\n",
       "      <th>numMortgages</th>\n",
       "      <th>channel</th>\n",
       "      <th>indBadLocation</th>\n",
       "      <th>previous</th>\n",
       "      <th>sumExternalDefault</th>\n",
       "      <th>target</th>\n",
       "    </tr>\n",
       "  </thead>\n",
       "  <tbody>\n",
       "    <tr>\n",
       "      <th>0</th>\n",
       "      <td>D_00046780637</td>\n",
       "      <td>Female</td>\n",
       "      <td>Single</td>\n",
       "      <td>23.0</td>\n",
       "      <td>373.0</td>\n",
       "      <td>0</td>\n",
       "      <td>0</td>\n",
       "      <td>0</td>\n",
       "      <td>1</td>\n",
       "      <td>1</td>\n",
       "      <td>[1000,1300)</td>\n",
       "      <td>NaN</td>\n",
       "      <td>NaN</td>\n",
       "      <td>External Agent</td>\n",
       "      <td>0</td>\n",
       "      <td>Normal</td>\n",
       "      <td>1173.46</td>\n",
       "      <td>1</td>\n",
       "    </tr>\n",
       "    <tr>\n",
       "      <th>1</th>\n",
       "      <td>D_00043828980</td>\n",
       "      <td>Male</td>\n",
       "      <td>Single</td>\n",
       "      <td>27.0</td>\n",
       "      <td>702.0</td>\n",
       "      <td>1</td>\n",
       "      <td>0</td>\n",
       "      <td>0</td>\n",
       "      <td>1</td>\n",
       "      <td>0</td>\n",
       "      <td>[1500,2000)</td>\n",
       "      <td>1.0</td>\n",
       "      <td>0.0</td>\n",
       "      <td>External Agent</td>\n",
       "      <td>0</td>\n",
       "      <td>Restructuring</td>\n",
       "      <td>0.00</td>\n",
       "      <td>0</td>\n",
       "    </tr>\n",
       "    <tr>\n",
       "      <th>2</th>\n",
       "      <td>D_00043396577</td>\n",
       "      <td>Male</td>\n",
       "      <td>Single</td>\n",
       "      <td>28.0</td>\n",
       "      <td>728.0</td>\n",
       "      <td>0</td>\n",
       "      <td>0</td>\n",
       "      <td>0</td>\n",
       "      <td>1</td>\n",
       "      <td>0</td>\n",
       "      <td>[1500,2000)</td>\n",
       "      <td>2.0</td>\n",
       "      <td>0.0</td>\n",
       "      <td>External Agent</td>\n",
       "      <td>0</td>\n",
       "      <td>Restructuring</td>\n",
       "      <td>0.00</td>\n",
       "      <td>1</td>\n",
       "    </tr>\n",
       "  </tbody>\n",
       "</table>\n",
       "</div>"
      ],
      "text/plain": [
       "      customerID     sex  status   age  externalScore  indSimin  indXlist  \\\n",
       "0  D_00046780637  Female  Single  23.0          373.0         0         0   \n",
       "1  D_00043828980    Male  Single  27.0          702.0         1         0   \n",
       "2  D_00043396577    Male  Single  28.0          728.0         0         0   \n",
       "\n",
       "   indCreditBureau  indInternet  indBadDebt       salary  numLoans  \\\n",
       "0                0            1           1  [1000,1300)       NaN   \n",
       "1                0            1           0  [1500,2000)       1.0   \n",
       "2                0            1           0  [1500,2000)       2.0   \n",
       "\n",
       "   numMortgages         channel  indBadLocation       previous  \\\n",
       "0           NaN  External Agent               0         Normal   \n",
       "1           0.0  External Agent               0  Restructuring   \n",
       "2           0.0  External Agent               0  Restructuring   \n",
       "\n",
       "   sumExternalDefault  target  \n",
       "0             1173.46       1  \n",
       "1                0.00       0  \n",
       "2                0.00       1  "
      ]
     },
     "execution_count": 3,
     "metadata": {},
     "output_type": "execute_result"
    }
   ],
   "source": [
    "train_Total = pd.read_csv('challengeTrain.csv')\n",
    "train_Total.head(3)"
   ]
  },
  {
   "cell_type": "code",
   "execution_count": 4,
   "metadata": {},
   "outputs": [
    {
     "data": {
      "text/plain": [
       "(522939, 18)"
      ]
     },
     "execution_count": 4,
     "metadata": {},
     "output_type": "execute_result"
    }
   ],
   "source": [
    "train_Total.shape"
   ]
  },
  {
   "cell_type": "markdown",
   "metadata": {},
   "source": [
    "### Take only a subset for speed purposes\n",
    "\n",
    "To do quicker parameter tunning on the different models, I opted to take a sample of around 10% of the instances."
   ]
  },
  {
   "cell_type": "code",
   "execution_count": 5,
   "metadata": {},
   "outputs": [],
   "source": [
    "train = train_Total#.head(50000)"
   ]
  },
  {
   "cell_type": "markdown",
   "metadata": {},
   "source": [
    "### Visualization: Variables vs Target"
   ]
  },
  {
   "cell_type": "code",
   "execution_count": 6,
   "metadata": {},
   "outputs": [
    {
     "data": {
      "image/png": "[encoded data removed]",
      "text/plain": [
       "<Figure size 1800x1080 with 1 Axes>"
      ]
     },
     "metadata": {},
     "output_type": "display_data"
    }
   ],
   "source": [
    "plt.figure(figsize=(25,15))\n",
    "sns.countplot(train[\"target\"]);"
   ]
  },
  {
   "cell_type": "code",
   "execution_count": 7,
   "metadata": {},
   "outputs": [
    {
     "data": {
      "text/plain": [
       "Counter({1: 177938, 0: 345001})"
      ]
     },
     "execution_count": 7,
     "metadata": {},
     "output_type": "execute_result"
    }
   ],
   "source": [
    "Counter(train['target'])"
   ]
  },
  {
   "cell_type": "markdown",
   "metadata": {},
   "source": [
    "This means that a model that would say clients will not churn, would get it right **66%** of the time. Hence, for my machine learning to provide valuable information, it has to output better results."
   ]
  },
  {
   "cell_type": "code",
   "execution_count": 8,
   "metadata": {},
   "outputs": [
    {
     "data": {
      "text/html": [
       "<div>\n",
       "<style scoped>\n",
       "    .dataframe tbody tr th:only-of-type {\n",
       "        vertical-align: middle;\n",
       "    }\n",
       "\n",
       "    .dataframe tbody tr th {\n",
       "        vertical-align: top;\n",
       "    }\n",
       "\n",
       "    .dataframe thead th {\n",
       "        text-align: right;\n",
       "    }\n",
       "</style>\n",
       "<table border=\"1\" class=\"dataframe\">\n",
       "  <thead>\n",
       "    <tr style=\"text-align: right;\">\n",
       "      <th></th>\n",
       "      <th>age</th>\n",
       "      <th>externalScore</th>\n",
       "      <th>indSimin</th>\n",
       "      <th>indXlist</th>\n",
       "      <th>indCreditBureau</th>\n",
       "      <th>indInternet</th>\n",
       "      <th>indBadDebt</th>\n",
       "      <th>numLoans</th>\n",
       "      <th>numMortgages</th>\n",
       "      <th>indBadLocation</th>\n",
       "      <th>sumExternalDefault</th>\n",
       "      <th>target</th>\n",
       "    </tr>\n",
       "  </thead>\n",
       "  <tbody>\n",
       "    <tr>\n",
       "      <th>age</th>\n",
       "      <td>1.000000</td>\n",
       "      <td>0.331426</td>\n",
       "      <td>0.212002</td>\n",
       "      <td>0.034850</td>\n",
       "      <td>0.026077</td>\n",
       "      <td>-0.060288</td>\n",
       "      <td>-0.047110</td>\n",
       "      <td>0.074870</td>\n",
       "      <td>0.013078</td>\n",
       "      <td>0.010903</td>\n",
       "      <td>0.008358</td>\n",
       "      <td>-0.089086</td>\n",
       "    </tr>\n",
       "    <tr>\n",
       "      <th>externalScore</th>\n",
       "      <td>0.331426</td>\n",
       "      <td>1.000000</td>\n",
       "      <td>0.106317</td>\n",
       "      <td>-0.049370</td>\n",
       "      <td>-0.217069</td>\n",
       "      <td>0.018792</td>\n",
       "      <td>-0.492729</td>\n",
       "      <td>0.074626</td>\n",
       "      <td>0.107768</td>\n",
       "      <td>-0.039955</td>\n",
       "      <td>-0.068143</td>\n",
       "      <td>-0.223701</td>\n",
       "    </tr>\n",
       "    <tr>\n",
       "      <th>indSimin</th>\n",
       "      <td>0.212002</td>\n",
       "      <td>0.106317</td>\n",
       "      <td>1.000000</td>\n",
       "      <td>-0.078886</td>\n",
       "      <td>-0.005982</td>\n",
       "      <td>0.137329</td>\n",
       "      <td>-0.023332</td>\n",
       "      <td>0.054658</td>\n",
       "      <td>0.005521</td>\n",
       "      <td>0.011073</td>\n",
       "      <td>-0.001204</td>\n",
       "      <td>-0.081625</td>\n",
       "    </tr>\n",
       "    <tr>\n",
       "      <th>indXlist</th>\n",
       "      <td>0.034850</td>\n",
       "      <td>-0.049370</td>\n",
       "      <td>-0.078886</td>\n",
       "      <td>1.000000</td>\n",
       "      <td>0.024611</td>\n",
       "      <td>-0.442318</td>\n",
       "      <td>0.023786</td>\n",
       "      <td>-0.038203</td>\n",
       "      <td>-0.027999</td>\n",
       "      <td>0.018933</td>\n",
       "      <td>0.004243</td>\n",
       "      <td>0.062213</td>\n",
       "    </tr>\n",
       "    <tr>\n",
       "      <th>indCreditBureau</th>\n",
       "      <td>0.026077</td>\n",
       "      <td>-0.217069</td>\n",
       "      <td>-0.005982</td>\n",
       "      <td>0.024611</td>\n",
       "      <td>1.000000</td>\n",
       "      <td>-0.011831</td>\n",
       "      <td>0.169119</td>\n",
       "      <td>-0.098194</td>\n",
       "      <td>-0.018536</td>\n",
       "      <td>-0.013597</td>\n",
       "      <td>0.063071</td>\n",
       "      <td>0.046824</td>\n",
       "    </tr>\n",
       "    <tr>\n",
       "      <th>indInternet</th>\n",
       "      <td>-0.060288</td>\n",
       "      <td>0.018792</td>\n",
       "      <td>0.137329</td>\n",
       "      <td>-0.442318</td>\n",
       "      <td>-0.011831</td>\n",
       "      <td>1.000000</td>\n",
       "      <td>-0.002633</td>\n",
       "      <td>0.038640</td>\n",
       "      <td>0.014409</td>\n",
       "      <td>-0.004749</td>\n",
       "      <td>-0.003929</td>\n",
       "      <td>-0.064515</td>\n",
       "    </tr>\n",
       "    <tr>\n",
       "      <th>indBadDebt</th>\n",
       "      <td>-0.047110</td>\n",
       "      <td>-0.492729</td>\n",
       "      <td>-0.023332</td>\n",
       "      <td>0.023786</td>\n",
       "      <td>0.169119</td>\n",
       "      <td>-0.002633</td>\n",
       "      <td>1.000000</td>\n",
       "      <td>-0.084328</td>\n",
       "      <td>-0.058628</td>\n",
       "      <td>0.055464</td>\n",
       "      <td>0.069402</td>\n",
       "      <td>0.148744</td>\n",
       "    </tr>\n",
       "    <tr>\n",
       "      <th>numLoans</th>\n",
       "      <td>0.074870</td>\n",
       "      <td>0.074626</td>\n",
       "      <td>0.054658</td>\n",
       "      <td>-0.038203</td>\n",
       "      <td>-0.098194</td>\n",
       "      <td>0.038640</td>\n",
       "      <td>-0.084328</td>\n",
       "      <td>1.000000</td>\n",
       "      <td>0.072303</td>\n",
       "      <td>-0.000760</td>\n",
       "      <td>-0.013499</td>\n",
       "      <td>-0.119378</td>\n",
       "    </tr>\n",
       "    <tr>\n",
       "      <th>numMortgages</th>\n",
       "      <td>0.013078</td>\n",
       "      <td>0.107768</td>\n",
       "      <td>0.005521</td>\n",
       "      <td>-0.027999</td>\n",
       "      <td>-0.018536</td>\n",
       "      <td>0.014409</td>\n",
       "      <td>-0.058628</td>\n",
       "      <td>0.072303</td>\n",
       "      <td>1.000000</td>\n",
       "      <td>-0.043736</td>\n",
       "      <td>-0.000142</td>\n",
       "      <td>-0.089136</td>\n",
       "    </tr>\n",
       "    <tr>\n",
       "      <th>indBadLocation</th>\n",
       "      <td>0.010903</td>\n",
       "      <td>-0.039955</td>\n",
       "      <td>0.011073</td>\n",
       "      <td>0.018933</td>\n",
       "      <td>-0.013597</td>\n",
       "      <td>-0.004749</td>\n",
       "      <td>0.055464</td>\n",
       "      <td>-0.000760</td>\n",
       "      <td>-0.043736</td>\n",
       "      <td>1.000000</td>\n",
       "      <td>0.002456</td>\n",
       "      <td>0.081940</td>\n",
       "    </tr>\n",
       "    <tr>\n",
       "      <th>sumExternalDefault</th>\n",
       "      <td>0.008358</td>\n",
       "      <td>-0.068143</td>\n",
       "      <td>-0.001204</td>\n",
       "      <td>0.004243</td>\n",
       "      <td>0.063071</td>\n",
       "      <td>-0.003929</td>\n",
       "      <td>0.069402</td>\n",
       "      <td>-0.013499</td>\n",
       "      <td>-0.000142</td>\n",
       "      <td>0.002456</td>\n",
       "      <td>1.000000</td>\n",
       "      <td>0.009656</td>\n",
       "    </tr>\n",
       "    <tr>\n",
       "      <th>target</th>\n",
       "      <td>-0.089086</td>\n",
       "      <td>-0.223701</td>\n",
       "      <td>-0.081625</td>\n",
       "      <td>0.062213</td>\n",
       "      <td>0.046824</td>\n",
       "      <td>-0.064515</td>\n",
       "      <td>0.148744</td>\n",
       "      <td>-0.119378</td>\n",
       "      <td>-0.089136</td>\n",
       "      <td>0.081940</td>\n",
       "      <td>0.009656</td>\n",
       "      <td>1.000000</td>\n",
       "    </tr>\n",
       "  </tbody>\n",
       "</table>\n",
       "</div>"
      ],
      "text/plain": [
       "                         age  externalScore  indSimin  indXlist  \\\n",
       "age                 1.000000       0.331426  0.212002  0.034850   \n",
       "externalScore       0.331426       1.000000  0.106317 -0.049370   \n",
       "indSimin            0.212002       0.106317  1.000000 -0.078886   \n",
       "indXlist            0.034850      -0.049370 -0.078886  1.000000   \n",
       "indCreditBureau     0.026077      -0.217069 -0.005982  0.024611   \n",
       "indInternet        -0.060288       0.018792  0.137329 -0.442318   \n",
       "indBadDebt         -0.047110      -0.492729 -0.023332  0.023786   \n",
       "numLoans            0.074870       0.074626  0.054658 -0.038203   \n",
       "numMortgages        0.013078       0.107768  0.005521 -0.027999   \n",
       "indBadLocation      0.010903      -0.039955  0.011073  0.018933   \n",
       "sumExternalDefault  0.008358      -0.068143 -0.001204  0.004243   \n",
       "target             -0.089086      -0.223701 -0.081625  0.062213   \n",
       "\n",
       "                    indCreditBureau  indInternet  indBadDebt  numLoans  \\\n",
       "age                        0.026077    -0.060288   -0.047110  0.074870   \n",
       "externalScore             -0.217069     0.018792   -0.492729  0.074626   \n",
       "indSimin                  -0.005982     0.137329   -0.023332  0.054658   \n",
       "indXlist                   0.024611    -0.442318    0.023786 -0.038203   \n",
       "indCreditBureau            1.000000    -0.011831    0.169119 -0.098194   \n",
       "indInternet               -0.011831     1.000000   -0.002633  0.038640   \n",
       "indBadDebt                 0.169119    -0.002633    1.000000 -0.084328   \n",
       "numLoans                  -0.098194     0.038640   -0.084328  1.000000   \n",
       "numMortgages              -0.018536     0.014409   -0.058628  0.072303   \n",
       "indBadLocation            -0.013597    -0.004749    0.055464 -0.000760   \n",
       "sumExternalDefault         0.063071    -0.003929    0.069402 -0.013499   \n",
       "target                     0.046824    -0.064515    0.148744 -0.119378   \n",
       "\n",
       "                    numMortgages  indBadLocation  sumExternalDefault    target  \n",
       "age                     0.013078        0.010903            0.008358 -0.089086  \n",
       "externalScore           0.107768       -0.039955           -0.068143 -0.223701  \n",
       "indSimin                0.005521        0.011073           -0.001204 -0.081625  \n",
       "indXlist               -0.027999        0.018933            0.004243  0.062213  \n",
       "indCreditBureau        -0.018536       -0.013597            0.063071  0.046824  \n",
       "indInternet             0.014409       -0.004749           -0.003929 -0.064515  \n",
       "indBadDebt             -0.058628        0.055464            0.069402  0.148744  \n",
       "numLoans                0.072303       -0.000760           -0.013499 -0.119378  \n",
       "numMortgages            1.000000       -0.043736           -0.000142 -0.089136  \n",
       "indBadLocation         -0.043736        1.000000            0.002456  0.081940  \n",
       "sumExternalDefault     -0.000142        0.002456            1.000000  0.009656  \n",
       "target                 -0.089136        0.081940            0.009656  1.000000  "
      ]
     },
     "execution_count": 8,
     "metadata": {},
     "output_type": "execute_result"
    }
   ],
   "source": [
    "train.corr()"
   ]
  },
  {
   "cell_type": "markdown",
   "metadata": {},
   "source": [
    "### Import Test data\n",
    "\n",
    "Printing the first three rows. "
   ]
  },
  {
   "cell_type": "code",
   "execution_count": 10,
   "metadata": {},
   "outputs": [
    {
     "data": {
      "text/html": [
       "<div>\n",
       "<style scoped>\n",
       "    .dataframe tbody tr th:only-of-type {\n",
       "        vertical-align: middle;\n",
       "    }\n",
       "\n",
       "    .dataframe tbody tr th {\n",
       "        vertical-align: top;\n",
       "    }\n",
       "\n",
       "    .dataframe thead th {\n",
       "        text-align: right;\n",
       "    }\n",
       "</style>\n",
       "<table border=\"1\" class=\"dataframe\">\n",
       "  <thead>\n",
       "    <tr style=\"text-align: right;\">\n",
       "      <th></th>\n",
       "      <th>customerID</th>\n",
       "      <th>sex</th>\n",
       "      <th>status</th>\n",
       "      <th>age</th>\n",
       "      <th>externalScore</th>\n",
       "      <th>indSimin</th>\n",
       "      <th>indXlist</th>\n",
       "      <th>indCreditBureau</th>\n",
       "      <th>indInternet</th>\n",
       "      <th>indBadDebt</th>\n",
       "      <th>salary</th>\n",
       "      <th>numLoans</th>\n",
       "      <th>numMortgages</th>\n",
       "      <th>channel</th>\n",
       "      <th>indBadLocation</th>\n",
       "      <th>previous</th>\n",
       "      <th>sumExternalDefault</th>\n",
       "    </tr>\n",
       "  </thead>\n",
       "  <tbody>\n",
       "    <tr>\n",
       "      <th>0</th>\n",
       "      <td>D_00044539972</td>\n",
       "      <td>Female</td>\n",
       "      <td>Single</td>\n",
       "      <td>26.0</td>\n",
       "      <td>510.0</td>\n",
       "      <td>0</td>\n",
       "      <td>0</td>\n",
       "      <td>0</td>\n",
       "      <td>1</td>\n",
       "      <td>0</td>\n",
       "      <td>[1300,1500)</td>\n",
       "      <td>NaN</td>\n",
       "      <td>NaN</td>\n",
       "      <td>Call Center</td>\n",
       "      <td>0</td>\n",
       "      <td>Normal</td>\n",
       "      <td>0.0</td>\n",
       "    </tr>\n",
       "    <tr>\n",
       "      <th>1</th>\n",
       "      <td>D_00074041049</td>\n",
       "      <td>Female</td>\n",
       "      <td>Single</td>\n",
       "      <td>20.0</td>\n",
       "      <td>739.0</td>\n",
       "      <td>0</td>\n",
       "      <td>0</td>\n",
       "      <td>0</td>\n",
       "      <td>1</td>\n",
       "      <td>0</td>\n",
       "      <td>&lt;650</td>\n",
       "      <td>NaN</td>\n",
       "      <td>NaN</td>\n",
       "      <td>External Agent</td>\n",
       "      <td>0</td>\n",
       "      <td>Normal</td>\n",
       "      <td>0.0</td>\n",
       "    </tr>\n",
       "    <tr>\n",
       "      <th>2</th>\n",
       "      <td>D_00041998439</td>\n",
       "      <td>Male</td>\n",
       "      <td>Single</td>\n",
       "      <td>63.0</td>\n",
       "      <td>893.0</td>\n",
       "      <td>0</td>\n",
       "      <td>0</td>\n",
       "      <td>0</td>\n",
       "      <td>0</td>\n",
       "      <td>0</td>\n",
       "      <td>[1300,1500)</td>\n",
       "      <td>1.0</td>\n",
       "      <td>0.0</td>\n",
       "      <td>Branch</td>\n",
       "      <td>0</td>\n",
       "      <td>Default</td>\n",
       "      <td>0.0</td>\n",
       "    </tr>\n",
       "  </tbody>\n",
       "</table>\n",
       "</div>"
      ],
      "text/plain": [
       "      customerID     sex  status   age  externalScore  indSimin  indXlist  \\\n",
       "0  D_00044539972  Female  Single  26.0          510.0         0         0   \n",
       "1  D_00074041049  Female  Single  20.0          739.0         0         0   \n",
       "2  D_00041998439    Male  Single  63.0          893.0         0         0   \n",
       "\n",
       "   indCreditBureau  indInternet  indBadDebt       salary  numLoans  \\\n",
       "0                0            1           0  [1300,1500)       NaN   \n",
       "1                0            1           0         <650       NaN   \n",
       "2                0            0           0  [1300,1500)       1.0   \n",
       "\n",
       "   numMortgages         channel  indBadLocation previous  sumExternalDefault  \n",
       "0           NaN     Call Center               0   Normal                 0.0  \n",
       "1           NaN  External Agent               0   Normal                 0.0  \n",
       "2           0.0          Branch               0  Default                 0.0  "
      ]
     },
     "execution_count": 10,
     "metadata": {},
     "output_type": "execute_result"
    }
   ],
   "source": [
    "test = pd.read_csv('challengeTest.csv')\n",
    "test.head(3)"
   ]
  },
  {
   "cell_type": "code",
   "execution_count": 11,
   "metadata": {},
   "outputs": [
    {
     "data": {
      "text/plain": [
       "(174313, 17)"
      ]
     },
     "execution_count": 11,
     "metadata": {},
     "output_type": "execute_result"
    }
   ],
   "source": [
    "test.shape"
   ]
  },
  {
   "cell_type": "markdown",
   "metadata": {},
   "source": [
    "### Join Datasets\n",
    "\n",
    "So that I only have to do transformations once. I will split them again before the modelling part."
   ]
  },
  {
   "cell_type": "code",
   "execution_count": 12,
   "metadata": {},
   "outputs": [
    {
     "data": {
      "text/plain": [
       "(697252, 18)"
      ]
     },
     "execution_count": 12,
     "metadata": {},
     "output_type": "execute_result"
    }
   ],
   "source": [
    "data = train.append(pd.DataFrame(data = test), ignore_index=True)\n",
    "data.shape"
   ]
  },
  {
   "cell_type": "code",
   "execution_count": 13,
   "metadata": {
    "scrolled": true
   },
   "outputs": [
    {
     "data": {
      "text/html": [
       "<div>\n",
       "<style scoped>\n",
       "    .dataframe tbody tr th:only-of-type {\n",
       "        vertical-align: middle;\n",
       "    }\n",
       "\n",
       "    .dataframe tbody tr th {\n",
       "        vertical-align: top;\n",
       "    }\n",
       "\n",
       "    .dataframe thead th {\n",
       "        text-align: right;\n",
       "    }\n",
       "</style>\n",
       "<table border=\"1\" class=\"dataframe\">\n",
       "  <thead>\n",
       "    <tr style=\"text-align: right;\">\n",
       "      <th></th>\n",
       "      <th>age</th>\n",
       "      <th>channel</th>\n",
       "      <th>customerID</th>\n",
       "      <th>externalScore</th>\n",
       "      <th>indBadDebt</th>\n",
       "      <th>indBadLocation</th>\n",
       "      <th>indCreditBureau</th>\n",
       "      <th>indInternet</th>\n",
       "      <th>indSimin</th>\n",
       "      <th>indXlist</th>\n",
       "      <th>numLoans</th>\n",
       "      <th>numMortgages</th>\n",
       "      <th>previous</th>\n",
       "      <th>salary</th>\n",
       "      <th>sex</th>\n",
       "      <th>status</th>\n",
       "      <th>sumExternalDefault</th>\n",
       "      <th>target</th>\n",
       "    </tr>\n",
       "  </thead>\n",
       "  <tbody>\n",
       "    <tr>\n",
       "      <th>0</th>\n",
       "      <td>23.0</td>\n",
       "      <td>External Agent</td>\n",
       "      <td>D_00046780637</td>\n",
       "      <td>373.0</td>\n",
       "      <td>1</td>\n",
       "      <td>0</td>\n",
       "      <td>0</td>\n",
       "      <td>1</td>\n",
       "      <td>0</td>\n",
       "      <td>0</td>\n",
       "      <td>NaN</td>\n",
       "      <td>NaN</td>\n",
       "      <td>Normal</td>\n",
       "      <td>[1000,1300)</td>\n",
       "      <td>Female</td>\n",
       "      <td>Single</td>\n",
       "      <td>1173.46</td>\n",
       "      <td>1.0</td>\n",
       "    </tr>\n",
       "    <tr>\n",
       "      <th>1</th>\n",
       "      <td>27.0</td>\n",
       "      <td>External Agent</td>\n",
       "      <td>D_00043828980</td>\n",
       "      <td>702.0</td>\n",
       "      <td>0</td>\n",
       "      <td>0</td>\n",
       "      <td>0</td>\n",
       "      <td>1</td>\n",
       "      <td>1</td>\n",
       "      <td>0</td>\n",
       "      <td>1.0</td>\n",
       "      <td>0.0</td>\n",
       "      <td>Restructuring</td>\n",
       "      <td>[1500,2000)</td>\n",
       "      <td>Male</td>\n",
       "      <td>Single</td>\n",
       "      <td>0.00</td>\n",
       "      <td>0.0</td>\n",
       "    </tr>\n",
       "    <tr>\n",
       "      <th>2</th>\n",
       "      <td>28.0</td>\n",
       "      <td>External Agent</td>\n",
       "      <td>D_00043396577</td>\n",
       "      <td>728.0</td>\n",
       "      <td>0</td>\n",
       "      <td>0</td>\n",
       "      <td>0</td>\n",
       "      <td>1</td>\n",
       "      <td>0</td>\n",
       "      <td>0</td>\n",
       "      <td>2.0</td>\n",
       "      <td>0.0</td>\n",
       "      <td>Restructuring</td>\n",
       "      <td>[1500,2000)</td>\n",
       "      <td>Male</td>\n",
       "      <td>Single</td>\n",
       "      <td>0.00</td>\n",
       "      <td>1.0</td>\n",
       "    </tr>\n",
       "  </tbody>\n",
       "</table>\n",
       "</div>"
      ],
      "text/plain": [
       "    age         channel     customerID  externalScore  indBadDebt  \\\n",
       "0  23.0  External Agent  D_00046780637          373.0           1   \n",
       "1  27.0  External Agent  D_00043828980          702.0           0   \n",
       "2  28.0  External Agent  D_00043396577          728.0           0   \n",
       "\n",
       "   indBadLocation  indCreditBureau  indInternet  indSimin  indXlist  numLoans  \\\n",
       "0               0                0            1         0         0       NaN   \n",
       "1               0                0            1         1         0       1.0   \n",
       "2               0                0            1         0         0       2.0   \n",
       "\n",
       "   numMortgages       previous       salary     sex  status  \\\n",
       "0           NaN         Normal  [1000,1300)  Female  Single   \n",
       "1           0.0  Restructuring  [1500,2000)    Male  Single   \n",
       "2           0.0  Restructuring  [1500,2000)    Male  Single   \n",
       "\n",
       "   sumExternalDefault  target  \n",
       "0             1173.46     1.0  \n",
       "1                0.00     0.0  \n",
       "2                0.00     1.0  "
      ]
     },
     "execution_count": 13,
     "metadata": {},
     "output_type": "execute_result"
    }
   ],
   "source": [
    "data.head(3)"
   ]
  },
  {
   "cell_type": "markdown",
   "metadata": {},
   "source": [
    "### Variable explanation\n",
    "\n",
    "**customerID** - Client unique identification - character\n",
    "\n",
    "**sex** - Sex (Female, Male) - factor\n",
    "\n",
    "**status** - Marital Status (Divorced,Married,Single,Unknown,Widower) - factor\n",
    "\n",
    "**age** -  in years - numeric\n",
    "\n",
    "**externalScore** - A score provided by third party about the risk of default - numeric\n",
    "\n",
    "**indSimin** - A binary variable that indicates if the client has guarantors - binary\n",
    "\n",
    "**indXlist** - A binary variable that indicates if the client has debts with official agencies published \n",
    "in public registers - binary\n",
    "\n",
    "**indCreditBureau** - A binary variable that indicates if the client appears in the delinquency list Credit Bureau - binary\n",
    "\n",
    "**indInternet** - A binary variable that indicates if the client ask for information about credit cards online - binary\n",
    "\n",
    "**indBadDebt** -  A binary variable that indicates whether the actual debt is classified as sub-standard or lower-quality risk\n",
    "\n",
    "**salary** - Salary in intervals (None , <650 , [650,1000) , [1000,1300) , [1300,1500) , [1500,2000) , [2000,3000) , [3000,5000), [5000,8000) , >8000 , Unknown) - factor\n",
    "\n",
    "**numLoans** - Number of active loans that the client has in the bank - numeric\n",
    "\n",
    "**numMortgages** - Number of active mortgages that the client has in the bank - numeric\n",
    "\n",
    "**channel** - Channel for which the credit card has been contracted (App, Branch,Call Center, External, Agent,Online, Recovery, Unknown) - factor\n",
    "\n",
    "**indBadLocation** - A binary varible indicanting if the client's adress is located in a low rent per capita zone - binary\n",
    "\n",
    "**previous** - client debt classification of the previous year (Default, Normal, Refinancing, Restructuring, Unpaid) - factor\n",
    "\n",
    "**sumExternalDefault** - The amount of money that the client's debs that are in default - numeric\n",
    "\n",
    "**target** - A binary variable that indicates that the credit card fee has been unpaid - binary"
   ]
  },
  {
   "cell_type": "markdown",
   "metadata": {},
   "source": [
    "### Checking NA's"
   ]
  },
  {
   "cell_type": "code",
   "execution_count": 14,
   "metadata": {},
   "outputs": [
    {
     "data": {
      "text/plain": [
       "age                    30173\n",
       "channel                    0\n",
       "customerID                 0\n",
       "externalScore          11070\n",
       "indBadDebt                 0\n",
       "indBadLocation             0\n",
       "indCreditBureau            0\n",
       "indInternet                0\n",
       "indSimin                   0\n",
       "indXlist                   0\n",
       "numLoans              340980\n",
       "numMortgages          340980\n",
       "previous                   0\n",
       "salary                     0\n",
       "sex                        0\n",
       "status                     0\n",
       "sumExternalDefault      3554\n",
       "target                174313\n",
       "dtype: int64"
      ]
     },
     "execution_count": 14,
     "metadata": {},
     "output_type": "execute_result"
    }
   ],
   "source": [
    "data.isnull().sum()"
   ]
  },
  {
   "cell_type": "markdown",
   "metadata": {},
   "source": [
    "#### NumLoans and numMortgages"
   ]
  },
  {
   "cell_type": "markdown",
   "metadata": {},
   "source": [
    "NA in '**numLoans**' and '**numMortages**' probably means 'Unknown' Loan/Mortage requested with our bank."
   ]
  },
  {
   "cell_type": "code",
   "execution_count": 15,
   "metadata": {},
   "outputs": [],
   "source": [
    "data['numLoans'] = data['numLoans'].fillna('Unknown')\n",
    "data['numMortgages'] = data['numMortgages'].fillna('Unknown')"
   ]
  },
  {
   "cell_type": "code",
   "execution_count": 16,
   "metadata": {},
   "outputs": [
    {
     "data": {
      "text/plain": [
       "Counter({'Unknown': 340980,\n",
       "         1.0: 121247,\n",
       "         2.0: 61166,\n",
       "         4.0: 13645,\n",
       "         0.0: 122472,\n",
       "         3.0: 30813,\n",
       "         5.0: 5037,\n",
       "         6.0: 1483,\n",
       "         9.0: 10,\n",
       "         7.0: 327,\n",
       "         8.0: 70,\n",
       "         14.0: 1,\n",
       "         11.0: 1})"
      ]
     },
     "execution_count": 16,
     "metadata": {},
     "output_type": "execute_result"
    }
   ],
   "source": [
    "Counter(data['numLoans'])"
   ]
  },
  {
   "cell_type": "code",
   "execution_count": 17,
   "metadata": {},
   "outputs": [
    {
     "data": {
      "image/png": "[encoded data removed]",
      "text/plain": [
       "<Figure size 1800x1080 with 1 Axes>"
      ]
     },
     "metadata": {},
     "output_type": "display_data"
    }
   ],
   "source": [
    "plt.figure(figsize=(25,15))\n",
    "sns.countplot(data['numMortgages']);"
   ]
  },
  {
   "cell_type": "code",
   "execution_count": 18,
   "metadata": {},
   "outputs": [
    {
     "data": {
      "text/plain": [
       "Counter({'Unknown': 340980, 0.0: 339369, 1.0: 16568, 2.0: 325, 3.0: 10})"
      ]
     },
     "execution_count": 18,
     "metadata": {},
     "output_type": "execute_result"
    }
   ],
   "source": [
    "Counter(data['numMortgages'])"
   ]
  },
  {
   "cell_type": "markdown",
   "metadata": {},
   "source": [
    "I will try to add both variables into one called **num_products**. However, it did not improve my model."
   ]
  },
  {
   "cell_type": "code",
   "execution_count": 19,
   "metadata": {},
   "outputs": [],
   "source": [
    "#data['num_products'] = data['numLoans'] + data['numMortgages']"
   ]
  },
  {
   "cell_type": "markdown",
   "metadata": {},
   "source": [
    "#### External Score\n",
    "\n",
    "NA in 'externalScore' is likely the unavailability of such score."
   ]
  },
  {
   "cell_type": "code",
   "execution_count": 20,
   "metadata": {},
   "outputs": [
    {
     "data": {
      "text/plain": [
       "count    686182.000000\n",
       "mean        591.354566\n",
       "std         261.821559\n",
       "min           1.000000\n",
       "25%         458.000000\n",
       "50%         649.000000\n",
       "75%         791.000000\n",
       "max         995.000000\n",
       "Name: externalScore, dtype: float64"
      ]
     },
     "execution_count": 20,
     "metadata": {},
     "output_type": "execute_result"
    }
   ],
   "source": [
    "data['externalScore'].describe()"
   ]
  },
  {
   "cell_type": "code",
   "execution_count": 21,
   "metadata": {},
   "outputs": [],
   "source": [
    "# Initially I assigned the median to the NA's\n",
    "# data['externalScore'] = data['externalScore'].fillna(649)"
   ]
  },
  {
   "cell_type": "markdown",
   "metadata": {},
   "source": [
    "**df** is a new datafreame in which only the rows in which **externalScore** is null."
   ]
  },
  {
   "cell_type": "code",
   "execution_count": 22,
   "metadata": {},
   "outputs": [
    {
     "data": {
      "text/plain": [
       "(11070, 18)"
      ]
     },
     "execution_count": 22,
     "metadata": {},
     "output_type": "execute_result"
    }
   ],
   "source": [
    "df = data[data['externalScore'].isnull()]\n",
    "df.shape"
   ]
  },
  {
   "cell_type": "code",
   "execution_count": 23,
   "metadata": {},
   "outputs": [
    {
     "data": {
      "image/png": "[encoded data removed]",
      "text/plain": [
       "<Figure size 4320x1800 with 1 Axes>"
      ]
     },
     "metadata": {},
     "output_type": "display_data"
    }
   ],
   "source": [
    "plt.figure(figsize=(60,25))\n",
    "sns.countplot(df['age']);"
   ]
  },
  {
   "cell_type": "markdown",
   "metadata": {},
   "source": [
    "As it turns out, most of the NA's in the 'externalScore' variable belong to young customers. \n",
    "\n",
    "The external score is not inmediate, it takes a while after the customer has an account set up that he/she is provided with an score. Hence, that is the reason such NA's are in place."
   ]
  },
  {
   "cell_type": "markdown",
   "metadata": {},
   "source": [
    "The Credit Score ranges from 0 to 1000. In order to account for 'No_Score' as well as 'Score', I will proceed to bin the variable. Some research provided me different options of binning, such as:\n",
    "\n",
    "Excellent (720+) OR (750+)\n",
    "\n",
    "Good (640-719) OR (700-749)\n",
    "\n",
    "Fair (550-639) OR (650-699)\n",
    "\n",
    "Poor (500-549) OR (550-649)\n",
    "\n",
    "Very Poor (0-499) OR (1-549)"
   ]
  },
  {
   "cell_type": "code",
   "execution_count": 24,
   "metadata": {},
   "outputs": [
    {
     "data": {
      "text/plain": [
       "(686182, 18)"
      ]
     },
     "execution_count": 24,
     "metadata": {},
     "output_type": "execute_result"
    }
   ],
   "source": [
    "df1 = data[data['externalScore'].notnull()]\n",
    "df1.shape"
   ]
  },
  {
   "cell_type": "code",
   "execution_count": 25,
   "metadata": {},
   "outputs": [
    {
     "data": {
      "image/png": "[encoded data removed]",
      "text/plain": [
       "<Figure size 1800x1080 with 1 Axes>"
      ]
     },
     "metadata": {},
     "output_type": "display_data"
    }
   ],
   "source": [
    "plt.figure(figsize=(25,15))\n",
    "sns.distplot(df1['externalScore']);"
   ]
  },
  {
   "cell_type": "markdown",
   "metadata": {},
   "source": [
    "Based on the distribution above, I came up with the following categorization of the variable."
   ]
  },
  {
   "cell_type": "code",
   "execution_count": 26,
   "metadata": {},
   "outputs": [
    {
     "data": {
      "text/plain": [
       "count     686182\n",
       "unique         5\n",
       "top            3\n",
       "freq      268266\n",
       "Name: binned_externalScore, dtype: int64"
      ]
     },
     "execution_count": 26,
     "metadata": {},
     "output_type": "execute_result"
    }
   ],
   "source": [
    "data['binned_externalScore'] = pd.cut(data['externalScore'], [0.25, 190, 440, 620, 850, 1000], labels=[0,1,2,3,4])\n",
    "data['binned_externalScore'].describe()"
   ]
  },
  {
   "cell_type": "code",
   "execution_count": 27,
   "metadata": {},
   "outputs": [
    {
     "data": {
      "text/plain": [
       "count    686182.000000\n",
       "mean          2.342087\n",
       "std           1.232601\n",
       "min           0.000000\n",
       "25%           2.000000\n",
       "50%           3.000000\n",
       "75%           3.000000\n",
       "max           4.000000\n",
       "Name: binned_externalScore, dtype: float64"
      ]
     },
     "execution_count": 27,
     "metadata": {},
     "output_type": "execute_result"
    }
   ],
   "source": [
    "data['binned_externalScore'] = data['binned_externalScore'].astype('float')\n",
    "data['binned_externalScore'].describe()"
   ]
  },
  {
   "cell_type": "markdown",
   "metadata": {},
   "source": [
    "I fill in the NA-s with the most likely factor."
   ]
  },
  {
   "cell_type": "code",
   "execution_count": 28,
   "metadata": {},
   "outputs": [
    {
     "data": {
      "text/plain": [
       "count     697252.0\n",
       "unique         6.0\n",
       "top            3.0\n",
       "freq      268266.0\n",
       "Name: binned_externalScore, dtype: float64"
      ]
     },
     "execution_count": 28,
     "metadata": {},
     "output_type": "execute_result"
    }
   ],
   "source": [
    "data['binned_externalScore'] = data['binned_externalScore'].fillna('Unknown')\n",
    "data['binned_externalScore'].describe()"
   ]
  },
  {
   "cell_type": "code",
   "execution_count": 29,
   "metadata": {},
   "outputs": [
    {
     "data": {
      "image/png": "[encoded data removed]",
      "text/plain": [
       "<Figure size 1800x1080 with 1 Axes>"
      ]
     },
     "metadata": {},
     "output_type": "display_data"
    }
   ],
   "source": [
    "plt.figure(figsize=(25,15))\n",
    "sns.countplot(data['binned_externalScore']);"
   ]
  },
  {
   "cell_type": "code",
   "execution_count": 30,
   "metadata": {},
   "outputs": [
    {
     "data": {
      "text/plain": [
       "Counter({1.0: 75008,\n",
       "         3.0: 268266,\n",
       "         2.0: 148022,\n",
       "         4.0: 107812,\n",
       "         0.0: 87074,\n",
       "         'Unknown': 11070})"
      ]
     },
     "execution_count": 30,
     "metadata": {},
     "output_type": "execute_result"
    }
   ],
   "source": [
    "Counter(data['binned_externalScore'])"
   ]
  },
  {
   "cell_type": "markdown",
   "metadata": {},
   "source": [
    "#### External Default\n",
    "\n",
    "Amount of debt that has NOT been paid. It is likely that an NA here means that th client has NO debt with the bank, else they would know about it."
   ]
  },
  {
   "cell_type": "code",
   "execution_count": 31,
   "metadata": {},
   "outputs": [
    {
     "data": {
      "text/plain": [
       "count    6.936980e+05\n",
       "mean     4.791325e+02\n",
       "std      9.714160e+03\n",
       "min      0.000000e+00\n",
       "25%      0.000000e+00\n",
       "50%      0.000000e+00\n",
       "75%      3.441000e+01\n",
       "max      6.021214e+06\n",
       "Name: sumExternalDefault, dtype: float64"
      ]
     },
     "execution_count": 31,
     "metadata": {},
     "output_type": "execute_result"
    }
   ],
   "source": [
    "data['sumExternalDefault'].describe()"
   ]
  },
  {
   "cell_type": "markdown",
   "metadata": {},
   "source": [
    "To graph the distribution, i create a data frame (**df2**) with only the not null values of this feature."
   ]
  },
  {
   "cell_type": "code",
   "execution_count": 32,
   "metadata": {},
   "outputs": [
    {
     "data": {
      "text/plain": [
       "(693698, 19)"
      ]
     },
     "execution_count": 32,
     "metadata": {},
     "output_type": "execute_result"
    }
   ],
   "source": [
    "df2 = data[data['sumExternalDefault'].notnull()]\n",
    "df2.shape"
   ]
  },
  {
   "cell_type": "code",
   "execution_count": 33,
   "metadata": {},
   "outputs": [
    {
     "data": {
      "image/png": "[encoded data removed]",
      "text/plain": [
       "<Figure size 2520x1080 with 1 Axes>"
      ]
     },
     "metadata": {},
     "output_type": "display_data"
    }
   ],
   "source": [
    "plt.figure(figsize=(35,15))\n",
    "sns.distplot(df2['sumExternalDefault']);"
   ]
  },
  {
   "cell_type": "markdown",
   "metadata": {},
   "source": [
    "It is a very long tail. Perhaps a categorical variable that states 'None'/'Good', 'Regular' and 'Bad' is the best approach.\n",
    "\n",
    "I am chosing to set up the boundry between 'Regular' and 'Bad' to 5000€ of unpayed debt.\n",
    "\n",
    "I am assigning the highest score to those people that have debt but payed it all, because those are the most likely to pay as well the credit card debt."
   ]
  },
  {
   "cell_type": "code",
   "execution_count": 34,
   "metadata": {},
   "outputs": [
    {
     "data": {
      "text/plain": [
       "count     693698\n",
       "unique         3\n",
       "top            3\n",
       "freq      490965\n",
       "Name: binned_ExternalDefault, dtype: int64"
      ]
     },
     "execution_count": 34,
     "metadata": {},
     "output_type": "execute_result"
    }
   ],
   "source": [
    "data['binned_ExternalDefault'] = pd.cut(data['sumExternalDefault'], [-1, 0, 5000, 10000000], labels=[3,1,0])\n",
    "data['binned_ExternalDefault'].describe()"
   ]
  },
  {
   "cell_type": "code",
   "execution_count": 35,
   "metadata": {},
   "outputs": [
    {
     "data": {
      "text/plain": [
       "count    693698.000000\n",
       "mean          2.396272\n",
       "std           0.949029\n",
       "min           0.000000\n",
       "25%           1.000000\n",
       "50%           3.000000\n",
       "75%           3.000000\n",
       "max           3.000000\n",
       "Name: binned_ExternalDefault, dtype: float64"
      ]
     },
     "execution_count": 35,
     "metadata": {},
     "output_type": "execute_result"
    }
   ],
   "source": [
    "data['binned_ExternalDefault'] = data['binned_ExternalDefault'].astype('float')\n",
    "data['binned_ExternalDefault'].describe()"
   ]
  },
  {
   "cell_type": "markdown",
   "metadata": {},
   "source": [
    "Next, I will fill the null values with the category **0**."
   ]
  },
  {
   "cell_type": "code",
   "execution_count": 36,
   "metadata": {},
   "outputs": [
    {
     "data": {
      "text/plain": [
       "count    697252.000000\n",
       "mean          2.384058\n",
       "std           0.961865\n",
       "min           0.000000\n",
       "25%           1.000000\n",
       "50%           3.000000\n",
       "75%           3.000000\n",
       "max           3.000000\n",
       "Name: binned_ExternalDefault, dtype: float64"
      ]
     },
     "execution_count": 36,
     "metadata": {},
     "output_type": "execute_result"
    }
   ],
   "source": [
    "data['binned_ExternalDefault'] = data['binned_ExternalDefault'].fillna(0)\n",
    "data['binned_ExternalDefault'].describe()"
   ]
  },
  {
   "cell_type": "code",
   "execution_count": 37,
   "metadata": {},
   "outputs": [
    {
     "data": {
      "text/plain": [
       "0"
      ]
     },
     "execution_count": 37,
     "metadata": {},
     "output_type": "execute_result"
    }
   ],
   "source": [
    "data['binned_ExternalDefault'].isnull().sum()"
   ]
  },
  {
   "cell_type": "code",
   "execution_count": 38,
   "metadata": {},
   "outputs": [
    {
     "data": {
      "text/plain": [
       "age                        30173\n",
       "channel                        0\n",
       "customerID                     0\n",
       "externalScore              11070\n",
       "indBadDebt                     0\n",
       "indBadLocation                 0\n",
       "indCreditBureau                0\n",
       "indInternet                    0\n",
       "indSimin                       0\n",
       "indXlist                       0\n",
       "numLoans                       0\n",
       "numMortgages                   0\n",
       "previous                       0\n",
       "salary                         0\n",
       "sex                            0\n",
       "status                         0\n",
       "sumExternalDefault          3554\n",
       "target                    174313\n",
       "binned_externalScore           0\n",
       "binned_ExternalDefault         0\n",
       "dtype: int64"
      ]
     },
     "execution_count": 38,
     "metadata": {},
     "output_type": "execute_result"
    }
   ],
   "source": [
    "data.isnull().sum()"
   ]
  },
  {
   "cell_type": "markdown",
   "metadata": {},
   "source": [
    "#### Age"
   ]
  },
  {
   "cell_type": "code",
   "execution_count": 39,
   "metadata": {},
   "outputs": [
    {
     "data": {
      "text/plain": [
       "count    667079.000000\n",
       "mean         39.088333\n",
       "std          13.943430\n",
       "min          18.000000\n",
       "25%          28.000000\n",
       "50%          37.000000\n",
       "75%          48.000000\n",
       "max         111.000000\n",
       "Name: age, dtype: float64"
      ]
     },
     "execution_count": 39,
     "metadata": {},
     "output_type": "execute_result"
    }
   ],
   "source": [
    "data['age'].describe()"
   ]
  },
  {
   "cell_type": "markdown",
   "metadata": {},
   "source": [
    "INITYALLY i will input the median"
   ]
  },
  {
   "cell_type": "code",
   "execution_count": 40,
   "metadata": {},
   "outputs": [],
   "source": [
    "#data['age'] = data['age'].fillna(37)"
   ]
  },
  {
   "cell_type": "markdown",
   "metadata": {},
   "source": [
    "As I saw before, most people with no **external score** are very young, so I will input the NA's in the following way:\n",
    "\n",
    "First, I'll create the dataframe 'No Credit Score' (**df_NoCS**) and input to the NA values the median of this segment."
   ]
  },
  {
   "cell_type": "code",
   "execution_count": 41,
   "metadata": {},
   "outputs": [
    {
     "data": {
      "text/plain": [
       "(11070, 20)"
      ]
     },
     "execution_count": 41,
     "metadata": {},
     "output_type": "execute_result"
    }
   ],
   "source": [
    "df_NoCS = data[data['binned_externalScore'] == 'Unknown']\n",
    "df_NoCS.shape"
   ]
  },
  {
   "cell_type": "code",
   "execution_count": 42,
   "metadata": {},
   "outputs": [
    {
     "data": {
      "text/plain": [
       "7608"
      ]
     },
     "execution_count": 42,
     "metadata": {},
     "output_type": "execute_result"
    }
   ],
   "source": [
    "df_NoCS['age'].isnull().sum()"
   ]
  },
  {
   "cell_type": "code",
   "execution_count": 43,
   "metadata": {},
   "outputs": [
    {
     "data": {
      "text/plain": [
       "count    3462.000000\n",
       "mean       33.826979\n",
       "std        19.178983\n",
       "min        18.000000\n",
       "25%        19.000000\n",
       "50%        25.000000\n",
       "75%        42.000000\n",
       "max       111.000000\n",
       "Name: age, dtype: float64"
      ]
     },
     "execution_count": 43,
     "metadata": {},
     "output_type": "execute_result"
    }
   ],
   "source": [
    "df_NoCS['age'].describe()"
   ]
  },
  {
   "cell_type": "code",
   "execution_count": 44,
   "metadata": {},
   "outputs": [
    {
     "data": {
      "text/plain": [
       "3462"
      ]
     },
     "execution_count": 44,
     "metadata": {},
     "output_type": "execute_result"
    }
   ],
   "source": [
    "data['age'][data['binned_externalScore'] == 'Unknown'].count()"
   ]
  },
  {
   "cell_type": "code",
   "execution_count": 45,
   "metadata": {
    "scrolled": true
   },
   "outputs": [],
   "source": [
    "data['age'][data['binned_externalScore'] == 'Unknown'] = data['age'].fillna(25)"
   ]
  },
  {
   "cell_type": "code",
   "execution_count": 46,
   "metadata": {},
   "outputs": [
    {
     "data": {
      "text/plain": [
       "count    674687.000000\n",
       "mean         38.929468\n",
       "std          13.944168\n",
       "min          18.000000\n",
       "25%          28.000000\n",
       "50%          36.000000\n",
       "75%          47.000000\n",
       "max         111.000000\n",
       "Name: age, dtype: float64"
      ]
     },
     "execution_count": 46,
     "metadata": {},
     "output_type": "execute_result"
    }
   ],
   "source": [
    "data['age'].describe()"
   ]
  },
  {
   "cell_type": "code",
   "execution_count": 47,
   "metadata": {},
   "outputs": [
    {
     "data": {
      "text/plain": [
       "22565"
      ]
     },
     "execution_count": 47,
     "metadata": {},
     "output_type": "execute_result"
    }
   ],
   "source": [
    "data['age'].isnull().sum()"
   ]
  },
  {
   "cell_type": "markdown",
   "metadata": {},
   "source": [
    "Second, i will look to input the remaining NA's in the variable **Age** depending on the salary of the person."
   ]
  },
  {
   "cell_type": "code",
   "execution_count": 48,
   "metadata": {},
   "outputs": [
    {
     "data": {
      "text/plain": [
       "Counter({'[1000,1300)': 349734,\n",
       "         '[1500,2000)': 79699,\n",
       "         '[650,1000)': 71473,\n",
       "         '[2000,3000)': 50983,\n",
       "         '[1300,1500)': 75020,\n",
       "         '>8000': 4097,\n",
       "         '[3000,5000)': 22538,\n",
       "         '<650': 26210,\n",
       "         '[5000,8000)': 9594,\n",
       "         'Unknown': 3237,\n",
       "         'None': 4667})"
      ]
     },
     "execution_count": 48,
     "metadata": {},
     "output_type": "execute_result"
    }
   ],
   "source": [
    "Counter(data['salary'])"
   ]
  },
  {
   "cell_type": "code",
   "execution_count": 49,
   "metadata": {},
   "outputs": [
    {
     "data": {
      "text/plain": [
       "(22538, 20)"
      ]
     },
     "execution_count": 49,
     "metadata": {},
     "output_type": "execute_result"
    }
   ],
   "source": [
    "df_Salary = data[data['salary'] == '[3000,5000)']\n",
    "df_Salary.shape"
   ]
  },
  {
   "cell_type": "code",
   "execution_count": 50,
   "metadata": {},
   "outputs": [
    {
     "data": {
      "text/plain": [
       "7"
      ]
     },
     "execution_count": 50,
     "metadata": {},
     "output_type": "execute_result"
    }
   ],
   "source": [
    "df_Salary['age'].isnull().sum()"
   ]
  },
  {
   "cell_type": "code",
   "execution_count": 51,
   "metadata": {},
   "outputs": [
    {
     "data": {
      "text/plain": [
       "count    22531.000000\n",
       "mean        42.568106\n",
       "std         10.398757\n",
       "min         20.000000\n",
       "25%         35.000000\n",
       "50%         41.000000\n",
       "75%         50.000000\n",
       "max         94.000000\n",
       "Name: age, dtype: float64"
      ]
     },
     "execution_count": 51,
     "metadata": {},
     "output_type": "execute_result"
    }
   ],
   "source": [
    "df_Salary['age'].describe()"
   ]
  },
  {
   "cell_type": "code",
   "execution_count": 52,
   "metadata": {
    "scrolled": true
   },
   "outputs": [],
   "source": [
    "data['age'][data['salary'] == '[3000,5000)'] = data['age'].fillna(41)"
   ]
  },
  {
   "cell_type": "code",
   "execution_count": 53,
   "metadata": {
    "scrolled": true
   },
   "outputs": [
    {
     "data": {
      "text/plain": [
       "22558"
      ]
     },
     "execution_count": 53,
     "metadata": {},
     "output_type": "execute_result"
    }
   ],
   "source": [
    "data['age'].isnull().sum()"
   ]
  },
  {
   "cell_type": "code",
   "execution_count": 54,
   "metadata": {},
   "outputs": [
    {
     "data": {
      "text/plain": [
       "(50983, 20)"
      ]
     },
     "execution_count": 54,
     "metadata": {},
     "output_type": "execute_result"
    }
   ],
   "source": [
    "df_Salary2 = data[data['salary'] == '[2000,3000)']\n",
    "df_Salary2.shape"
   ]
  },
  {
   "cell_type": "code",
   "execution_count": 55,
   "metadata": {},
   "outputs": [
    {
     "data": {
      "text/plain": [
       "29"
      ]
     },
     "execution_count": 55,
     "metadata": {},
     "output_type": "execute_result"
    }
   ],
   "source": [
    "df_Salary2['age'].isnull().sum()"
   ]
  },
  {
   "cell_type": "code",
   "execution_count": 56,
   "metadata": {},
   "outputs": [
    {
     "data": {
      "text/plain": [
       "count    50954.000000\n",
       "mean        42.099560\n",
       "std         11.002514\n",
       "min         18.000000\n",
       "25%         34.000000\n",
       "50%         41.000000\n",
       "75%         49.000000\n",
       "max         91.000000\n",
       "Name: age, dtype: float64"
      ]
     },
     "execution_count": 56,
     "metadata": {},
     "output_type": "execute_result"
    }
   ],
   "source": [
    "df_Salary2['age'].describe()"
   ]
  },
  {
   "cell_type": "code",
   "execution_count": 57,
   "metadata": {
    "scrolled": true
   },
   "outputs": [],
   "source": [
    "data['age'][data['salary'] == '[2000,3000)'] = data['age'].fillna(41)"
   ]
  },
  {
   "cell_type": "code",
   "execution_count": 58,
   "metadata": {
    "scrolled": true
   },
   "outputs": [
    {
     "data": {
      "text/plain": [
       "22529"
      ]
     },
     "execution_count": 58,
     "metadata": {},
     "output_type": "execute_result"
    }
   ],
   "source": [
    "data['age'].isnull().sum()"
   ]
  },
  {
   "cell_type": "code",
   "execution_count": 59,
   "metadata": {},
   "outputs": [
    {
     "data": {
      "text/plain": [
       "(26210, 20)"
      ]
     },
     "execution_count": 59,
     "metadata": {},
     "output_type": "execute_result"
    }
   ],
   "source": [
    "df_Salary3 = data[data['salary'] == '<650']\n",
    "df_Salary3.shape"
   ]
  },
  {
   "cell_type": "code",
   "execution_count": 60,
   "metadata": {},
   "outputs": [
    {
     "data": {
      "text/plain": [
       "193"
      ]
     },
     "execution_count": 60,
     "metadata": {},
     "output_type": "execute_result"
    }
   ],
   "source": [
    "df_Salary3['age'].isnull().sum()"
   ]
  },
  {
   "cell_type": "code",
   "execution_count": 61,
   "metadata": {},
   "outputs": [
    {
     "data": {
      "text/plain": [
       "count    26017.000000\n",
       "mean        33.853250\n",
       "std         16.595168\n",
       "min         18.000000\n",
       "25%         23.000000\n",
       "50%         27.000000\n",
       "75%         38.000000\n",
       "max         97.000000\n",
       "Name: age, dtype: float64"
      ]
     },
     "execution_count": 61,
     "metadata": {},
     "output_type": "execute_result"
    }
   ],
   "source": [
    "df_Salary3['age'].describe()"
   ]
  },
  {
   "cell_type": "code",
   "execution_count": 62,
   "metadata": {
    "scrolled": true
   },
   "outputs": [],
   "source": [
    "data['age'][data['salary'] == '<650'] = data['age'].fillna(27)"
   ]
  },
  {
   "cell_type": "code",
   "execution_count": 63,
   "metadata": {
    "scrolled": true
   },
   "outputs": [
    {
     "data": {
      "text/plain": [
       "22336"
      ]
     },
     "execution_count": 63,
     "metadata": {},
     "output_type": "execute_result"
    }
   ],
   "source": [
    "data['age'].isnull().sum()"
   ]
  },
  {
   "cell_type": "code",
   "execution_count": 64,
   "metadata": {},
   "outputs": [
    {
     "data": {
      "text/plain": [
       "(71473, 20)"
      ]
     },
     "execution_count": 64,
     "metadata": {},
     "output_type": "execute_result"
    }
   ],
   "source": [
    "df_Salary4 = data[data['salary'] == '[650,1000)']\n",
    "df_Salary4.shape"
   ]
  },
  {
   "cell_type": "code",
   "execution_count": 65,
   "metadata": {},
   "outputs": [
    {
     "data": {
      "text/plain": [
       "3349"
      ]
     },
     "execution_count": 65,
     "metadata": {},
     "output_type": "execute_result"
    }
   ],
   "source": [
    "df_Salary4['age'].isnull().sum()"
   ]
  },
  {
   "cell_type": "code",
   "execution_count": 66,
   "metadata": {},
   "outputs": [
    {
     "data": {
      "text/plain": [
       "count    68124.000000\n",
       "mean        34.091495\n",
       "std         15.467082\n",
       "min         18.000000\n",
       "25%         23.000000\n",
       "50%         28.000000\n",
       "75%         40.000000\n",
       "max        108.000000\n",
       "Name: age, dtype: float64"
      ]
     },
     "execution_count": 66,
     "metadata": {},
     "output_type": "execute_result"
    }
   ],
   "source": [
    "df_Salary4['age'].describe()"
   ]
  },
  {
   "cell_type": "code",
   "execution_count": 67,
   "metadata": {
    "scrolled": true
   },
   "outputs": [],
   "source": [
    "data['age'][data['salary'] == '[650,1000)'] = data['age'].fillna(28)"
   ]
  },
  {
   "cell_type": "code",
   "execution_count": 68,
   "metadata": {
    "scrolled": true
   },
   "outputs": [
    {
     "data": {
      "text/plain": [
       "18987"
      ]
     },
     "execution_count": 68,
     "metadata": {},
     "output_type": "execute_result"
    }
   ],
   "source": [
    "data['age'].isnull().sum()"
   ]
  },
  {
   "cell_type": "code",
   "execution_count": 69,
   "metadata": {},
   "outputs": [
    {
     "data": {
      "text/plain": [
       "(79699, 20)"
      ]
     },
     "execution_count": 69,
     "metadata": {},
     "output_type": "execute_result"
    }
   ],
   "source": [
    "df_Salary5 = data[data['salary'] == '[1500,2000)']\n",
    "df_Salary5.shape"
   ]
  },
  {
   "cell_type": "code",
   "execution_count": 70,
   "metadata": {},
   "outputs": [
    {
     "data": {
      "text/plain": [
       "96"
      ]
     },
     "execution_count": 70,
     "metadata": {},
     "output_type": "execute_result"
    }
   ],
   "source": [
    "df_Salary5['age'].isnull().sum()"
   ]
  },
  {
   "cell_type": "code",
   "execution_count": 71,
   "metadata": {},
   "outputs": [
    {
     "data": {
      "text/plain": [
       "count    79603.000000\n",
       "mean        41.641508\n",
       "std         11.664396\n",
       "min         18.000000\n",
       "25%         33.000000\n",
       "50%         40.000000\n",
       "75%         49.000000\n",
       "max         97.000000\n",
       "Name: age, dtype: float64"
      ]
     },
     "execution_count": 71,
     "metadata": {},
     "output_type": "execute_result"
    }
   ],
   "source": [
    "df_Salary5['age'].describe()"
   ]
  },
  {
   "cell_type": "code",
   "execution_count": 72,
   "metadata": {
    "scrolled": true
   },
   "outputs": [],
   "source": [
    "data['age'][data['salary'] == '[1500,2000)'] = data['age'].fillna(40)"
   ]
  },
  {
   "cell_type": "code",
   "execution_count": 73,
   "metadata": {
    "scrolled": true
   },
   "outputs": [
    {
     "data": {
      "text/plain": [
       "18891"
      ]
     },
     "execution_count": 73,
     "metadata": {},
     "output_type": "execute_result"
    }
   ],
   "source": [
    "data['age'].isnull().sum()"
   ]
  },
  {
   "cell_type": "code",
   "execution_count": 74,
   "metadata": {},
   "outputs": [
    {
     "data": {
      "text/plain": [
       "(75020, 20)"
      ]
     },
     "execution_count": 74,
     "metadata": {},
     "output_type": "execute_result"
    }
   ],
   "source": [
    "df_Salary6 = data[data['salary'] == '[1300,1500)']\n",
    "df_Salary6.shape"
   ]
  },
  {
   "cell_type": "code",
   "execution_count": 75,
   "metadata": {},
   "outputs": [
    {
     "data": {
      "text/plain": [
       "280"
      ]
     },
     "execution_count": 75,
     "metadata": {},
     "output_type": "execute_result"
    }
   ],
   "source": [
    "df_Salary6['age'].isnull().sum()"
   ]
  },
  {
   "cell_type": "code",
   "execution_count": 76,
   "metadata": {},
   "outputs": [
    {
     "data": {
      "text/plain": [
       "count    74740.000000\n",
       "mean        41.566698\n",
       "std         12.342351\n",
       "min         18.000000\n",
       "25%         32.000000\n",
       "50%         40.000000\n",
       "75%         49.000000\n",
       "max         99.000000\n",
       "Name: age, dtype: float64"
      ]
     },
     "execution_count": 76,
     "metadata": {},
     "output_type": "execute_result"
    }
   ],
   "source": [
    "df_Salary6['age'].describe()"
   ]
  },
  {
   "cell_type": "code",
   "execution_count": 77,
   "metadata": {
    "scrolled": true
   },
   "outputs": [],
   "source": [
    "data['age'][data['salary'] == '[1300,1500)'] = data['age'].fillna(40)"
   ]
  },
  {
   "cell_type": "code",
   "execution_count": 78,
   "metadata": {
    "scrolled": true
   },
   "outputs": [
    {
     "data": {
      "text/plain": [
       "18611"
      ]
     },
     "execution_count": 78,
     "metadata": {},
     "output_type": "execute_result"
    }
   ],
   "source": [
    "data['age'].isnull().sum()"
   ]
  },
  {
   "cell_type": "code",
   "execution_count": 79,
   "metadata": {},
   "outputs": [
    {
     "data": {
      "text/plain": [
       "(349734, 20)"
      ]
     },
     "execution_count": 79,
     "metadata": {},
     "output_type": "execute_result"
    }
   ],
   "source": [
    "df_Salary7 = data[data['salary'] == '[1000,1300)']\n",
    "df_Salary7.shape"
   ]
  },
  {
   "cell_type": "code",
   "execution_count": 80,
   "metadata": {},
   "outputs": [
    {
     "data": {
      "text/plain": [
       "18608"
      ]
     },
     "execution_count": 80,
     "metadata": {},
     "output_type": "execute_result"
    }
   ],
   "source": [
    "df_Salary7['age'].isnull().sum()"
   ]
  },
  {
   "cell_type": "code",
   "execution_count": 81,
   "metadata": {},
   "outputs": [
    {
     "data": {
      "text/plain": [
       "count    331126.000000\n",
       "mean         38.500852\n",
       "std          14.446258\n",
       "min          18.000000\n",
       "25%          27.000000\n",
       "50%          35.000000\n",
       "75%          47.000000\n",
       "max         107.000000\n",
       "Name: age, dtype: float64"
      ]
     },
     "execution_count": 81,
     "metadata": {},
     "output_type": "execute_result"
    }
   ],
   "source": [
    "df_Salary7['age'].describe()"
   ]
  },
  {
   "cell_type": "code",
   "execution_count": 82,
   "metadata": {
    "scrolled": true
   },
   "outputs": [],
   "source": [
    "data['age'][data['salary'] == '[1000,1300)'] = data['age'].fillna(35)"
   ]
  },
  {
   "cell_type": "code",
   "execution_count": 83,
   "metadata": {
    "scrolled": true
   },
   "outputs": [
    {
     "data": {
      "text/plain": [
       "3"
      ]
     },
     "execution_count": 83,
     "metadata": {},
     "output_type": "execute_result"
    }
   ],
   "source": [
    "data['age'].isnull().sum()"
   ]
  },
  {
   "cell_type": "code",
   "execution_count": 84,
   "metadata": {},
   "outputs": [
    {
     "data": {
      "text/plain": [
       "count    697249.000000\n",
       "mean         38.769486\n",
       "std          13.753126\n",
       "min          18.000000\n",
       "25%          28.000000\n",
       "50%          36.000000\n",
       "75%          47.000000\n",
       "max         111.000000\n",
       "Name: age, dtype: float64"
      ]
     },
     "execution_count": 84,
     "metadata": {},
     "output_type": "execute_result"
    }
   ],
   "source": [
    "data['age'].describe()"
   ]
  },
  {
   "cell_type": "code",
   "execution_count": 85,
   "metadata": {},
   "outputs": [],
   "source": [
    "data['age']= data['age'].fillna(36)"
   ]
  },
  {
   "cell_type": "markdown",
   "metadata": {},
   "source": [
    "Let's make sure that there are no remaining NA's and plot the final distribution of the variable."
   ]
  },
  {
   "cell_type": "code",
   "execution_count": 86,
   "metadata": {},
   "outputs": [
    {
     "data": {
      "text/plain": [
       "0"
      ]
     },
     "execution_count": 86,
     "metadata": {},
     "output_type": "execute_result"
    }
   ],
   "source": [
    "data['age'].isnull().sum()"
   ]
  },
  {
   "cell_type": "code",
   "execution_count": 87,
   "metadata": {},
   "outputs": [
    {
     "data": {
      "image/png": "[encoded data removed]",
      "text/plain": [
       "<Figure size 1800x1080 with 1 Axes>"
      ]
     },
     "metadata": {},
     "output_type": "display_data"
    }
   ],
   "source": [
    "plt.figure(figsize=(25,15))\n",
    "sns.distplot(data['age']);"
   ]
  },
  {
   "cell_type": "markdown",
   "metadata": {},
   "source": [
    "The '**age**' distribution is skewed to the right."
   ]
  },
  {
   "cell_type": "markdown",
   "metadata": {},
   "source": [
    "#### Channel and Previous"
   ]
  },
  {
   "cell_type": "code",
   "execution_count": 88,
   "metadata": {
    "scrolled": true
   },
   "outputs": [
    {
     "data": {
      "text/plain": [
       "age                       float64\n",
       "channel                    object\n",
       "customerID                 object\n",
       "externalScore             float64\n",
       "indBadDebt                  int64\n",
       "indBadLocation              int64\n",
       "indCreditBureau             int64\n",
       "indInternet                 int64\n",
       "indSimin                    int64\n",
       "indXlist                    int64\n",
       "numLoans                   object\n",
       "numMortgages               object\n",
       "previous                   object\n",
       "salary                     object\n",
       "sex                        object\n",
       "status                     object\n",
       "sumExternalDefault        float64\n",
       "target                    float64\n",
       "binned_externalScore       object\n",
       "binned_ExternalDefault    float64\n",
       "dtype: object"
      ]
     },
     "execution_count": 88,
     "metadata": {},
     "output_type": "execute_result"
    }
   ],
   "source": [
    "data.dtypes"
   ]
  },
  {
   "cell_type": "code",
   "execution_count": 89,
   "metadata": {},
   "outputs": [
    {
     "data": {
      "image/png": "[encoded data removed]",
      "text/plain": [
       "<Figure size 1800x1080 with 1 Axes>"
      ]
     },
     "metadata": {},
     "output_type": "display_data"
    }
   ],
   "source": [
    "plt.figure(figsize=(25,15))\n",
    "sns.countplot(data['channel']);"
   ]
  },
  {
   "cell_type": "code",
   "execution_count": 90,
   "metadata": {},
   "outputs": [
    {
     "data": {
      "text/plain": [
       "Counter({'External Agent': 360708,\n",
       "         'Call Center': 108113,\n",
       "         'Recovery': 65771,\n",
       "         'Branch': 115505,\n",
       "         'App': 26548,\n",
       "         'Online': 16523,\n",
       "         'Unknown': 4084})"
      ]
     },
     "execution_count": 90,
     "metadata": {},
     "output_type": "execute_result"
    }
   ],
   "source": [
    "Counter(data['channel'])"
   ]
  },
  {
   "cell_type": "code",
   "execution_count": 91,
   "metadata": {},
   "outputs": [
    {
     "data": {
      "image/png": "[encoded data removed]",
      "text/plain": [
       "<Figure size 1800x1080 with 1 Axes>"
      ]
     },
     "metadata": {},
     "output_type": "display_data"
    }
   ],
   "source": [
    "plt.figure(figsize=(25,15))\n",
    "sns.countplot(data['previous']);"
   ]
  },
  {
   "cell_type": "code",
   "execution_count": 92,
   "metadata": {},
   "outputs": [
    {
     "data": {
      "text/plain": [
       "Counter({'Normal': 399544,\n",
       "         'Restructuring': 140851,\n",
       "         'Unpaid': 24506,\n",
       "         'Refinancing': 107755,\n",
       "         'Default': 24596})"
      ]
     },
     "execution_count": 92,
     "metadata": {},
     "output_type": "execute_result"
    }
   ],
   "source": [
    "Counter(data['previous'])"
   ]
  },
  {
   "cell_type": "markdown",
   "metadata": {},
   "source": [
    "#### CustomerID"
   ]
  },
  {
   "cell_type": "code",
   "execution_count": 93,
   "metadata": {},
   "outputs": [
    {
     "data": {
      "text/plain": [
       "count            697252\n",
       "unique           677786\n",
       "top       R_10406101156\n",
       "freq                 17\n",
       "Name: customerID, dtype: object"
      ]
     },
     "execution_count": 93,
     "metadata": {},
     "output_type": "execute_result"
    }
   ],
   "source": [
    "data['customerID'].describe()"
   ]
  },
  {
   "cell_type": "markdown",
   "metadata": {},
   "source": [
    "With the duplicates on the variable **customerID**, I will create a new feature called **2_or_more_acc**. Since if a customer that has multiple accounts has the same probability of default in all of them."
   ]
  },
  {
   "cell_type": "code",
   "execution_count": 94,
   "metadata": {},
   "outputs": [
    {
     "data": {
      "text/plain": [
       "(697252, 21)"
      ]
     },
     "execution_count": 94,
     "metadata": {},
     "output_type": "execute_result"
    }
   ],
   "source": [
    "data[\"2_or_more_acc\"] = (data['customerID'].duplicated()).astype(int)\n",
    "data.shape"
   ]
  },
  {
   "cell_type": "code",
   "execution_count": 95,
   "metadata": {},
   "outputs": [
    {
     "data": {
      "image/png": "[encoded data removed]",
      "text/plain": [
       "<Figure size 1080x576 with 1 Axes>"
      ]
     },
     "metadata": {},
     "output_type": "display_data"
    }
   ],
   "source": [
    "plt.figure(figsize=(15,8))\n",
    "sns.countplot(data[\"2_or_more_acc\"]);"
   ]
  },
  {
   "cell_type": "code",
   "execution_count": 96,
   "metadata": {},
   "outputs": [
    {
     "data": {
      "text/plain": [
       "Counter({0: 677786, 1: 19466})"
      ]
     },
     "execution_count": 96,
     "metadata": {},
     "output_type": "execute_result"
    }
   ],
   "source": [
    "Counter(data[\"2_or_more_acc\"])"
   ]
  },
  {
   "cell_type": "markdown",
   "metadata": {},
   "source": [
    "19466 accounts correspond to already existing customers."
   ]
  },
  {
   "cell_type": "markdown",
   "metadata": {},
   "source": [
    "#### Other binnary variables"
   ]
  },
  {
   "cell_type": "code",
   "execution_count": 97,
   "metadata": {},
   "outputs": [
    {
     "data": {
      "image/png": "[encoded data removed]",
      "text/plain": [
       "<Figure size 1080x576 with 1 Axes>"
      ]
     },
     "metadata": {},
     "output_type": "display_data"
    }
   ],
   "source": [
    "plt.figure(figsize=(15,8))\n",
    "sns.countplot(data[\"indBadDebt\"]);"
   ]
  },
  {
   "cell_type": "code",
   "execution_count": 98,
   "metadata": {},
   "outputs": [
    {
     "data": {
      "text/plain": [
       "Counter({1: 202733, 0: 494519})"
      ]
     },
     "execution_count": 98,
     "metadata": {},
     "output_type": "execute_result"
    }
   ],
   "source": [
    "Counter(data['indBadDebt'])"
   ]
  },
  {
   "cell_type": "code",
   "execution_count": 99,
   "metadata": {},
   "outputs": [
    {
     "data": {
      "image/png": "[encoded data removed]",
      "text/plain": [
       "<Figure size 1080x576 with 1 Axes>"
      ]
     },
     "metadata": {},
     "output_type": "display_data"
    }
   ],
   "source": [
    "plt.figure(figsize=(15,8))\n",
    "sns.countplot(data[\"indBadLocation\"]);"
   ]
  },
  {
   "cell_type": "code",
   "execution_count": 100,
   "metadata": {},
   "outputs": [
    {
     "data": {
      "text/plain": [
       "Counter({0: 579035, 1: 118217})"
      ]
     },
     "execution_count": 100,
     "metadata": {},
     "output_type": "execute_result"
    }
   ],
   "source": [
    "Counter(data['indBadLocation'])"
   ]
  },
  {
   "cell_type": "code",
   "execution_count": 101,
   "metadata": {},
   "outputs": [
    {
     "data": {
      "image/png": "[encoded data removed]",
      "text/plain": [
       "<Figure size 1080x576 with 1 Axes>"
      ]
     },
     "metadata": {},
     "output_type": "display_data"
    }
   ],
   "source": [
    "plt.figure(figsize=(15,8))\n",
    "sns.countplot(data[\"indCreditBureau\"]);"
   ]
  },
  {
   "cell_type": "code",
   "execution_count": 102,
   "metadata": {},
   "outputs": [
    {
     "data": {
      "text/plain": [
       "Counter({0: 667708, 1: 29544})"
      ]
     },
     "execution_count": 102,
     "metadata": {},
     "output_type": "execute_result"
    }
   ],
   "source": [
    "Counter(data['indCreditBureau'])"
   ]
  },
  {
   "cell_type": "code",
   "execution_count": 103,
   "metadata": {},
   "outputs": [
    {
     "data": {
      "image/png": "[encoded data removed]",
      "text/plain": [
       "<Figure size 1080x576 with 1 Axes>"
      ]
     },
     "metadata": {},
     "output_type": "display_data"
    }
   ],
   "source": [
    "plt.figure(figsize=(15,8))\n",
    "sns.countplot(data[\"indInternet\"]);"
   ]
  },
  {
   "cell_type": "code",
   "execution_count": 104,
   "metadata": {},
   "outputs": [
    {
     "data": {
      "text/plain": [
       "Counter({1: 540395, 0: 156857})"
      ]
     },
     "execution_count": 104,
     "metadata": {},
     "output_type": "execute_result"
    }
   ],
   "source": [
    "Counter(data['indInternet'])"
   ]
  },
  {
   "cell_type": "code",
   "execution_count": 105,
   "metadata": {},
   "outputs": [
    {
     "data": {
      "image/png": "[encoded data removed]",
      "text/plain": [
       "<Figure size 1080x576 with 1 Axes>"
      ]
     },
     "metadata": {},
     "output_type": "display_data"
    }
   ],
   "source": [
    "plt.figure(figsize=(15,8))\n",
    "sns.countplot(data[\"indSimin\"]);"
   ]
  },
  {
   "cell_type": "code",
   "execution_count": 106,
   "metadata": {},
   "outputs": [
    {
     "data": {
      "text/plain": [
       "Counter({0: 628378, 1: 68874})"
      ]
     },
     "execution_count": 106,
     "metadata": {},
     "output_type": "execute_result"
    }
   ],
   "source": [
    "Counter(data['indSimin'])"
   ]
  },
  {
   "cell_type": "code",
   "execution_count": 107,
   "metadata": {},
   "outputs": [
    {
     "data": {
      "image/png": "[encoded data removed]",
      "text/plain": [
       "<Figure size 1080x576 with 1 Axes>"
      ]
     },
     "metadata": {},
     "output_type": "display_data"
    }
   ],
   "source": [
    "plt.figure(figsize=(15,8))\n",
    "sns.countplot(data[\"indXlist\"]);"
   ]
  },
  {
   "cell_type": "code",
   "execution_count": 108,
   "metadata": {},
   "outputs": [
    {
     "data": {
      "text/plain": [
       "Counter({0: 659859, 1: 37393})"
      ]
     },
     "execution_count": 108,
     "metadata": {},
     "output_type": "execute_result"
    }
   ],
   "source": [
    "Counter(data['indXlist'])"
   ]
  },
  {
   "cell_type": "markdown",
   "metadata": {},
   "source": [
    "I tried to both sum and average the 'negative' binnary variables in new features called **sum_binnay** and **avg_binnary**. However a decrease in the accuracy of the later models was spoted."
   ]
  },
  {
   "cell_type": "code",
   "execution_count": 109,
   "metadata": {},
   "outputs": [],
   "source": [
    "# data['sum_binnary'] = (data['indXlist'] + data['indSimin'] + data['indCreditBureau'] + data['indBadLocation'] + data['indBadDebt'])"
   ]
  },
  {
   "cell_type": "code",
   "execution_count": 110,
   "metadata": {},
   "outputs": [
    {
     "data": {
      "image/png": "[encoded data removed]",
      "text/plain": [
       "<Figure size 1080x576 with 1 Axes>"
      ]
     },
     "metadata": {},
     "output_type": "display_data"
    }
   ],
   "source": [
    "plt.figure(figsize=(15,8))\n",
    "sns.countplot(data[\"sex\"]);"
   ]
  },
  {
   "cell_type": "code",
   "execution_count": 111,
   "metadata": {},
   "outputs": [
    {
     "data": {
      "text/plain": [
       "Counter({'Female': 437524, 'Male': 259728})"
      ]
     },
     "execution_count": 111,
     "metadata": {},
     "output_type": "execute_result"
    }
   ],
   "source": [
    "Counter(data['sex'])"
   ]
  },
  {
   "cell_type": "markdown",
   "metadata": {},
   "source": [
    "I do not want to binnarize the variable sex because it will add multicolinearity to the models. This is why I will transform the factors to **0** and **1**."
   ]
  },
  {
   "cell_type": "code",
   "execution_count": 112,
   "metadata": {},
   "outputs": [],
   "source": [
    "data['sex'][data['sex'] == 'Female'] = 0 \n",
    "data['sex'][data['sex'] == 'Male'] = 1"
   ]
  },
  {
   "cell_type": "markdown",
   "metadata": {},
   "source": [
    "#### Salary"
   ]
  },
  {
   "cell_type": "code",
   "execution_count": 113,
   "metadata": {},
   "outputs": [
    {
     "data": {
      "image/png": "[encoded data removed]",
      "text/plain": [
       "<Figure size 1800x1080 with 1 Axes>"
      ]
     },
     "metadata": {},
     "output_type": "display_data"
    }
   ],
   "source": [
    "plt.figure(figsize=(25,15))\n",
    "sns.countplot(data[\"salary\"]);"
   ]
  },
  {
   "cell_type": "code",
   "execution_count": 114,
   "metadata": {},
   "outputs": [
    {
     "data": {
      "text/plain": [
       "Counter({'[1000,1300)': 349734,\n",
       "         '[1500,2000)': 79699,\n",
       "         '[650,1000)': 71473,\n",
       "         '[2000,3000)': 50983,\n",
       "         '[1300,1500)': 75020,\n",
       "         '>8000': 4097,\n",
       "         '[3000,5000)': 22538,\n",
       "         '<650': 26210,\n",
       "         '[5000,8000)': 9594,\n",
       "         'Unknown': 3237,\n",
       "         'None': 4667})"
      ]
     },
     "execution_count": 114,
     "metadata": {},
     "output_type": "execute_result"
    }
   ],
   "source": [
    "Counter(data['salary'])"
   ]
  },
  {
   "cell_type": "markdown",
   "metadata": {},
   "source": [
    "It comes in form of a range, I will translate the factors to a continuous variable to help the model perform better."
   ]
  },
  {
   "cell_type": "code",
   "execution_count": 115,
   "metadata": {},
   "outputs": [],
   "source": [
    "data['salary'][data['salary'] == 'Unknown'] = 0\n",
    "data['salary'][data['salary'] == 'None'] = 0\n",
    "data['salary'][data['salary'] == '<650'] = 350\n",
    "data['salary'][data['salary'] == '[650,1000)'] = 850\n",
    "data['salary'][data['salary'] == '[1000,1300)'] = 1200\n",
    "data['salary'][data['salary'] == '[1300,1500)'] = 1400\n",
    "data['salary'][data['salary'] == '[1500,2000)'] = 1750\n",
    "data['salary'][data['salary'] == '[2000,3000)'] = 2500\n",
    "data['salary'][data['salary'] == '[3000,5000)'] = 4000\n",
    "data['salary'][data['salary'] == '[5000,8000)'] = 6500\n",
    "data['salary'][data['salary'] == '>8000'] = 9000"
   ]
  },
  {
   "cell_type": "markdown",
   "metadata": {},
   "source": [
    "#### Status"
   ]
  },
  {
   "cell_type": "code",
   "execution_count": 116,
   "metadata": {},
   "outputs": [
    {
     "data": {
      "image/png": "[encoded data removed]",
      "text/plain": [
       "<Figure size 1080x576 with 1 Axes>"
      ]
     },
     "metadata": {},
     "output_type": "display_data"
    }
   ],
   "source": [
    "plt.figure(figsize=(15,8))\n",
    "sns.countplot(data[\"status\"]);"
   ]
  },
  {
   "cell_type": "code",
   "execution_count": 117,
   "metadata": {},
   "outputs": [
    {
     "data": {
      "text/plain": [
       "Counter({'Single': 574387,\n",
       "         'Unknown': 26618,\n",
       "         'Married': 90790,\n",
       "         'Widower': 5080,\n",
       "         'Divorced': 377})"
      ]
     },
     "execution_count": 117,
     "metadata": {},
     "output_type": "execute_result"
    }
   ],
   "source": [
    "Counter(data['status'])"
   ]
  },
  {
   "cell_type": "markdown",
   "metadata": {},
   "source": [
    "Make sure there are no NA's left."
   ]
  },
  {
   "cell_type": "code",
   "execution_count": 118,
   "metadata": {},
   "outputs": [
    {
     "data": {
      "text/plain": [
       "age                            0\n",
       "channel                        0\n",
       "customerID                     0\n",
       "externalScore              11070\n",
       "indBadDebt                     0\n",
       "indBadLocation                 0\n",
       "indCreditBureau                0\n",
       "indInternet                    0\n",
       "indSimin                       0\n",
       "indXlist                       0\n",
       "numLoans                       0\n",
       "numMortgages                   0\n",
       "previous                       0\n",
       "salary                         0\n",
       "sex                            0\n",
       "status                         0\n",
       "sumExternalDefault          3554\n",
       "target                    174313\n",
       "binned_externalScore           0\n",
       "binned_ExternalDefault         0\n",
       "2_or_more_acc                  0\n",
       "dtype: int64"
      ]
     },
     "execution_count": 118,
     "metadata": {},
     "output_type": "execute_result"
    }
   ],
   "source": [
    "data.isnull().sum()"
   ]
  },
  {
   "cell_type": "markdown",
   "metadata": {},
   "source": [
    "I will now delete the variables that are either redundant or the ones that will not be used for the algorithms in the next document."
   ]
  },
  {
   "cell_type": "code",
   "execution_count": 119,
   "metadata": {},
   "outputs": [],
   "source": [
    "del data['externalScore']\n",
    "del data['sumExternalDefault']\n",
    "del data['customerID']"
   ]
  },
  {
   "cell_type": "markdown",
   "metadata": {},
   "source": [
    "I will try to run the model without the variables **numMortgages** and **numLoans** due to their high volume of NA's.\n",
    "I also run teh models with a new variable called **total_products** that was the sum of mortgages and loans. In both instances the performance was worst."
   ]
  },
  {
   "cell_type": "code",
   "execution_count": 120,
   "metadata": {},
   "outputs": [],
   "source": [
    "#del data['numMortgages']\n",
    "#del data['numLoans']"
   ]
  },
  {
   "cell_type": "markdown",
   "metadata": {},
   "source": [
    "### Save Clean Dataset"
   ]
  },
  {
   "cell_type": "code",
   "execution_count": 121,
   "metadata": {},
   "outputs": [],
   "source": [
    "data.to_csv(\"cleaned_data.csv\", index = False)"
   ]
  },
  {
   "cell_type": "markdown",
   "metadata": {},
   "source": [
    "[![https://gyazo.com/06af30d139acc85d8f009ed84d8ae49a](https://i.gyazo.com/06af30d139acc85d8f009ed84d8ae49a.png)](https://gyazo.com/06af30d139acc85d8f009ed84d8ae49a)"
   ]
  },
  {
   "cell_type": "code",
   "execution_count": null,
   "metadata": {},
   "outputs": [],
   "source": []
  }
 ],
 "metadata": {
  "kernelspec": {
   "display_name": "Python 3",
   "language": "python",
   "name": "python3"
  },
  "language_info": {
   "codemirror_mode": {
    "name": "ipython",
    "version": 3
   },
   "file_extension": ".py",
   "mimetype": "text/x-python",
   "name": "python",
   "nbconvert_exporter": "python",
   "pygments_lexer": "ipython3",
   "version": "3.6.5"
  }
 },
 "nbformat": 4,
 "nbformat_minor": 2
}
